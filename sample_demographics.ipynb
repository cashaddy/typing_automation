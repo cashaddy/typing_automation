{
 "cells": [
  {
   "cell_type": "markdown",
   "metadata": {},
   "source": [
    "The purpose of this notebooks is to verify that the filtering that we do to remove invalid participants is not biased towards or against a certain demographic."
   ]
  },
  {
   "cell_type": "code",
   "execution_count": 1,
   "metadata": {},
   "outputs": [],
   "source": [
    "import pandas as pd\n",
    "import processing"
   ]
  },
  {
   "cell_type": "code",
   "execution_count": 8,
   "metadata": {},
   "outputs": [
    {
     "name": "stderr",
     "output_type": "stream",
     "text": [
      "/Users/itto/miniconda3/lib/python3.6/site-packages/IPython/core/interactiveshell.py:2963: DtypeWarning: Columns (20,21,22) have mixed types. Specify dtype option on import or set low_memory=False.\n",
      "  exec(code_obj, self.user_global_ns, self.user_ns)\n"
     ]
    }
   ],
   "source": [
    "log_sample = pd.read_csv('./data/log_sample.csv')\n",
    "log_sample = processing.log_process(log_sample)\n",
    "log = processing.mark_entries(log_sample)\n",
    "log = processing.get_participants_for_log(log)\n",
    "participants = processing.get_participants()"
   ]
  },
  {
   "cell_type": "code",
   "execution_count": 9,
   "metadata": {},
   "outputs": [
    {
     "data": {
      "text/html": [
       "<div>\n",
       "<style scoped>\n",
       "    .dataframe tbody tr th:only-of-type {\n",
       "        vertical-align: middle;\n",
       "    }\n",
       "\n",
       "    .dataframe tbody tr th {\n",
       "        vertical-align: top;\n",
       "    }\n",
       "\n",
       "    .dataframe thead th {\n",
       "        text-align: right;\n",
       "    }\n",
       "</style>\n",
       "<table border=\"1\" class=\"dataframe\">\n",
       "  <thead>\n",
       "    <tr style=\"text-align: right;\">\n",
       "      <th></th>\n",
       "      <th>ts_id</th>\n",
       "      <th>key</th>\n",
       "      <th>lev_dist</th>\n",
       "      <th>text_field</th>\n",
       "      <th>len_diff</th>\n",
       "      <th>iki</th>\n",
       "      <th>text_field_prev</th>\n",
       "      <th>is_rep</th>\n",
       "      <th>ite</th>\n",
       "      <th>is_forward</th>\n",
       "      <th>entry_id</th>\n",
       "      <th>participant_id</th>\n",
       "    </tr>\n",
       "  </thead>\n",
       "  <tbody>\n",
       "    <tr>\n",
       "      <th>0</th>\n",
       "      <td>2710</td>\n",
       "      <td>t</td>\n",
       "      <td>1</td>\n",
       "      <td>t</td>\n",
       "      <td>-1</td>\n",
       "      <td>NaN</td>\n",
       "      <td>NaN</td>\n",
       "      <td>False</td>\n",
       "      <td>none</td>\n",
       "      <td>True</td>\n",
       "      <td>0.0</td>\n",
       "      <td>688</td>\n",
       "    </tr>\n",
       "    <tr>\n",
       "      <th>1</th>\n",
       "      <td>2710</td>\n",
       "      <td>ti</td>\n",
       "      <td>1</td>\n",
       "      <td>ti</td>\n",
       "      <td>1</td>\n",
       "      <td>148.0</td>\n",
       "      <td>t</td>\n",
       "      <td>False</td>\n",
       "      <td>none</td>\n",
       "      <td>True</td>\n",
       "      <td>0.0</td>\n",
       "      <td>688</td>\n",
       "    </tr>\n",
       "    <tr>\n",
       "      <th>2</th>\n",
       "      <td>2710</td>\n",
       "      <td>ti</td>\n",
       "      <td>0</td>\n",
       "      <td>ti</td>\n",
       "      <td>0</td>\n",
       "      <td>104.0</td>\n",
       "      <td>ti</td>\n",
       "      <td>False</td>\n",
       "      <td>none</td>\n",
       "      <td>True</td>\n",
       "      <td>0.0</td>\n",
       "      <td>688</td>\n",
       "    </tr>\n",
       "    <tr>\n",
       "      <th>3</th>\n",
       "      <td>2710</td>\n",
       "      <td>tig</td>\n",
       "      <td>1</td>\n",
       "      <td>tig</td>\n",
       "      <td>1</td>\n",
       "      <td>135.0</td>\n",
       "      <td>ti</td>\n",
       "      <td>False</td>\n",
       "      <td>none</td>\n",
       "      <td>True</td>\n",
       "      <td>0.0</td>\n",
       "      <td>688</td>\n",
       "    </tr>\n",
       "    <tr>\n",
       "      <th>4</th>\n",
       "      <td>2710</td>\n",
       "      <td>tig</td>\n",
       "      <td>0</td>\n",
       "      <td>tig</td>\n",
       "      <td>0</td>\n",
       "      <td>118.0</td>\n",
       "      <td>tig</td>\n",
       "      <td>False</td>\n",
       "      <td>none</td>\n",
       "      <td>True</td>\n",
       "      <td>0.0</td>\n",
       "      <td>688</td>\n",
       "    </tr>\n",
       "  </tbody>\n",
       "</table>\n",
       "</div>"
      ],
      "text/plain": [
       "   ts_id  key  lev_dist text_field  len_diff    iki text_field_prev  is_rep  \\\n",
       "0   2710    t         1          t        -1    NaN             NaN   False   \n",
       "1   2710   ti         1         ti         1  148.0               t   False   \n",
       "2   2710   ti         0         ti         0  104.0              ti   False   \n",
       "3   2710  tig         1        tig         1  135.0              ti   False   \n",
       "4   2710  tig         0        tig         0  118.0             tig   False   \n",
       "\n",
       "    ite  is_forward  entry_id  participant_id  \n",
       "0  none        True       0.0             688  \n",
       "1  none        True       0.0             688  \n",
       "2  none        True       0.0             688  \n",
       "3  none        True       0.0             688  \n",
       "4  none        True       0.0             688  "
      ]
     },
     "execution_count": 9,
     "metadata": {},
     "output_type": "execute_result"
    }
   ],
   "source": [
    "log.head()"
   ]
  },
  {
   "cell_type": "code",
   "execution_count": 10,
   "metadata": {},
   "outputs": [
    {
     "data": {
      "text/html": [
       "<div>\n",
       "<style scoped>\n",
       "    .dataframe tbody tr th:only-of-type {\n",
       "        vertical-align: middle;\n",
       "    }\n",
       "\n",
       "    .dataframe tbody tr th {\n",
       "        vertical-align: top;\n",
       "    }\n",
       "\n",
       "    .dataframe thead th {\n",
       "        text-align: right;\n",
       "    }\n",
       "</style>\n",
       "<table border=\"1\" class=\"dataframe\">\n",
       "  <thead>\n",
       "    <tr style=\"text-align: right;\">\n",
       "      <th></th>\n",
       "      <th>PARTICIPANT_ID</th>\n",
       "      <th>IP_ADDRESS</th>\n",
       "      <th>USER_AGENT</th>\n",
       "      <th>BROWSER_LANGUAGE</th>\n",
       "      <th>DEVICE</th>\n",
       "      <th>SCREEN_W</th>\n",
       "      <th>SCREEN_H</th>\n",
       "      <th>AGE</th>\n",
       "      <th>GENDER</th>\n",
       "      <th>HAS_TAKEN_TYPING_COURSE</th>\n",
       "      <th>...</th>\n",
       "      <th>ITE_PREDICT</th>\n",
       "      <th>ITE_AUTOCORR</th>\n",
       "      <th>ITE_SWYPE_NEW</th>\n",
       "      <th>ITE_PREDICT_NEW</th>\n",
       "      <th>ITE_AUTOCORR_NEW</th>\n",
       "      <th>browser</th>\n",
       "      <th>os</th>\n",
       "      <th>device_family</th>\n",
       "      <th>device_brand</th>\n",
       "      <th>device_model</th>\n",
       "    </tr>\n",
       "  </thead>\n",
       "  <tbody>\n",
       "    <tr>\n",
       "      <th>0</th>\n",
       "      <td>629</td>\n",
       "      <td>110.54.203.10</td>\n",
       "      <td>Mozilla/5.0 (Linux; Android 5.0.2; vivo Y51 Bu...</td>\n",
       "      <td>en-US</td>\n",
       "      <td>mobile</td>\n",
       "      <td>360</td>\n",
       "      <td>640</td>\n",
       "      <td>20</td>\n",
       "      <td>male</td>\n",
       "      <td>0</td>\n",
       "      <td>...</td>\n",
       "      <td>0.034259</td>\n",
       "      <td>0.000000</td>\n",
       "      <td>0.000000</td>\n",
       "      <td>0.000000</td>\n",
       "      <td>0.000000</td>\n",
       "      <td>Facebook</td>\n",
       "      <td>Android</td>\n",
       "      <td>vivo Y51</td>\n",
       "      <td>vivo</td>\n",
       "      <td>Y51</td>\n",
       "    </tr>\n",
       "    <tr>\n",
       "      <th>1</th>\n",
       "      <td>632</td>\n",
       "      <td>115.164.40.232</td>\n",
       "      <td>Mozilla/5.0 (Linux; Android 7.0; vivo 1713 Bui...</td>\n",
       "      <td>en-US</td>\n",
       "      <td>mobile</td>\n",
       "      <td>360</td>\n",
       "      <td>640</td>\n",
       "      <td>24</td>\n",
       "      <td>male</td>\n",
       "      <td>0</td>\n",
       "      <td>...</td>\n",
       "      <td>0.157132</td>\n",
       "      <td>0.013333</td>\n",
       "      <td>0.054709</td>\n",
       "      <td>0.134725</td>\n",
       "      <td>0.015000</td>\n",
       "      <td>Chrome Mobile WebView</td>\n",
       "      <td>Android</td>\n",
       "      <td>vivo 1713</td>\n",
       "      <td>vivo</td>\n",
       "      <td>1713</td>\n",
       "    </tr>\n",
       "    <tr>\n",
       "      <th>2</th>\n",
       "      <td>669</td>\n",
       "      <td>122.8.244.180</td>\n",
       "      <td>Mozilla/5.0 (Linux; Android 6.0; LG-V495 Build...</td>\n",
       "      <td>en-US,en;q=0.8</td>\n",
       "      <td>mobile</td>\n",
       "      <td>601</td>\n",
       "      <td>962</td>\n",
       "      <td>16</td>\n",
       "      <td>female</td>\n",
       "      <td>0</td>\n",
       "      <td>...</td>\n",
       "      <td>0.037251</td>\n",
       "      <td>0.045875</td>\n",
       "      <td>0.092886</td>\n",
       "      <td>0.099632</td>\n",
       "      <td>0.051431</td>\n",
       "      <td>Chrome</td>\n",
       "      <td>Android</td>\n",
       "      <td>LG-V495</td>\n",
       "      <td>LG</td>\n",
       "      <td>V495</td>\n",
       "    </tr>\n",
       "    <tr>\n",
       "      <th>3</th>\n",
       "      <td>673</td>\n",
       "      <td>37.219.99.214</td>\n",
       "      <td>Mozilla/5.0 (Linux; Android 6.0; HTC One X9 du...</td>\n",
       "      <td>en-US,en;q=0.9</td>\n",
       "      <td>mobile</td>\n",
       "      <td>360</td>\n",
       "      <td>640</td>\n",
       "      <td>27</td>\n",
       "      <td>female</td>\n",
       "      <td>0</td>\n",
       "      <td>...</td>\n",
       "      <td>0.186325</td>\n",
       "      <td>0.187377</td>\n",
       "      <td>0.000000</td>\n",
       "      <td>0.155214</td>\n",
       "      <td>0.187377</td>\n",
       "      <td>Chrome Mobile</td>\n",
       "      <td>Android</td>\n",
       "      <td>HTC One X9 dual sim</td>\n",
       "      <td>HTC</td>\n",
       "      <td>One X9 dual sim</td>\n",
       "    </tr>\n",
       "    <tr>\n",
       "      <th>4</th>\n",
       "      <td>674</td>\n",
       "      <td>118.93.226.60</td>\n",
       "      <td>Mozilla/5.0 (iPhone; CPU iPhone OS 11_4_1 like...</td>\n",
       "      <td>en-us</td>\n",
       "      <td>mobile</td>\n",
       "      <td>375</td>\n",
       "      <td>667</td>\n",
       "      <td>24</td>\n",
       "      <td>female</td>\n",
       "      <td>0</td>\n",
       "      <td>...</td>\n",
       "      <td>0.246296</td>\n",
       "      <td>0.007407</td>\n",
       "      <td>0.073333</td>\n",
       "      <td>0.112963</td>\n",
       "      <td>0.014074</td>\n",
       "      <td>Mobile Safari</td>\n",
       "      <td>iOS</td>\n",
       "      <td>iPhone</td>\n",
       "      <td>Apple</td>\n",
       "      <td>iPhone</td>\n",
       "    </tr>\n",
       "  </tbody>\n",
       "</table>\n",
       "<p>5 rows × 37 columns</p>\n",
       "</div>"
      ],
      "text/plain": [
       "   PARTICIPANT_ID      IP_ADDRESS  \\\n",
       "0             629   110.54.203.10   \n",
       "1             632  115.164.40.232   \n",
       "2             669   122.8.244.180   \n",
       "3             673   37.219.99.214   \n",
       "4             674   118.93.226.60   \n",
       "\n",
       "                                          USER_AGENT BROWSER_LANGUAGE  DEVICE  \\\n",
       "0  Mozilla/5.0 (Linux; Android 5.0.2; vivo Y51 Bu...            en-US  mobile   \n",
       "1  Mozilla/5.0 (Linux; Android 7.0; vivo 1713 Bui...            en-US  mobile   \n",
       "2  Mozilla/5.0 (Linux; Android 6.0; LG-V495 Build...   en-US,en;q=0.8  mobile   \n",
       "3  Mozilla/5.0 (Linux; Android 6.0; HTC One X9 du...   en-US,en;q=0.9  mobile   \n",
       "4  Mozilla/5.0 (iPhone; CPU iPhone OS 11_4_1 like...            en-us  mobile   \n",
       "\n",
       "   SCREEN_W  SCREEN_H  AGE  GENDER  HAS_TAKEN_TYPING_COURSE       ...         \\\n",
       "0       360       640   20    male                        0       ...          \n",
       "1       360       640   24    male                        0       ...          \n",
       "2       601       962   16  female                        0       ...          \n",
       "3       360       640   27  female                        0       ...          \n",
       "4       375       667   24  female                        0       ...          \n",
       "\n",
       "  ITE_PREDICT  ITE_AUTOCORR  ITE_SWYPE_NEW ITE_PREDICT_NEW ITE_AUTOCORR_NEW  \\\n",
       "0    0.034259      0.000000       0.000000        0.000000         0.000000   \n",
       "1    0.157132      0.013333       0.054709        0.134725         0.015000   \n",
       "2    0.037251      0.045875       0.092886        0.099632         0.051431   \n",
       "3    0.186325      0.187377       0.000000        0.155214         0.187377   \n",
       "4    0.246296      0.007407       0.073333        0.112963         0.014074   \n",
       "\n",
       "                 browser       os        device_family device_brand  \\\n",
       "0               Facebook  Android             vivo Y51         vivo   \n",
       "1  Chrome Mobile WebView  Android            vivo 1713         vivo   \n",
       "2                 Chrome  Android              LG-V495           LG   \n",
       "3          Chrome Mobile  Android  HTC One X9 dual sim          HTC   \n",
       "4          Mobile Safari      iOS               iPhone        Apple   \n",
       "\n",
       "      device_model  \n",
       "0              Y51  \n",
       "1             1713  \n",
       "2             V495  \n",
       "3  One X9 dual sim  \n",
       "4           iPhone  \n",
       "\n",
       "[5 rows x 37 columns]"
      ]
     },
     "execution_count": 10,
     "metadata": {},
     "output_type": "execute_result"
    }
   ],
   "source": [
    "participants.head()"
   ]
  },
  {
   "cell_type": "markdown",
   "metadata": {},
   "source": [
    "### Filtering the undefined keys"
   ]
  },
  {
   "cell_type": "code",
   "execution_count": 63,
   "metadata": {},
   "outputs": [],
   "source": [
    "ts = pd.read_csv('./data/test_sections.csv',sep='\\t')"
   ]
  },
  {
   "cell_type": "code",
   "execution_count": 97,
   "metadata": {},
   "outputs": [],
   "source": [
    "participants_invalid1 = ts.loc[ts.is_valid == 0].PARTICIPANT_ID.unique()"
   ]
  },
  {
   "cell_type": "code",
   "execution_count": 98,
   "metadata": {},
   "outputs": [],
   "source": [
    "participants.loc[~participants.PARTICIPANT_ID.isin(participants_invalid1),'is_valid'] = True\n",
    "participants.loc[participants.PARTICIPANT_ID.isin(participants_invalid1),'is_valid'] = False"
   ]
  },
  {
   "cell_type": "code",
   "execution_count": 65,
   "metadata": {},
   "outputs": [
    {
     "data": {
      "text/plain": [
       "True     0.899165\n",
       "False    0.100835\n",
       "Name: is_valid, dtype: float64"
      ]
     },
     "execution_count": 65,
     "metadata": {},
     "output_type": "execute_result"
    }
   ],
   "source": [
    "participants.is_valid.value_counts(normalize = True)"
   ]
  },
  {
   "cell_type": "code",
   "execution_count": 75,
   "metadata": {},
   "outputs": [
    {
     "data": {
      "text/plain": [
       "is_valid  os           \n",
       "False     Android          0.938819\n",
       "          iOS              0.055380\n",
       "          Windows Phone    0.005802\n",
       "True      iOS              0.539392\n",
       "          Android          0.460578\n",
       "          Other            0.000030\n",
       "Name: os, dtype: float64"
      ]
     },
     "execution_count": 75,
     "metadata": {},
     "output_type": "execute_result"
    }
   ],
   "source": [
    "participants.groupby('is_valid').os.value_counts(normalize=True)"
   ]
  },
  {
   "cell_type": "code",
   "execution_count": 66,
   "metadata": {},
   "outputs": [
    {
     "data": {
      "text/plain": [
       "is_valid  browser                   \n",
       "False     Samsung Internet              0.420622\n",
       "          Chrome Mobile                 0.327268\n",
       "          UC Browser                    0.066456\n",
       "          Mobile Safari                 0.047996\n",
       "          Facebook                      0.035601\n",
       "          Firefox Mobile                0.027426\n",
       "          Opera Mobile                  0.025053\n",
       "          Chrome Mobile WebView         0.020570\n",
       "          Chrome                        0.014768\n",
       "          Edge Mobile                   0.005802\n",
       "          Chrome Mobile iOS             0.002110\n",
       "          QQ Browser Mobile             0.002110\n",
       "          Crosswalk                     0.001582\n",
       "          Pinterest                     0.001055\n",
       "          Mobile Safari UI/WKWebView    0.000791\n",
       "          Android                       0.000527\n",
       "          Amazon Silk                   0.000264\n",
       "True      Mobile Safari                 0.473502\n",
       "          Chrome Mobile                 0.391258\n",
       "          Facebook                      0.047111\n",
       "          Chrome Mobile iOS             0.036257\n",
       "          Chrome Mobile WebView         0.012657\n",
       "          Samsung Internet              0.011741\n",
       "          Mobile Safari UI/WKWebView    0.009759\n",
       "          Chrome                        0.007807\n",
       "          Opera Mobile                  0.004052\n",
       "          Amazon Silk                   0.002129\n",
       "          Pinterest                     0.001922\n",
       "          UC Browser                    0.000710\n",
       "          Firefox iOS                   0.000651\n",
       "          Puffin                        0.000207\n",
       "          Android                       0.000089\n",
       "          Opera Mini                    0.000059\n",
       "          Coc Coc                       0.000030\n",
       "          Other                         0.000030\n",
       "          Yandex Browser                0.000030\n",
       "Name: browser, dtype: float64"
      ]
     },
     "execution_count": 66,
     "metadata": {},
     "output_type": "execute_result"
    }
   ],
   "source": [
    "participants.groupby('is_valid').browser.value_counts(normalize=True)"
   ]
  },
  {
   "cell_type": "code",
   "execution_count": 76,
   "metadata": {},
   "outputs": [
    {
     "data": {
      "text/plain": [
       "is_valid  browser                   \n",
       "False     Mobile Safari                 0.866667\n",
       "          Facebook                      0.071429\n",
       "          Chrome Mobile iOS             0.038095\n",
       "          Mobile Safari UI/WKWebView    0.014286\n",
       "          Pinterest                     0.009524\n",
       "True      Mobile Safari                 0.877844\n",
       "          Chrome Mobile iOS             0.067219\n",
       "          Facebook                      0.033061\n",
       "          Mobile Safari UI/WKWebView    0.018093\n",
       "          Pinterest                     0.002083\n",
       "          Firefox iOS                   0.001206\n",
       "          UC Browser                    0.000384\n",
       "          Opera Mini                    0.000110\n",
       "Name: browser, dtype: float64"
      ]
     },
     "execution_count": 76,
     "metadata": {},
     "output_type": "execute_result"
    }
   ],
   "source": [
    "participants.loc[participants.os == 'iOS'].groupby('is_valid').browser.value_counts(normalize=True)"
   ]
  },
  {
   "cell_type": "code",
   "execution_count": 84,
   "metadata": {},
   "outputs": [
    {
     "data": {
      "text/plain": [
       "is_valid  device_brand   \n",
       "False     Samsung            0.550105\n",
       "True      Apple              0.539408\n",
       "          Generic            0.180788\n",
       "False     Generic_Android    0.130274\n",
       "True      Samsung            0.093100\n",
       "False     Generic            0.070675\n",
       "          Apple              0.055380\n",
       "True      Generic_Android    0.052997\n",
       "False     XiaoMi             0.033755\n",
       "True      LG                 0.029545\n",
       "          XiaoMi             0.025671\n",
       "False     Huawei             0.025316\n",
       "          LG                 0.020833\n",
       "True      Huawei             0.019578\n",
       "False     Tecno              0.016614\n",
       "          vivo               0.015295\n",
       "True      vivo               0.013249\n",
       "False     ZTE                0.011603\n",
       "          Motorola           0.011340\n",
       "          Lenovo             0.011076\n",
       "Name: device_brand, dtype: float64"
      ]
     },
     "execution_count": 84,
     "metadata": {},
     "output_type": "execute_result"
    }
   ],
   "source": [
    "participants.groupby('is_valid').device_brand.value_counts(normalize=True).nlargest(20)"
   ]
  },
  {
   "cell_type": "markdown",
   "metadata": {},
   "source": [
    "**Conclusion:** The undefined key behaviour occurs to a moderate percenatage (~ 10%) of users. It is largely restricted to Android users, and to mainly Samsung brands."
   ]
  },
  {
   "cell_type": "markdown",
   "metadata": {},
   "source": [
    "### Filtering the multiple character keys"
   ]
  },
  {
   "cell_type": "code",
   "execution_count": 99,
   "metadata": {},
   "outputs": [],
   "source": [
    "# Find the weird multichar behaviour\n",
    "# First action of an entry is single letter AND following two actions in the entry have increasing # of chars\n",
    "index_first = log.groupby(['ts_id','entry_id']).head(1).index\n",
    "mask = log.index.isin(index_first)\n",
    "mask &= log.key.str.len() == 1\n",
    "mask &= log.key.shift(-1).str.len() > log.key.str.len()\n",
    "mask &= log.key.shift(-2).str.len() > log.key.shift(-1).str.len()\n",
    "mask &= log.entry_id.shift(-1) == log.entry_id\n",
    "mask &= log.entry_id.shift(-2) == log.entry_id.shift(-1)\n",
    "\n",
    "participants_invalid2 = log.loc[mask].participant_id.unique()"
   ]
  },
  {
   "cell_type": "code",
   "execution_count": 88,
   "metadata": {},
   "outputs": [],
   "source": [
    "participants.loc[~participants.PARTICIPANT_ID.isin(participants_invalid2),'is_valid'] = True\n",
    "participants.loc[participants.PARTICIPANT_ID.isin(participants_invalid2),'is_valid'] = False"
   ]
  },
  {
   "cell_type": "code",
   "execution_count": 89,
   "metadata": {},
   "outputs": [
    {
     "data": {
      "text/plain": [
       "True     0.955619\n",
       "False    0.044381\n",
       "Name: is_valid, dtype: float64"
      ]
     },
     "execution_count": 89,
     "metadata": {},
     "output_type": "execute_result"
    }
   ],
   "source": [
    "participants.is_valid.value_counts(normalize = True)"
   ]
  },
  {
   "cell_type": "code",
   "execution_count": 90,
   "metadata": {},
   "outputs": [
    {
     "data": {
      "text/plain": [
       "is_valid  browser                   \n",
       "False     Chrome Mobile                 0.857999\n",
       "          Facebook                      0.044338\n",
       "          Chrome Mobile WebView         0.027561\n",
       "          Samsung Internet              0.027561\n",
       "          Chrome                        0.019772\n",
       "          Amazon Silk                   0.005992\n",
       "          Opera Mobile                  0.005992\n",
       "          Pinterest                     0.004793\n",
       "          Mobile Safari                 0.003595\n",
       "          UC Browser                    0.001198\n",
       "          Puffin                        0.000599\n",
       "          Yandex Browser                0.000599\n",
       "True      Mobile Safari                 0.450427\n",
       "          Chrome Mobile                 0.362829\n",
       "          Samsung Internet              0.054150\n",
       "          Facebook                      0.046025\n",
       "          Chrome Mobile iOS             0.034338\n",
       "          Chrome Mobile WebView         0.012800\n",
       "          Mobile Safari UI/WKWebView    0.009266\n",
       "          Chrome                        0.007986\n",
       "          UC Browser                    0.007624\n",
       "          Opera Mobile                  0.006177\n",
       "          Firefox Mobile                0.002894\n",
       "          Amazon Silk                   0.001753\n",
       "          Pinterest                     0.001697\n",
       "          Edge Mobile                   0.000612\n",
       "          Firefox iOS                   0.000612\n",
       "          QQ Browser Mobile             0.000223\n",
       "          Crosswalk                     0.000167\n",
       "          Puffin                        0.000167\n",
       "          Android                       0.000139\n",
       "          Opera Mini                    0.000056\n",
       "          Coc Coc                       0.000028\n",
       "          Other                         0.000028\n",
       "Name: browser, dtype: float64"
      ]
     },
     "execution_count": 90,
     "metadata": {},
     "output_type": "execute_result"
    }
   ],
   "source": [
    "participants.groupby('is_valid').browser.value_counts(normalize=True)"
   ]
  },
  {
   "cell_type": "code",
   "execution_count": 91,
   "metadata": {},
   "outputs": [
    {
     "data": {
      "text/plain": [
       "is_valid  os           \n",
       "False     Android          0.996405\n",
       "          iOS              0.003595\n",
       "True      iOS              0.513204\n",
       "          Android          0.486156\n",
       "          Windows Phone    0.000612\n",
       "          Other            0.000028\n",
       "Name: os, dtype: float64"
      ]
     },
     "execution_count": 91,
     "metadata": {},
     "output_type": "execute_result"
    }
   ],
   "source": [
    "participants.groupby('is_valid').os.value_counts(normalize=True)"
   ]
  },
  {
   "cell_type": "code",
   "execution_count": 92,
   "metadata": {},
   "outputs": [
    {
     "data": {
      "text/plain": [
       "is_valid  device_brand   \n",
       "True      Apple              0.513218\n",
       "False     Generic            0.417615\n",
       "          Samsung            0.190533\n",
       "True      Generic            0.158170\n",
       "          Samsung            0.136799\n",
       "False     Generic_Android    0.118035\n",
       "          LG                 0.082684\n",
       "True      Generic_Android    0.058131\n",
       "False     XiaoMi             0.046735\n",
       "True      LG                 0.026158\n",
       "          XiaoMi             0.025545\n",
       "False     Huawei             0.025165\n",
       "          Motorola           0.020971\n",
       "True      Huawei             0.019924\n",
       "False     vivo               0.014979\n",
       "True      vivo               0.013385\n",
       "False     Lenovo             0.013182\n",
       "          HTC                0.011384\n",
       "          ZTE                0.010785\n",
       "          Infinix            0.007190\n",
       "Name: device_brand, dtype: float64"
      ]
     },
     "execution_count": 92,
     "metadata": {},
     "output_type": "execute_result"
    }
   ],
   "source": [
    "participants.groupby('is_valid').device_brand.value_counts(normalize=True).nlargest(20)"
   ]
  },
  {
   "cell_type": "markdown",
   "metadata": {},
   "source": [
    "**Conclusion:** The multicharacter behaviour occurs to a small percenatage (~ 5%) of users. It is restricted to Android users, and to mainly 'Generic\" brands."
   ]
  },
  {
   "cell_type": "markdown",
   "metadata": {},
   "source": [
    "### Demographics"
   ]
  },
  {
   "cell_type": "markdown",
   "metadata": {},
   "source": [
    "After removing all invalid groups, are the demographics affected?"
   ]
  },
  {
   "cell_type": "code",
   "execution_count": 100,
   "metadata": {},
   "outputs": [],
   "source": [
    "mask = participants.PARTICIPANT_ID.isin(participants_invalid1)\n",
    "mask |= participants.PARTICIPANT_ID.isin(participants_invalid2)\n",
    "\n",
    "participants.loc[~mask,'is_valid'] = True\n",
    "participants.loc[mask,'is_valid'] = False"
   ]
  },
  {
   "cell_type": "code",
   "execution_count": 136,
   "metadata": {},
   "outputs": [
    {
     "data": {
      "text/plain": [
       "True     0.854784\n",
       "False    0.145216\n",
       "Name: is_valid, dtype: float64"
      ]
     },
     "execution_count": 136,
     "metadata": {},
     "output_type": "execute_result"
    }
   ],
   "source": [
    "participants.is_valid.value_counts(normalize=True)"
   ]
  },
  {
   "cell_type": "code",
   "execution_count": 108,
   "metadata": {},
   "outputs": [],
   "source": [
    "percentiles = [0.05,0.1,0.25,0.5,0.75,0.9,0.95]"
   ]
  },
  {
   "cell_type": "code",
   "execution_count": 101,
   "metadata": {},
   "outputs": [
    {
     "data": {
      "text/plain": [
       "is_valid  GENDER\n",
       "False     female    0.621498\n",
       "          male      0.339498\n",
       "          none      0.039004\n",
       "True      female    0.650490\n",
       "          male      0.302069\n",
       "          none      0.047441\n",
       "Name: GENDER, dtype: float64"
      ]
     },
     "execution_count": 101,
     "metadata": {},
     "output_type": "execute_result"
    }
   ],
   "source": [
    "participants.groupby('is_valid').GENDER.value_counts(normalize=True)"
   ]
  },
  {
   "cell_type": "code",
   "execution_count": 112,
   "metadata": {},
   "outputs": [
    {
     "data": {
      "text/html": [
       "<div>\n",
       "<style scoped>\n",
       "    .dataframe tbody tr th:only-of-type {\n",
       "        vertical-align: middle;\n",
       "    }\n",
       "\n",
       "    .dataframe tbody tr th {\n",
       "        vertical-align: top;\n",
       "    }\n",
       "\n",
       "    .dataframe thead th {\n",
       "        text-align: right;\n",
       "    }\n",
       "</style>\n",
       "<table border=\"1\" class=\"dataframe\">\n",
       "  <thead>\n",
       "    <tr style=\"text-align: right;\">\n",
       "      <th></th>\n",
       "      <th>count</th>\n",
       "      <th>mean</th>\n",
       "      <th>std</th>\n",
       "      <th>min</th>\n",
       "      <th>25%</th>\n",
       "      <th>50%</th>\n",
       "      <th>75%</th>\n",
       "      <th>max</th>\n",
       "    </tr>\n",
       "    <tr>\n",
       "      <th>is_valid</th>\n",
       "      <th></th>\n",
       "      <th></th>\n",
       "      <th></th>\n",
       "      <th></th>\n",
       "      <th></th>\n",
       "      <th></th>\n",
       "      <th></th>\n",
       "      <th></th>\n",
       "    </tr>\n",
       "  </thead>\n",
       "  <tbody>\n",
       "    <tr>\n",
       "      <th>False</th>\n",
       "      <td>5461.0</td>\n",
       "      <td>25.683025</td>\n",
       "      <td>8.793961</td>\n",
       "      <td>6.0</td>\n",
       "      <td>20.0</td>\n",
       "      <td>24.0</td>\n",
       "      <td>30.0</td>\n",
       "      <td>61.0</td>\n",
       "    </tr>\n",
       "    <tr>\n",
       "      <th>True</th>\n",
       "      <td>32145.0</td>\n",
       "      <td>23.897496</td>\n",
       "      <td>8.848265</td>\n",
       "      <td>6.0</td>\n",
       "      <td>18.0</td>\n",
       "      <td>22.0</td>\n",
       "      <td>28.0</td>\n",
       "      <td>61.0</td>\n",
       "    </tr>\n",
       "  </tbody>\n",
       "</table>\n",
       "</div>"
      ],
      "text/plain": [
       "            count       mean       std  min   25%   50%   75%   max\n",
       "is_valid                                                           \n",
       "False      5461.0  25.683025  8.793961  6.0  20.0  24.0  30.0  61.0\n",
       "True      32145.0  23.897496  8.848265  6.0  18.0  22.0  28.0  61.0"
      ]
     },
     "execution_count": 112,
     "metadata": {},
     "output_type": "execute_result"
    }
   ],
   "source": [
    "participants.groupby('is_valid').AGE.describe()"
   ]
  },
  {
   "cell_type": "code",
   "execution_count": 129,
   "metadata": {},
   "outputs": [
    {
     "data": {
      "text/plain": [
       "is_valid  TYPE_ENGLISH\n",
       "False     always          0.412551\n",
       "          usually         0.291496\n",
       "          sometimes       0.229484\n",
       "          rarely          0.053843\n",
       "          never           0.012625\n",
       "True      always          0.484009\n",
       "          usually         0.268620\n",
       "          sometimes       0.191312\n",
       "          rarely          0.043223\n",
       "          never           0.012836\n",
       "Name: TYPE_ENGLISH, dtype: float64"
      ]
     },
     "execution_count": 129,
     "metadata": {},
     "output_type": "execute_result"
    }
   ],
   "source": [
    "participants.groupby('is_valid').TYPE_ENGLISH.value_counts(normalize=True)"
   ]
  },
  {
   "cell_type": "code",
   "execution_count": 134,
   "metadata": {},
   "outputs": [
    {
     "data": {
      "text/plain": [
       "is_valid  BROWSER_LANGUAGE          \n",
       "True      en-us                         0.443366\n",
       "False     en-US,en;q=0.8                0.235488\n",
       "          en-US,en;q=0.9                0.194836\n",
       "True      en-US,en;q=0.9                0.193218\n",
       "False     en-US                         0.096319\n",
       "          en-GB,en-US;q=0.8,en;q=0.6    0.091375\n",
       "True      en-GB,en-US;q=0.9,en;q=0.8    0.053414\n",
       "          en-gb                         0.047099\n",
       "False     en-GB,en-US;q=0.9,en;q=0.8    0.043765\n",
       "          en-us                         0.030031\n",
       "Name: BROWSER_LANGUAGE, dtype: float64"
      ]
     },
     "execution_count": 134,
     "metadata": {},
     "output_type": "execute_result"
    }
   ],
   "source": [
    "participants.groupby('is_valid').BROWSER_LANGUAGE.value_counts(normalize=True).nlargest(10)"
   ]
  },
  {
   "cell_type": "code",
   "execution_count": 127,
   "metadata": {},
   "outputs": [
    {
     "data": {
      "text/html": [
       "<div>\n",
       "<style scoped>\n",
       "    .dataframe tbody tr th:only-of-type {\n",
       "        vertical-align: middle;\n",
       "    }\n",
       "\n",
       "    .dataframe tbody tr th {\n",
       "        vertical-align: top;\n",
       "    }\n",
       "\n",
       "    .dataframe thead th {\n",
       "        text-align: right;\n",
       "    }\n",
       "</style>\n",
       "<table border=\"1\" class=\"dataframe\">\n",
       "  <thead>\n",
       "    <tr style=\"text-align: right;\">\n",
       "      <th></th>\n",
       "      <th>count</th>\n",
       "      <th>mean</th>\n",
       "      <th>std</th>\n",
       "      <th>min</th>\n",
       "      <th>25%</th>\n",
       "      <th>50%</th>\n",
       "      <th>75%</th>\n",
       "      <th>max</th>\n",
       "    </tr>\n",
       "    <tr>\n",
       "      <th>is_valid</th>\n",
       "      <th></th>\n",
       "      <th></th>\n",
       "      <th></th>\n",
       "      <th></th>\n",
       "      <th></th>\n",
       "      <th></th>\n",
       "      <th></th>\n",
       "      <th></th>\n",
       "    </tr>\n",
       "  </thead>\n",
       "  <tbody>\n",
       "    <tr>\n",
       "      <th>False</th>\n",
       "      <td>5461.0</td>\n",
       "      <td>31.637835</td>\n",
       "      <td>11.787545</td>\n",
       "      <td>0.689707</td>\n",
       "      <td>23.650195</td>\n",
       "      <td>30.116277</td>\n",
       "      <td>38.059934</td>\n",
       "      <td>154.257192</td>\n",
       "    </tr>\n",
       "    <tr>\n",
       "      <th>True</th>\n",
       "      <td>32145.0</td>\n",
       "      <td>36.896674</td>\n",
       "      <td>13.299399</td>\n",
       "      <td>0.019106</td>\n",
       "      <td>27.418723</td>\n",
       "      <td>35.278929</td>\n",
       "      <td>44.836511</td>\n",
       "      <td>148.166012</td>\n",
       "    </tr>\n",
       "  </tbody>\n",
       "</table>\n",
       "</div>"
      ],
      "text/plain": [
       "            count       mean        std       min        25%        50%  \\\n",
       "is_valid                                                                  \n",
       "False      5461.0  31.637835  11.787545  0.689707  23.650195  30.116277   \n",
       "True      32145.0  36.896674  13.299399  0.019106  27.418723  35.278929   \n",
       "\n",
       "                75%         max  \n",
       "is_valid                         \n",
       "False     38.059934  154.257192  \n",
       "True      44.836511  148.166012  "
      ]
     },
     "execution_count": 127,
     "metadata": {},
     "output_type": "execute_result"
    }
   ],
   "source": [
    "participants.groupby('is_valid').WPM.describe()"
   ]
  },
  {
   "cell_type": "code",
   "execution_count": 124,
   "metadata": {},
   "outputs": [
    {
     "data": {
      "text/html": [
       "<div>\n",
       "<style scoped>\n",
       "    .dataframe tbody tr th:only-of-type {\n",
       "        vertical-align: middle;\n",
       "    }\n",
       "\n",
       "    .dataframe tbody tr th {\n",
       "        vertical-align: top;\n",
       "    }\n",
       "\n",
       "    .dataframe thead th {\n",
       "        text-align: right;\n",
       "    }\n",
       "</style>\n",
       "<table border=\"1\" class=\"dataframe\">\n",
       "  <thead>\n",
       "    <tr style=\"text-align: right;\">\n",
       "      <th></th>\n",
       "      <th>count</th>\n",
       "      <th>mean</th>\n",
       "      <th>std</th>\n",
       "      <th>min</th>\n",
       "      <th>25%</th>\n",
       "      <th>50%</th>\n",
       "      <th>75%</th>\n",
       "      <th>max</th>\n",
       "    </tr>\n",
       "    <tr>\n",
       "      <th>is_valid</th>\n",
       "      <th></th>\n",
       "      <th></th>\n",
       "      <th></th>\n",
       "      <th></th>\n",
       "      <th></th>\n",
       "      <th></th>\n",
       "      <th></th>\n",
       "      <th></th>\n",
       "    </tr>\n",
       "  </thead>\n",
       "  <tbody>\n",
       "    <tr>\n",
       "      <th>False</th>\n",
       "      <td>5461.0</td>\n",
       "      <td>2.144371</td>\n",
       "      <td>2.074338</td>\n",
       "      <td>0.0</td>\n",
       "      <td>0.814332</td>\n",
       "      <td>1.554404</td>\n",
       "      <td>2.811550</td>\n",
       "      <td>23.824959</td>\n",
       "    </tr>\n",
       "    <tr>\n",
       "      <th>True</th>\n",
       "      <td>32145.0</td>\n",
       "      <td>2.371068</td>\n",
       "      <td>2.081737</td>\n",
       "      <td>0.0</td>\n",
       "      <td>1.003344</td>\n",
       "      <td>1.772526</td>\n",
       "      <td>3.114187</td>\n",
       "      <td>24.348607</td>\n",
       "    </tr>\n",
       "  </tbody>\n",
       "</table>\n",
       "</div>"
      ],
      "text/plain": [
       "            count      mean       std  min       25%       50%       75%  \\\n",
       "is_valid                                                                   \n",
       "False      5461.0  2.144371  2.074338  0.0  0.814332  1.554404  2.811550   \n",
       "True      32145.0  2.371068  2.081737  0.0  1.003344  1.772526  3.114187   \n",
       "\n",
       "                max  \n",
       "is_valid             \n",
       "False     23.824959  \n",
       "True      24.348607  "
      ]
     },
     "execution_count": 124,
     "metadata": {},
     "output_type": "execute_result"
    }
   ],
   "source": [
    "participants.groupby('is_valid').ERROR_RATE.describe()"
   ]
  },
  {
   "cell_type": "markdown",
   "metadata": {},
   "source": [
    "**Conclusion:** Almost 15% of the data was marked as invalid. The invalid group consists of a very slightly older and more male group. This group types in English less frequently. The group exhibits a slightly lower typing speed (WPM)."
   ]
  },
  {
   "cell_type": "code",
   "execution_count": null,
   "metadata": {},
   "outputs": [],
   "source": []
  }
 ],
 "metadata": {
  "kernelspec": {
   "display_name": "Python 3",
   "language": "python",
   "name": "python3"
  },
  "language_info": {
   "codemirror_mode": {
    "name": "ipython",
    "version": 3
   },
   "file_extension": ".py",
   "mimetype": "text/x-python",
   "name": "python",
   "nbconvert_exporter": "python",
   "pygments_lexer": "ipython3",
   "version": "3.6.7"
  }
 },
 "nbformat": 4,
 "nbformat_minor": 2
}
