{
 "cells": [
  {
   "cell_type": "code",
   "execution_count": 2,
   "metadata": {},
   "outputs": [],
   "source": [
    "import pandas as pd\n",
    "import numpy as np\n",
    "import processing"
   ]
  },
  {
   "cell_type": "code",
   "execution_count": 3,
   "metadata": {},
   "outputs": [],
   "source": [
    "log = pd.read_csv('./data/log_valid_processed.csv')"
   ]
  },
  {
   "cell_type": "code",
   "execution_count": 4,
   "metadata": {},
   "outputs": [],
   "source": [
    "# Aggregate the log into words\n",
    "words = processing.log_to_words(log)"
   ]
  },
  {
   "cell_type": "code",
   "execution_count": 5,
   "metadata": {},
   "outputs": [],
   "source": [
    "# Process\n",
    "words = processing.process_words(words)\n",
    "\n",
    "# Refine and add substrategies\n",
    "# Contractions\n",
    "mask = words.ite == 'predict'\n",
    "mask &= words.ite_lev_dist == 1\n",
    "mask &= words.ite_len_diff == 1\n",
    "mask &= words.ite_input_key.str.contains(\"'\")\n",
    "mask &= ~words.loc[mask].ite_input_prev.str.contains(\"'\")\n",
    "words.loc[mask, 'ite2'] = 'contraction'\n",
    "\n",
    "# Capitalizations\n",
    "mask = words.ite == 'predict'\n",
    "mask &= words.ite_lev_dist == 0\n",
    "mask &= words.ite_len_diff == 0\n",
    "mask &= words.ite_input_prev.str.contains('^[a-z]+$')\n",
    "mask &= words.ite_input_key.str.contains('[A-Z]')\n",
    "words.loc[mask, 'ite2'] = 'capitalization'\n",
    "\n",
    "# Remove the no changes that actually have changes\n",
    "mask = words.ite2 == 'no_change'\n",
    "mask &= words.ite_input != words.ite_input_prev\n",
    "words.loc[mask, 'ite2'] = 'other'\n",
    "\n",
    "# A lot of the \"other\" ite2 is actually an added space\n",
    "mask = words.ite_input_key.str.split().str.len() > 1 # Ite input has more than one word\n",
    "mask &= words.ite_input_key.str.replace(' ', '') == words.ite_input_prev # After removing spaces, should equal previous text field\n",
    "words.loc[mask, 'ite2'] = 'add_space'\n",
    "\n",
    "# Strategic use: User changed the word after using prediction\n",
    "words['strategic'] = None\n",
    "# Default is False for all predictions\n",
    "words.loc[words.ite == 'predict', 'strategic'] = 'none'\n",
    "# Mask: prediction where the selected suggestion was not the final word\n",
    "mask = words.ite == 'predict'\n",
    "mask &= words.word != words.ite_input\n",
    "# mask &= words.loc[mask].apply(lambda x: x.word not in x.ite_input,axis=1) # Remove the ite entries that involve multiple words\n",
    "\n",
    "# Case 1: User changes the keys, but the prefix is the same \n",
    "mask1 = mask.copy()\n",
    "mask1 &= (~words.strategic.isin(['add', 'remove']))\n",
    "mask1 &= words.loc[mask].apply(lambda x: (x.ite_input_prev in x.word) and (x.ite_input_prev in x.ite_input), axis=1)\n",
    "words.loc[mask1, 'strategic'] = 'same_prefix'\n",
    "\n",
    "# Case 2: User adds keys after prediction\n",
    "mask2 = mask.copy()\n",
    "mask2 &= words.loc[mask].apply(lambda x: x.ite_input in x.word, axis=1)\n",
    "words.loc[mask2, 'strategic'] = 'add'\n",
    "\n",
    "# Case 3: User removes keys after prediction\n",
    "mask3 = mask.copy()\n",
    "mask3 &= words.loc[mask].apply(lambda x: x.word in x.ite_input, axis=1)\n",
    "words.loc[mask3, 'strategic'] = 'remove'\n",
    "\n",
    "# Case 4: Other\n",
    "mask4 = mask.copy()\n",
    "mask4 &= (~words.strategic.isin(['add', 'remove', 'same_prefix']))\n",
    "words.loc[mask4, 'strategic'] = 'other'"
   ]
  },
  {
   "cell_type": "code",
   "execution_count": 6,
   "metadata": {},
   "outputs": [],
   "source": [
    "# Save\n",
    "words.to_csv('./data/words.csv', index=False)"
   ]
  }
 ],
 "metadata": {
  "kernelspec": {
   "display_name": "Python 3",
   "language": "python",
   "name": "python3"
  },
  "language_info": {
   "codemirror_mode": {
    "name": "ipython",
    "version": 3
   },
   "file_extension": ".py",
   "mimetype": "text/x-python",
   "name": "python",
   "nbconvert_exporter": "python",
   "pygments_lexer": "ipython3",
   "version": "3.6.7"
  }
 },
 "nbformat": 4,
 "nbformat_minor": 2
}
