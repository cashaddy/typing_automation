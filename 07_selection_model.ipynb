{
 "cells": [
  {
   "cell_type": "code",
   "execution_count": 29,
   "metadata": {},
   "outputs": [
    {
     "name": "stderr",
     "output_type": "stream",
     "text": [
      "/tmp/ipykernel_449044/388590871.py:1: DeprecationWarning: Importing display from IPython.core.display is deprecated since IPython 7.14, please import from IPython display\n",
      "  from IPython.core.display import display, HTML\n"
     ]
    },
    {
     "data": {
      "text/plain": "<IPython.core.display.HTML object>",
      "text/html": "<style>.container { width:98% !important; }</style>"
     },
     "metadata": {},
     "output_type": "display_data"
    }
   ],
   "source": [
    "from IPython.core.display import display, HTML\n",
    "display(HTML(\"<style>.container { width:98% !important; }</style>\"))"
   ]
  },
  {
   "cell_type": "code",
   "execution_count": 30,
   "metadata": {},
   "outputs": [],
   "source": [
    "import pandas as pd\n",
    "import matplotlib.pyplot as plt\n",
    "import numpy as np\n",
    "import statsmodels.api as sm\n",
    "from sklearn import preprocessing\n",
    "from sklearn import model_selection\n",
    "from sklearn import metrics\n",
    "import seaborn as sns"
   ]
  },
  {
   "cell_type": "markdown",
   "metadata": {},
   "source": [
    "# Selection model"
   ]
  },
  {
   "cell_type": "markdown",
   "metadata": {
    "heading_collapsed": true
   },
   "source": [
    "### Data prep"
   ]
  },
  {
   "cell_type": "code",
   "execution_count": 31,
   "metadata": {},
   "outputs": [],
   "source": [
    "words = pd.read_csv('./data/words.csv')"
   ]
  },
  {
   "cell_type": "code",
   "execution_count": 32,
   "metadata": {
    "hidden": true
   },
   "outputs": [],
   "source": [
    "# Prepare a model for the finger offset when tapping different keys\n",
    "offset_keys = pd.read_csv('./data/key_offset.csv', index_col=0)\n",
    "def get_offset(x):\n",
    "    effort = 0\n",
    "    for c in x:\n",
    "        if c in offset_keys.index:\n",
    "            effort += offset_keys.loc[c, 'offset_one_thumb']\n",
    "    return effort"
   ]
  },
  {
   "cell_type": "code",
   "execution_count": 33,
   "metadata": {
    "hidden": true
   },
   "outputs": [],
   "source": [
    "mask = words.ite.isin(['none', 'predict'])\n",
    "mask &= words.word_length > 1\n",
    "mask &= words.word_length < 14\n",
    "mask &= (words.word == words.ite_input) | (words.ite == 'none') # Only words which are the same as the input\n",
    "data = words.loc[mask, ['word', 'word_length', 'freq', 'ite2', 'iki', 'type', 'ite_input_prev']].copy()\n",
    "\n",
    "# Add features\n",
    "data['leadup_length'] = data.word_length # When no ite is used, the leadup length is just the length of the word\n",
    "data.loc[data.ite2.notna(), 'leadup_length'] = data.ite_input_prev.str.len() # When an ite is used, the leadup length is based on the previous string\n",
    "data['is_contraction'] = (data.type == 'contraction').astype(float)\n",
    "data['is_capitalized'] = (data.type == 'proper').astype(float)\n",
    "data.drop('type', axis=1, inplace=True) # Remove the \"type\" column, we no longer need it\n",
    "data.drop('ite_input_prev', axis=1, inplace=True) # Remove the \"input_prev\" column, we no longer need it\n",
    "\n",
    "# Remove the less common substrategies\n",
    "data.ite2 = data.ite2.fillna('none') # When no ite is used, mark as \"none\"\n",
    "data = data.loc[data.ite2.isin(['completion', 'correction', 'contraction', 'capitalization', 'prediction', 'none'])] # Ignore the uncommon strategies\n",
    "\n",
    "# Add features that are based on the normally typed instances of the word\n",
    "data2 = words.loc[words.ite == 'none'].groupby('word').filter(lambda x: x.shape[0] > 20) # Only words that were typed normally more than 20 times\n",
    "data['base_speed'] = data.word.map(data2.groupby('word').iki_letters.mean()) # Use letter-only speed\n",
    "data['touch_offset'] = data.word.map(get_offset) / data.word_length # Normalize the offset based on word length\n",
    "data['backspaces'] = data.word.map(data2.groupby('word').n_backspace.mean())\n",
    "\n",
    "# Drop any nan\n",
    "data = data.dropna()\n",
    "\n",
    "# Rename\n",
    "data = data.rename(columns={'iki': 'leadup_speed'})\n",
    "\n",
    "# Transform to get better distributions\n",
    "data.freq = np.log10(data.freq)\n",
    "data.leadup_speed = data.leadup_speed.apply(np.reciprocal) * 1000\n",
    "data.base_speed = data.base_speed.apply(np.reciprocal) * 1000\n",
    "\n",
    "# Remove outliers\n",
    "data = data.loc[data.touch_offset < 1].copy()\n",
    "data = data.loc[data.leadup_speed < 20].copy()\n",
    "\n",
    "# Finalize\n",
    "data = data.set_index('word')"
   ]
  },
  {
   "cell_type": "code",
   "execution_count": 34,
   "metadata": {
    "hidden": true
   },
   "outputs": [
    {
     "data": {
      "text/plain": "ite2\nnone              1257543\ncompletion          33221\ncorrection          15391\nprediction           2561\ncontraction          1093\ncapitalization        927\nName: count, dtype: int64"
     },
     "execution_count": 34,
     "metadata": {},
     "output_type": "execute_result"
    }
   ],
   "source": [
    "data.ite2.value_counts()"
   ]
  },
  {
   "cell_type": "markdown",
   "metadata": {
    "heading_collapsed": true
   },
   "source": [
    "### Training"
   ]
  },
  {
   "cell_type": "code",
   "execution_count": 35,
   "metadata": {
    "hidden": true
   },
   "outputs": [],
   "source": [
    "# Preprocess X\n",
    "X = data.loc[:,data.columns != 'ite2'].copy()\n",
    "X.word_length = X.word_length.astype(float)\n",
    "X_scaled = preprocessing.StandardScaler().fit_transform(X)\n",
    "X = pd.DataFrame(X_scaled, index=X.index, columns=X.columns)\n",
    "X.is_contraction = data.is_contraction # Go back to binary\n",
    "X.is_capitalized = data.is_capitalized # Go back to binary\n",
    "\n",
    "# Preprocess y\n",
    "y = data['ite2'].copy()\n",
    "\n",
    "# Split data\n",
    "X_train, X_test, y_train, y_test = model_selection.train_test_split(X, y, test_size=0.1, random_state=1)\n",
    "\n",
    "# Add constant\n",
    "X_train = sm.add_constant(X_train) # TODO: do we want to include this?"
   ]
  },
  {
   "cell_type": "code",
   "execution_count": 36,
   "metadata": {
    "hidden": true
   },
   "outputs": [
    {
     "name": "stdout",
     "output_type": "stream",
     "text": [
      "RUNNING THE L-BFGS-B CODE\n",
      "\n",
      "           * * *\n",
      "\n",
      "Machine precision = 2.220D-16\n",
      " N =            9     M =           10\n",
      "\n",
      "At X0         0 variables are exactly at the bounds\n",
      "\n",
      "At iterate    0    f=  6.93147D-01    |proj g|=  4.99284D-01\n",
      "\n",
      "At iterate    1    f=  3.13892D-01    |proj g|=  2.68156D-01\n"
     ]
    },
    {
     "name": "stderr",
     "output_type": "stream",
     "text": [
      " This problem is unconstrained.\n"
     ]
    },
    {
     "name": "stdout",
     "output_type": "stream",
     "text": [
      "\n",
      "At iterate    2    f=  1.10628D-01    |proj g|=  1.02598D-01\n",
      "\n",
      "At iterate    3    f=  5.66794D-02    |proj g|=  5.24517D-02\n",
      "\n",
      "At iterate    4    f=  2.87199D-02    |proj g|=  2.49858D-02\n",
      "\n",
      "At iterate    5    f=  1.60563D-02    |proj g|=  1.24371D-02\n",
      "\n",
      "At iterate    6    f=  9.61472D-03    |proj g|=  5.05860D-03\n",
      "\n",
      "At iterate    7    f=  7.14236D-03    |proj g|=  2.52324D-03\n",
      "\n",
      "At iterate    8    f=  5.76551D-03    |proj g|=  1.18428D-03\n",
      "\n",
      "At iterate    9    f=  4.87419D-03    |proj g|=  5.58773D-04\n",
      "\n",
      "At iterate   10    f=  4.10162D-03    |proj g|=  3.65115D-04\n",
      "\n",
      "At iterate   11    f=  3.89671D-03    |proj g|=  7.74555D-04\n",
      "\n",
      "At iterate   12    f=  3.65671D-03    |proj g|=  5.66786D-04\n",
      "\n",
      "At iterate   13    f=  3.53134D-03    |proj g|=  2.85189D-04\n",
      "\n",
      "At iterate   14    f=  3.42673D-03    |proj g|=  1.60316D-04\n",
      "\n",
      "At iterate   15    f=  3.38138D-03    |proj g|=  2.37397D-04\n",
      "\n",
      "At iterate   16    f=  3.36342D-03    |proj g|=  6.84144D-05\n",
      "\n",
      "At iterate   17    f=  3.35496D-03    |proj g|=  3.29615D-05\n",
      "\n",
      "At iterate   18    f=  3.34870D-03    |proj g|=  3.74240D-05\n",
      "\n",
      "At iterate   19    f=  3.34185D-03    |proj g|=  1.56044D-05\n",
      "\n",
      "At iterate   20    f=  3.33994D-03    |proj g|=  1.71593D-05\n",
      "\n",
      "At iterate   21    f=  3.33956D-03    |proj g|=  2.24821D-05\n",
      "\n",
      "At iterate   22    f=  3.33936D-03    |proj g|=  1.09911D-05\n",
      "\n",
      "At iterate   23    f=  3.33925D-03    |proj g|=  5.81471D-06\n",
      "\n",
      "           * * *\n",
      "\n",
      "Tit   = total number of iterations\n",
      "Tnf   = total number of function evaluations\n",
      "Tnint = total number of segments explored during Cauchy searches\n",
      "Skip  = number of BFGS updates skipped\n",
      "Nact  = number of active bounds at final generalized Cauchy point\n",
      "Projg = norm of the final projected gradient\n",
      "F     = final function value\n",
      "\n",
      "           * * *\n",
      "\n",
      "   N    Tit     Tnf  Tnint  Skip  Nact     Projg        F\n",
      "    9     23     27      1     0     0   5.815D-06   3.339D-03\n",
      "  F =   3.3392508894808668E-003\n",
      "\n",
      "CONVERGENCE: NORM_OF_PROJECTED_GRADIENT_<=_PGTOL            \n",
      "RUNNING THE L-BFGS-B CODE\n",
      "\n",
      "           * * *\n",
      "\n",
      "Machine precision = 2.220D-16\n",
      " N =           10     M =           10\n",
      "\n",
      "At X0         0 variables are exactly at the bounds\n",
      "\n",
      "At iterate    0    f=  6.93147D-01    |proj g|=  4.74612D-01\n",
      "\n",
      "At iterate    1    f=  3.36699D-01    |proj g|=  2.47111D-01\n"
     ]
    },
    {
     "name": "stderr",
     "output_type": "stream",
     "text": [
      " This problem is unconstrained.\n"
     ]
    },
    {
     "name": "stdout",
     "output_type": "stream",
     "text": [
      "\n",
      "At iterate    2    f=  1.70215D-01    |proj g|=  8.21599D-02\n",
      "\n",
      "At iterate    3    f=  9.87893D-02    |proj g|=  3.03366D-02\n",
      "\n",
      "At iterate    4    f=  8.08369D-02    |proj g|=  2.12868D-02\n",
      "\n",
      "At iterate    5    f=  4.96276D-02    |proj g|=  1.34609D-02\n",
      "\n",
      "At iterate    6    f=  3.40582D-02    |proj g|=  7.50528D-03\n",
      "\n",
      "At iterate    7    f=  2.74728D-02    |proj g|=  1.07972D-02\n",
      "\n",
      "At iterate    8    f=  2.28172D-02    |proj g|=  1.53364D-03\n",
      "\n",
      "At iterate    9    f=  2.18790D-02    |proj g|=  8.29270D-04\n",
      "\n",
      "At iterate   10    f=  2.13319D-02    |proj g|=  1.24680D-03\n",
      "\n",
      "At iterate   11    f=  2.11126D-02    |proj g|=  4.02854D-04\n",
      "\n",
      "At iterate   12    f=  2.10410D-02    |proj g|=  3.71462D-04\n",
      "\n",
      "At iterate   13    f=  2.08778D-02    |proj g|=  3.64677D-04\n",
      "\n",
      "At iterate   14    f=  2.08570D-02    |proj g|=  3.99654D-04\n",
      "\n",
      "At iterate   15    f=  2.07957D-02    |proj g|=  2.51911D-04\n",
      "\n",
      "At iterate   16    f=  2.07879D-02    |proj g|=  1.85414D-04\n",
      "\n",
      "At iterate   17    f=  2.07849D-02    |proj g|=  8.94109D-05\n",
      "\n",
      "At iterate   18    f=  2.07833D-02    |proj g|=  3.00831D-05\n",
      "\n",
      "At iterate   19    f=  2.07828D-02    |proj g|=  3.92859D-05\n",
      "\n",
      "At iterate   20    f=  2.07822D-02    |proj g|=  6.59809D-05\n",
      "\n",
      "At iterate   21    f=  2.07806D-02    |proj g|=  9.35622D-05\n",
      "\n",
      "At iterate   22    f=  2.07784D-02    |proj g|=  9.16728D-05\n",
      "\n",
      "At iterate   23    f=  2.07782D-02    |proj g|=  7.41735D-05\n",
      "\n",
      "At iterate   24    f=  2.07774D-02    |proj g|=  2.92243D-05\n",
      "\n",
      "At iterate   25    f=  2.07773D-02    |proj g|=  1.62858D-05\n",
      "\n",
      "At iterate   26    f=  2.07773D-02    |proj g|=  1.42943D-05\n",
      "\n",
      "At iterate   27    f=  2.07772D-02    |proj g|=  2.38302D-06\n",
      "\n",
      "           * * *\n",
      "\n",
      "Tit   = total number of iterations\n",
      "Tnf   = total number of function evaluations\n",
      "Tnint = total number of segments explored during Cauchy searches\n",
      "Skip  = number of BFGS updates skipped\n",
      "Nact  = number of active bounds at final generalized Cauchy point\n",
      "Projg = norm of the final projected gradient\n",
      "F     = final function value\n",
      "\n",
      "           * * *\n",
      "\n",
      "   N    Tit     Tnf  Tnint  Skip  Nact     Projg        F\n",
      "   10     27     30      1     0     0   2.383D-06   2.078D-02\n",
      "  F =   2.0777245523650296E-002\n",
      "\n",
      "CONVERGENCE: NORM_OF_PROJECTED_GRADIENT_<=_PGTOL            \n"
     ]
    },
    {
     "name": "stderr",
     "output_type": "stream",
     "text": [
      " This problem is unconstrained.\n"
     ]
    },
    {
     "name": "stdout",
     "output_type": "stream",
     "text": [
      "RUNNING THE L-BFGS-B CODE\n",
      "\n",
      "           * * *\n",
      "\n",
      "Machine precision = 2.220D-16\n",
      " N =            9     M =           10\n",
      "\n",
      "At X0         0 variables are exactly at the bounds\n",
      "\n",
      "At iterate    0    f=  6.93147D-01    |proj g|=  4.99173D-01\n",
      "\n",
      "At iterate    1    f=  3.13982D-01    |proj g|=  2.68052D-01\n",
      "\n",
      "At iterate    2    f=  1.10848D-01    |proj g|=  1.02524D-01\n",
      "\n",
      "At iterate    3    f=  5.69132D-02    |proj g|=  5.24102D-02\n",
      "\n",
      "At iterate    4    f=  2.89421D-02    |proj g|=  2.48410D-02\n",
      "\n",
      "At iterate    5    f=  1.60186D-02    |proj g|=  1.24142D-02\n",
      "\n",
      "At iterate    6    f=  9.27315D-03    |proj g|=  4.69209D-03\n",
      "\n",
      "At iterate    7    f=  6.92850D-03    |proj g|=  2.53823D-03\n",
      "\n",
      "At iterate    8    f=  5.35193D-03    |proj g|=  1.54512D-03\n",
      "\n",
      "At iterate    9    f=  4.63432D-03    |proj g|=  5.47316D-04\n",
      "\n",
      "At iterate   10    f=  4.25413D-03    |proj g|=  3.72710D-04\n",
      "\n",
      "At iterate   11    f=  3.89121D-03    |proj g|=  4.06672D-04\n",
      "\n",
      "At iterate   12    f=  3.54726D-03    |proj g|=  5.49693D-04\n",
      "\n",
      "At iterate   13    f=  3.40319D-03    |proj g|=  4.19148D-04\n",
      "\n",
      "At iterate   14    f=  3.07592D-03    |proj g|=  1.87429D-04\n",
      "\n",
      "At iterate   15    f=  2.98367D-03    |proj g|=  3.22553D-04\n",
      "\n",
      "At iterate   16    f=  2.90256D-03    |proj g|=  1.43472D-04\n",
      "\n",
      "At iterate   17    f=  2.83525D-03    |proj g|=  1.53024D-04\n",
      "\n",
      "At iterate   18    f=  2.72058D-03    |proj g|=  1.44720D-04\n",
      "\n",
      "At iterate   19    f=  2.65781D-03    |proj g|=  2.84055D-04\n",
      "\n",
      "At iterate   20    f=  2.64459D-03    |proj g|=  3.47819D-04\n",
      "\n",
      "At iterate   21    f=  2.63167D-03    |proj g|=  6.91980D-05\n",
      "\n",
      "At iterate   22    f=  2.62385D-03    |proj g|=  1.79844D-04\n",
      "\n",
      "At iterate   23    f=  2.61847D-03    |proj g|=  1.76897D-04\n",
      "\n",
      "At iterate   24    f=  2.61558D-03    |proj g|=  2.68193D-05\n",
      "\n",
      "At iterate   25    f=  2.61405D-03    |proj g|=  1.45274D-05\n",
      "\n",
      "At iterate   26    f=  2.61346D-03    |proj g|=  3.81577D-05\n",
      "\n",
      "At iterate   27    f=  2.61252D-03    |proj g|=  5.67078D-05\n",
      "\n",
      "At iterate   28    f=  2.61169D-03    |proj g|=  5.02541D-05\n",
      "\n",
      "At iterate   29    f=  2.61158D-03    |proj g|=  2.96965D-05\n",
      "\n",
      "At iterate   30    f=  2.61112D-03    |proj g|=  6.80208D-06\n",
      "\n",
      "           * * *\n",
      "\n",
      "Tit   = total number of iterations\n",
      "Tnf   = total number of function evaluations\n",
      "Tnint = total number of segments explored during Cauchy searches\n",
      "Skip  = number of BFGS updates skipped\n",
      "Nact  = number of active bounds at final generalized Cauchy point\n",
      "Projg = norm of the final projected gradient\n",
      "F     = final function value\n",
      "\n",
      "           * * *\n",
      "\n",
      "   N    Tit     Tnf  Tnint  Skip  Nact     Projg        F\n",
      "    9     30     31      1     0     0   6.802D-06   2.611D-03\n",
      "  F =   2.6111202954794107E-003\n",
      "\n",
      "CONVERGENCE: NORM_OF_PROJECTED_GRADIENT_<=_PGTOL            \n",
      "RUNNING THE L-BFGS-B CODE\n",
      "\n",
      "           * * *\n",
      "\n",
      "Machine precision = 2.220D-16\n",
      " N =           10     M =           10\n",
      "\n",
      "At X0         0 variables are exactly at the bounds\n",
      "\n",
      "At iterate    0    f=  6.93147D-01    |proj g|=  4.88248D-01\n",
      "\n",
      "At iterate    1    f=  3.24823D-01    |proj g|=  2.57615D-01\n"
     ]
    },
    {
     "name": "stderr",
     "output_type": "stream",
     "text": [
      " This problem is unconstrained.\n"
     ]
    },
    {
     "name": "stdout",
     "output_type": "stream",
     "text": [
      "\n",
      "At iterate    2    f=  1.40093D-01    |proj g|=  9.54562D-02\n",
      "\n",
      "At iterate    3    f=  9.11111D-02    |proj g|=  4.95599D-02\n",
      "\n",
      "At iterate    4    f=  6.67289D-02    |proj g|=  1.77469D-02\n",
      "\n",
      "At iterate    5    f=  6.10233D-02    |proj g|=  8.49402D-03\n",
      "\n",
      "At iterate    6    f=  5.70531D-02    |proj g|=  4.57301D-03\n",
      "\n",
      "At iterate    7    f=  5.43576D-02    |proj g|=  3.65420D-03\n",
      "\n",
      "At iterate    8    f=  5.26626D-02    |proj g|=  1.15630D-03\n",
      "\n",
      "At iterate    9    f=  5.24030D-02    |proj g|=  1.06708D-03\n",
      "\n",
      "At iterate   10    f=  5.22650D-02    |proj g|=  6.56731D-04\n",
      "\n",
      "At iterate   11    f=  5.22052D-02    |proj g|=  1.30564D-04\n",
      "\n",
      "At iterate   12    f=  5.21981D-02    |proj g|=  1.21501D-04\n",
      "\n",
      "At iterate   13    f=  5.21959D-02    |proj g|=  9.99104D-05\n",
      "\n",
      "At iterate   14    f=  5.21909D-02    |proj g|=  1.29318D-04\n",
      "\n",
      "At iterate   15    f=  5.21866D-02    |proj g|=  4.42462D-04\n",
      "\n",
      "At iterate   16    f=  5.21806D-02    |proj g|=  2.62573D-04\n",
      "\n",
      "At iterate   17    f=  5.21719D-02    |proj g|=  1.22737D-04\n",
      "\n",
      "At iterate   18    f=  5.21685D-02    |proj g|=  9.58219D-05\n",
      "\n",
      "At iterate   19    f=  5.21659D-02    |proj g|=  5.42550D-05\n",
      "\n",
      "At iterate   20    f=  5.21639D-02    |proj g|=  5.28311D-05\n",
      "\n",
      "At iterate   21    f=  5.21601D-02    |proj g|=  1.25212D-04\n",
      "\n",
      "At iterate   22    f=  5.21574D-02    |proj g|=  1.11617D-04\n",
      "\n",
      "At iterate   23    f=  5.21571D-02    |proj g|=  1.63621D-04\n",
      "\n",
      "At iterate   24    f=  5.21555D-02    |proj g|=  5.91666D-05\n",
      "\n",
      "At iterate   25    f=  5.21553D-02    |proj g|=  8.91204D-06\n",
      "\n",
      "           * * *\n",
      "\n",
      "Tit   = total number of iterations\n",
      "Tnf   = total number of function evaluations\n",
      "Tnint = total number of segments explored during Cauchy searches\n",
      "Skip  = number of BFGS updates skipped\n",
      "Nact  = number of active bounds at final generalized Cauchy point\n",
      "Projg = norm of the final projected gradient\n",
      "F     = final function value\n",
      "\n",
      "           * * *\n",
      "\n",
      "   N    Tit     Tnf  Tnint  Skip  Nact     Projg        F\n",
      "   10     25     27      1     0     0   8.912D-06   5.216D-02\n",
      "  F =   5.2155315646357746E-002\n",
      "\n",
      "CONVERGENCE: NORM_OF_PROJECTED_GRADIENT_<=_PGTOL            \n",
      "RUNNING THE L-BFGS-B CODE\n",
      "\n",
      "           * * *\n",
      "\n",
      "Machine precision = 2.220D-16\n",
      " N =            8     M =           10\n",
      "\n",
      "At X0         0 variables are exactly at the bounds\n",
      "\n",
      "At iterate    0    f=  6.93147D-01    |proj g|=  4.98033D-01\n",
      "\n",
      "At iterate    1    f=  3.15130D-01    |proj g|=  2.66904D-01\n"
     ]
    },
    {
     "name": "stderr",
     "output_type": "stream",
     "text": [
      " This problem is unconstrained.\n"
     ]
    },
    {
     "name": "stdout",
     "output_type": "stream",
     "text": [
      "\n",
      "At iterate    2    f=  1.13850D-01    |proj g|=  1.01848D-01\n",
      "\n",
      "At iterate    3    f=  6.08684D-02    |proj g|=  5.17835D-02\n",
      "\n",
      "At iterate    4    f=  3.38872D-02    |proj g|=  2.44491D-02\n",
      "\n",
      "At iterate    5    f=  2.22002D-02    |proj g|=  1.18580D-02\n",
      "\n",
      "At iterate    6    f=  1.68733D-02    |proj g|=  5.01839D-03\n",
      "\n",
      "At iterate    7    f=  1.47196D-02    |proj g|=  2.02265D-03\n",
      "\n",
      "At iterate    8    f=  1.41832D-02    |proj g|=  8.37947D-04\n",
      "\n",
      "At iterate    9    f=  1.39993D-02    |proj g|=  2.17835D-04\n",
      "\n",
      "At iterate   10    f=  1.39499D-02    |proj g|=  1.24965D-04\n",
      "\n",
      "At iterate   11    f=  1.39246D-02    |proj g|=  6.68047D-05\n",
      "\n",
      "At iterate   12    f=  1.39106D-02    |proj g|=  4.32090D-05\n",
      "\n",
      "At iterate   13    f=  1.39085D-02    |proj g|=  1.41841D-05\n",
      "\n",
      "At iterate   14    f=  1.39083D-02    |proj g|=  9.57050D-06\n",
      "\n",
      "           * * *\n",
      "\n",
      "Tit   = total number of iterations\n",
      "Tnf   = total number of function evaluations\n",
      "Tnint = total number of segments explored during Cauchy searches\n",
      "Skip  = number of BFGS updates skipped\n",
      "Nact  = number of active bounds at final generalized Cauchy point\n",
      "Projg = norm of the final projected gradient\n",
      "F     = final function value\n",
      "\n",
      "           * * *\n",
      "\n",
      "   N    Tit     Tnf  Tnint  Skip  Nact     Projg        F\n",
      "    8     14     15      1     0     0   9.570D-06   1.391D-02\n",
      "  F =   1.3908272645294545E-002\n",
      "\n",
      "CONVERGENCE: NORM_OF_PROJECTED_GRADIENT_<=_PGTOL            \n"
     ]
    }
   ],
   "source": [
    "params = []\n",
    "pvalues = []\n",
    "errors = []\n",
    "params_disp = []\n",
    "\n",
    "# For each substrategy, train a binary logistic regression\n",
    "for i in y_train.sort_values().unique():\n",
    "    # Check the substrategy, depending on it we will ignore certain columns\n",
    "    if i == 'prediction':\n",
    "        c = ['const', 'word_length', 'freq', 'is_contraction', 'is_capitalized', 'base_speed', 'touch_offset', 'backspaces']\n",
    "    elif i in ['capitalization', 'contraction']:\n",
    "        c = ['const', 'word_length', 'freq', 'is_contraction', 'is_capitalized', 'base_speed', 'touch_offset', 'backspaces', 'leadup_speed']\n",
    "    else:    \n",
    "        c = X_train.columns # All columns\n",
    "    if i == 'none':\n",
    "        continue # Remove this line to see the \"none\" column\n",
    "    \n",
    "    # Fit the regression\n",
    "    model = sm.Logit((y_train == i).astype(float), X_train.loc[:,c])\n",
    "    results = model.fit(method='lbfgs', maxiter=1000)\n",
    "    \n",
    "    # Save the values\n",
    "    params.append(results.params.to_frame(i))\n",
    "    pvalues.append(results.pvalues.to_frame(i))\n",
    "    errors.append(results.bse.to_frame(i))\n",
    "\n",
    "# Create dataframe\n",
    "params = pd.concat(params, axis=1, sort=False)\n",
    "pvalues = pd.concat(pvalues, axis=1, sort=False)\n",
    "errors = pd.concat(errors, axis=1, sort=False)"
   ]
  },
  {
   "cell_type": "markdown",
   "metadata": {},
   "source": [
    "### Coefficients"
   ]
  },
  {
   "cell_type": "code",
   "execution_count": 37,
   "metadata": {},
   "outputs": [],
   "source": [
    "def to_asterix(x):\n",
    "    if x <= 0.01:\n",
    "        return '***'\n",
    "    elif x <= 0.05:\n",
    "        return '**'\n",
    "    elif x <= 0.1:\n",
    "        return '*'\n",
    "    else:\n",
    "        return ''\n",
    "\n",
    "# Create a nice display of the parameters (significance, errors, etc.)\n",
    "params_disp = pd.DataFrame()\n",
    "for c in params.columns:\n",
    "    for i in params.index:\n",
    "        param = params.loc[i, c]\n",
    "        p = pvalues.loc[i, c]\n",
    "        e = errors.loc[i, c]\n",
    "        if np.isnan(param):\n",
    "            params_disp.loc[i, c] = 'N/A'\n",
    "        else:\n",
    "            params_disp.loc[i, c] = '{}{}\\n({})'.format(\n",
    "                str(round(param, 2)),\n",
    "                to_asterix(p),\n",
    "                str(round(e, 2))\n",
    "            ) "
   ]
  },
  {
   "cell_type": "code",
   "execution_count": 38,
   "metadata": {},
   "outputs": [
    {
     "data": {
      "text/plain": "<pandas.io.formats.style.Styler at 0x7f7fbdd2a050>",
      "text/html": "<style type=\"text/css\">\n#T_79f2a_row0_col0, #T_79f2a_row0_col1, #T_79f2a_row0_col2, #T_79f2a_row0_col3, #T_79f2a_row0_col4, #T_79f2a_row1_col0, #T_79f2a_row1_col1, #T_79f2a_row1_col2, #T_79f2a_row1_col3, #T_79f2a_row1_col4, #T_79f2a_row2_col0, #T_79f2a_row2_col1, #T_79f2a_row2_col2, #T_79f2a_row2_col3, #T_79f2a_row2_col4, #T_79f2a_row3_col0, #T_79f2a_row3_col1, #T_79f2a_row3_col2, #T_79f2a_row3_col3, #T_79f2a_row3_col4, #T_79f2a_row4_col0, #T_79f2a_row4_col1, #T_79f2a_row4_col2, #T_79f2a_row4_col3, #T_79f2a_row4_col4, #T_79f2a_row5_col0, #T_79f2a_row5_col1, #T_79f2a_row5_col2, #T_79f2a_row5_col3, #T_79f2a_row5_col4, #T_79f2a_row6_col0, #T_79f2a_row6_col1, #T_79f2a_row6_col2, #T_79f2a_row6_col3, #T_79f2a_row6_col4, #T_79f2a_row7_col0, #T_79f2a_row7_col1, #T_79f2a_row7_col2, #T_79f2a_row7_col3, #T_79f2a_row7_col4, #T_79f2a_row8_col0, #T_79f2a_row8_col1, #T_79f2a_row8_col2, #T_79f2a_row8_col3, #T_79f2a_row8_col4, #T_79f2a_row9_col0, #T_79f2a_row9_col1, #T_79f2a_row9_col2, #T_79f2a_row9_col3, #T_79f2a_row9_col4 {\n  text-align: left;\n  white-space: pre-wrap;\n}\n</style>\n<table id=\"T_79f2a\">\n  <thead>\n    <tr>\n      <th class=\"blank level0\" >&nbsp;</th>\n      <th id=\"T_79f2a_level0_col0\" class=\"col_heading level0 col0\" >capitalization</th>\n      <th id=\"T_79f2a_level0_col1\" class=\"col_heading level0 col1\" >completion</th>\n      <th id=\"T_79f2a_level0_col2\" class=\"col_heading level0 col2\" >contraction</th>\n      <th id=\"T_79f2a_level0_col3\" class=\"col_heading level0 col3\" >correction</th>\n      <th id=\"T_79f2a_level0_col4\" class=\"col_heading level0 col4\" >prediction</th>\n    </tr>\n  </thead>\n  <tbody>\n    <tr>\n      <th id=\"T_79f2a_level0_row0\" class=\"row_heading level0 row0\" >const</th>\n      <td id=\"T_79f2a_row0_col0\" class=\"data row0 col0\" >-11.14***\n(0.17)</td>\n      <td id=\"T_79f2a_row0_col1\" class=\"data row0 col1\" >-8.3***\n(0.05)</td>\n      <td id=\"T_79f2a_row0_col2\" class=\"data row0 col2\" >-12.96***\n(0.58)</td>\n      <td id=\"T_79f2a_row0_col3\" class=\"data row0 col3\" >-5.87***\n(0.02)</td>\n      <td id=\"T_79f2a_row0_col4\" class=\"data row0 col4\" >-6.42***\n(0.03)</td>\n    </tr>\n    <tr>\n      <th id=\"T_79f2a_level0_row1\" class=\"row_heading level0 row1\" >word_length</th>\n      <td id=\"T_79f2a_row1_col0\" class=\"data row1 col0\" >0.37***\n(0.04)</td>\n      <td id=\"T_79f2a_row1_col1\" class=\"data row1 col1\" >5.58***\n(0.03)</td>\n      <td id=\"T_79f2a_row1_col2\" class=\"data row1 col2\" >-0.09\n(0.1)</td>\n      <td id=\"T_79f2a_row1_col3\" class=\"data row1 col3\" >0.77***\n(0.01)</td>\n      <td id=\"T_79f2a_row1_col4\" class=\"data row1 col4\" >0.53***\n(0.04)</td>\n    </tr>\n    <tr>\n      <th id=\"T_79f2a_level0_row2\" class=\"row_heading level0 row2\" >freq</th>\n      <td id=\"T_79f2a_row2_col0\" class=\"data row2 col0\" >-0.61***\n(0.07)</td>\n      <td id=\"T_79f2a_row2_col1\" class=\"data row2 col1\" >-0.41***\n(0.02)</td>\n      <td id=\"T_79f2a_row2_col2\" class=\"data row2 col2\" >0.2*\n(0.11)</td>\n      <td id=\"T_79f2a_row2_col3\" class=\"data row2 col3\" >-0.39***\n(0.01)</td>\n      <td id=\"T_79f2a_row2_col4\" class=\"data row2 col4\" >0.51***\n(0.04)</td>\n    </tr>\n    <tr>\n      <th id=\"T_79f2a_level0_row3\" class=\"row_heading level0 row3\" >is_contraction</th>\n      <td id=\"T_79f2a_row3_col0\" class=\"data row3 col0\" >-0.7\n(1.13)</td>\n      <td id=\"T_79f2a_row3_col1\" class=\"data row3 col1\" >0.53***\n(0.09)</td>\n      <td id=\"T_79f2a_row3_col2\" class=\"data row3 col2\" >12.14***\n(0.61)</td>\n      <td id=\"T_79f2a_row3_col3\" class=\"data row3 col3\" >-1.05***\n(0.1)</td>\n      <td id=\"T_79f2a_row3_col4\" class=\"data row3 col4\" >0.01\n(0.9)</td>\n    </tr>\n    <tr>\n      <th id=\"T_79f2a_level0_row4\" class=\"row_heading level0 row4\" >is_capitalized</th>\n      <td id=\"T_79f2a_row4_col0\" class=\"data row4 col0\" >5.4***\n(0.17)</td>\n      <td id=\"T_79f2a_row4_col1\" class=\"data row4 col1\" >-0.24***\n(0.07)</td>\n      <td id=\"T_79f2a_row4_col2\" class=\"data row4 col2\" >-1.44\n(10.84)</td>\n      <td id=\"T_79f2a_row4_col3\" class=\"data row4 col3\" >-0.6***\n(0.05)</td>\n      <td id=\"T_79f2a_row4_col4\" class=\"data row4 col4\" >-0.08\n(0.25)</td>\n    </tr>\n    <tr>\n      <th id=\"T_79f2a_level0_row5\" class=\"row_heading level0 row5\" >base_speed</th>\n      <td id=\"T_79f2a_row5_col0\" class=\"data row5 col0\" >0.53***\n(0.05)</td>\n      <td id=\"T_79f2a_row5_col1\" class=\"data row5 col1\" >0.06***\n(0.02)</td>\n      <td id=\"T_79f2a_row5_col2\" class=\"data row5 col2\" >-0.13**\n(0.06)</td>\n      <td id=\"T_79f2a_row5_col3\" class=\"data row5 col3\" >0.12***\n(0.01)</td>\n      <td id=\"T_79f2a_row5_col4\" class=\"data row5 col4\" >0.14***\n(0.03)</td>\n    </tr>\n    <tr>\n      <th id=\"T_79f2a_level0_row6\" class=\"row_heading level0 row6\" >touch_offset</th>\n      <td id=\"T_79f2a_row6_col0\" class=\"data row6 col0\" >0.08**\n(0.04)</td>\n      <td id=\"T_79f2a_row6_col1\" class=\"data row6 col1\" >0.04***\n(0.01)</td>\n      <td id=\"T_79f2a_row6_col2\" class=\"data row6 col2\" >0.05\n(0.06)</td>\n      <td id=\"T_79f2a_row6_col3\" class=\"data row6 col3\" >-0.04***\n(0.01)</td>\n      <td id=\"T_79f2a_row6_col4\" class=\"data row6 col4\" >-0.11***\n(0.02)</td>\n    </tr>\n    <tr>\n      <th id=\"T_79f2a_level0_row7\" class=\"row_heading level0 row7\" >backspaces</th>\n      <td id=\"T_79f2a_row7_col0\" class=\"data row7 col0\" >-0.0\n(0.03)</td>\n      <td id=\"T_79f2a_row7_col1\" class=\"data row7 col1\" >-0.25***\n(0.02)</td>\n      <td id=\"T_79f2a_row7_col2\" class=\"data row7 col2\" >-0.2***\n(0.03)</td>\n      <td id=\"T_79f2a_row7_col3\" class=\"data row7 col3\" >-0.07***\n(0.01)</td>\n      <td id=\"T_79f2a_row7_col4\" class=\"data row7 col4\" >-0.57***\n(0.05)</td>\n    </tr>\n    <tr>\n      <th id=\"T_79f2a_level0_row8\" class=\"row_heading level0 row8\" >leadup_speed</th>\n      <td id=\"T_79f2a_row8_col0\" class=\"data row8 col0\" >-1.76***\n(0.09)</td>\n      <td id=\"T_79f2a_row8_col1\" class=\"data row8 col1\" >-3.37***\n(0.04)</td>\n      <td id=\"T_79f2a_row8_col2\" class=\"data row8 col2\" >0.26***\n(0.06)</td>\n      <td id=\"T_79f2a_row8_col3\" class=\"data row8 col3\" >-1.97***\n(0.02)</td>\n      <td id=\"T_79f2a_row8_col4\" class=\"data row8 col4\" >N/A</td>\n    </tr>\n    <tr>\n      <th id=\"T_79f2a_level0_row9\" class=\"row_heading level0 row9\" >leadup_length</th>\n      <td id=\"T_79f2a_row9_col0\" class=\"data row9 col0\" >N/A</td>\n      <td id=\"T_79f2a_row9_col1\" class=\"data row9 col1\" >-5.47***\n(0.03)</td>\n      <td id=\"T_79f2a_row9_col2\" class=\"data row9 col2\" >N/A</td>\n      <td id=\"T_79f2a_row9_col3\" class=\"data row9 col3\" >-0.3***\n(0.01)</td>\n      <td id=\"T_79f2a_row9_col4\" class=\"data row9 col4\" >N/A</td>\n    </tr>\n  </tbody>\n</table>\n"
     },
     "metadata": {},
     "output_type": "display_data"
    }
   ],
   "source": [
    "from IPython.display import display\n",
    "\n",
    "# Assuming the variable df contains the relevant DataFrame\n",
    "display(params_disp.style.set_properties(**{\n",
    "    'text-align': 'left',\n",
    "    'white-space': 'pre-wrap',\n",
    "}))"
   ]
  },
  {
   "cell_type": "markdown",
   "metadata": {},
   "source": [
    "### What is the performance for estimating the probability of selection?"
   ]
  },
  {
   "cell_type": "code",
   "execution_count": 39,
   "metadata": {},
   "outputs": [],
   "source": [
    "def predict_prob(params, x):\n",
    "    # Get odds from params\n",
    "    odds = (params * x).sum(axis=1).apply(np.exp)\n",
    "    return odds / (1 + odds)"
   ]
  },
  {
   "cell_type": "code",
   "execution_count": 40,
   "metadata": {},
   "outputs": [
    {
     "data": {
      "text/plain": "<Figure size 600x550 with 1 Axes>",
      "image/png": "[encoded data removed]"
     },
     "metadata": {},
     "output_type": "display_data"
    }
   ],
   "source": [
    "f,ax = plt.subplots(1, 1, figsize=(6, 5.5))\n",
    "\n",
    "# 1. Calculate performance for each substrategy\n",
    "\n",
    "for i in params.columns:\n",
    "    if i == 'none':\n",
    "        continue\n",
    "    \n",
    "    # Prepare X and y for this substrategy\n",
    "    mask = (y_test == i) | (y_test == 'none') # Remove instances where other substrategies were used\n",
    "    X_test_s = X_test.loc[mask]\n",
    "    y_test_s = y_test.loc[mask] != 'none' # Binary: True when the substrategy is used\n",
    "   \n",
    "    # Calculate the probability of using the substrategy on a given word\n",
    "    y_prob = pd.DataFrame(columns=params.columns)\n",
    "    X_test_s = sm.add_constant(X_test_s)\n",
    "    for c in params.columns:\n",
    "        y_prob[c] = predict_prob(params[c], X_test_s)\n",
    "    y_prob = y_prob.sum(axis=1) # Probability of using suggestions is the sum of the estimated probability for each substrategy\n",
    "\n",
    "    fpr, tpr, thresh = metrics.roc_curve(y_test_s, y_prob)\n",
    "    precision, recall, prthresh = metrics.precision_recall_curve(y_test_s, y_prob)\n",
    "\n",
    "    # Plot ROC\n",
    "    ax.plot(fpr, tpr, label = i, alpha=0.8)\n",
    "\n",
    "\n",
    "# 2. Calculate performance for overall performance\n",
    "\n",
    "y_test_bool = y_test != 'none' # Binary: True if ANY substrategy was used (rather than a specific one)\n",
    "\n",
    "# Calculate the probability of using the substrategy on a given word\n",
    "y_prob = pd.DataFrame(columns=params.columns)\n",
    "X_test = sm.add_constant(X_test)\n",
    "for c in params.columns:\n",
    "    y_prob[c] = predict_prob(params[c], X_test)\n",
    "y_prob = y_prob.sum(axis=1) # Probability of using suggestions is the sum of the estimated probability for each substrategy\n",
    "\n",
    "\n",
    "fpr, tpr, thresh = metrics.roc_curve(y_test_bool, y_prob)\n",
    "precision, recall, prthresh = metrics.precision_recall_curve(y_test_bool, y_prob)\n",
    "\n",
    "\n",
    "# Plot ROC for overall performance\n",
    "ax.plot(fpr, tpr, label='Overall', lw=3, c='k')\n",
    "ax.plot([0,1], [0,1], '--', c='k', alpha=0.5)\n",
    "\n",
    "# 3. Other plot settings\n",
    "ax.legend(fontsize=12)\n",
    "ax.grid()\n",
    "ax.set_xlabel('False positive rate (FPR)')\n",
    "ax.set_ylabel('True positive rate (TPR)')\n",
    "\n",
    "for item in ([ax.title, ax.xaxis.label, ax.yaxis.label] +\n",
    "             ax.get_xticklabels() + ax.get_yticklabels()):\n",
    "    item.set_fontsize(12)\n",
    "\n",
    "f.tight_layout(pad = 0)\n",
    "\n",
    "f.savefig('./figures/roc_selection.png',dpi=300)"
   ]
  },
  {
   "cell_type": "code",
   "execution_count": 41,
   "metadata": {},
   "outputs": [
    {
     "data": {
      "text/plain": "               fpr       tpr\nthresh                      \n0.040179  0.095428  0.842969\n0.042683  0.087640  0.835909\n0.051984  0.064649  0.805953\n0.044121  0.083357  0.829994\n0.046609  0.076649  0.821790",
      "text/html": "<div>\n<style scoped>\n    .dataframe tbody tr th:only-of-type {\n        vertical-align: middle;\n    }\n\n    .dataframe tbody tr th {\n        vertical-align: top;\n    }\n\n    .dataframe thead th {\n        text-align: right;\n    }\n</style>\n<table border=\"1\" class=\"dataframe\">\n  <thead>\n    <tr style=\"text-align: right;\">\n      <th></th>\n      <th>fpr</th>\n      <th>tpr</th>\n    </tr>\n    <tr>\n      <th>thresh</th>\n      <th></th>\n      <th></th>\n    </tr>\n  </thead>\n  <tbody>\n    <tr>\n      <th>0.040179</th>\n      <td>0.095428</td>\n      <td>0.842969</td>\n    </tr>\n    <tr>\n      <th>0.042683</th>\n      <td>0.087640</td>\n      <td>0.835909</td>\n    </tr>\n    <tr>\n      <th>0.051984</th>\n      <td>0.064649</td>\n      <td>0.805953</td>\n    </tr>\n    <tr>\n      <th>0.044121</th>\n      <td>0.083357</td>\n      <td>0.829994</td>\n    </tr>\n    <tr>\n      <th>0.046609</th>\n      <td>0.076649</td>\n      <td>0.821790</td>\n    </tr>\n  </tbody>\n</table>\n</div>"
     },
     "execution_count": 41,
     "metadata": {},
     "output_type": "execute_result"
    }
   ],
   "source": [
    "roc = pd.DataFrame([fpr, tpr, thresh]).T\n",
    "roc.columns = ['fpr', 'tpr', 'thresh']\n",
    "roc = roc.set_index('thresh')\n",
    "roc.loc[(roc.fpr < 0.1) & (roc.tpr > 0.8)].sample(5, random_state=0)"
   ]
  },
  {
   "cell_type": "code",
   "execution_count": 43,
   "metadata": {},
   "outputs": [
    {
     "data": {
      "text/plain": "        0     1\n0  117176  8657\n1     995  4246",
      "text/html": "<div>\n<style scoped>\n    .dataframe tbody tr th:only-of-type {\n        vertical-align: middle;\n    }\n\n    .dataframe tbody tr th {\n        vertical-align: top;\n    }\n\n    .dataframe thead th {\n        text-align: right;\n    }\n</style>\n<table border=\"1\" class=\"dataframe\">\n  <thead>\n    <tr style=\"text-align: right;\">\n      <th></th>\n      <th>0</th>\n      <th>1</th>\n    </tr>\n  </thead>\n  <tbody>\n    <tr>\n      <th>0</th>\n      <td>117176</td>\n      <td>8657</td>\n    </tr>\n    <tr>\n      <th>1</th>\n      <td>995</td>\n      <td>4246</td>\n    </tr>\n  </tbody>\n</table>\n</div>"
     },
     "execution_count": 43,
     "metadata": {},
     "output_type": "execute_result"
    }
   ],
   "source": [
    "confusion_matrix = pd.DataFrame(metrics.confusion_matrix(y_test_bool, y_prob > 0.05))\n",
    "confusion_matrix"
   ]
  },
  {
   "cell_type": "code",
   "execution_count": 44,
   "metadata": {},
   "outputs": [
    {
     "data": {
      "text/plain": "0.9263622076079161"
     },
     "execution_count": 44,
     "metadata": {},
     "output_type": "execute_result"
    }
   ],
   "source": [
    "metrics.accuracy_score(y_test_bool, y_prob > 0.05)"
   ]
  },
  {
   "cell_type": "code",
   "execution_count": 45,
   "metadata": {},
   "outputs": [
    {
     "data": {
      "text/plain": "0.3290707587382779"
     },
     "execution_count": 45,
     "metadata": {},
     "output_type": "execute_result"
    }
   ],
   "source": [
    "metrics.precision_score(y_test_bool, y_prob > 0.05)"
   ]
  },
  {
   "cell_type": "code",
   "execution_count": 46,
   "metadata": {},
   "outputs": [
    {
     "data": {
      "text/plain": "0.810150734592635"
     },
     "execution_count": 46,
     "metadata": {},
     "output_type": "execute_result"
    }
   ],
   "source": [
    "metrics.recall_score(y_test_bool, y_prob > 0.05)"
   ]
  }
 ],
 "metadata": {
  "kernelspec": {
   "display_name": "Python 3",
   "language": "python",
   "name": "python3"
  },
  "language_info": {
   "codemirror_mode": {
    "name": "ipython",
    "version": 3
   },
   "file_extension": ".py",
   "mimetype": "text/x-python",
   "name": "python",
   "nbconvert_exporter": "python",
   "pygments_lexer": "ipython3",
   "version": "3.6.6"
  }
 },
 "nbformat": 4,
 "nbformat_minor": 2
}
