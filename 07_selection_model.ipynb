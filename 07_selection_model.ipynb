{
 "cells": [
  {
   "cell_type": "code",
   "execution_count": 1,
   "metadata": {},
   "outputs": [
    {
     "data": {
      "text/html": [
       "<style>.container { width:98% !important; }</style>"
      ],
      "text/plain": [
       "<IPython.core.display.HTML object>"
      ]
     },
     "metadata": {},
     "output_type": "display_data"
    }
   ],
   "source": [
    "from IPython.core.display import display, HTML\n",
    "display(HTML(\"<style>.container { width:98% !important; }</style>\"))"
   ]
  },
  {
   "cell_type": "code",
   "execution_count": 2,
   "metadata": {},
   "outputs": [],
   "source": [
    "import pandas as pd\n",
    "import matplotlib.pyplot as plt\n",
    "import numpy as np\n",
    "import statsmodels.api as sm\n",
    "from sklearn import preprocessing\n",
    "from sklearn import model_selection\n",
    "from sklearn import metrics"
   ]
  },
  {
   "cell_type": "markdown",
   "metadata": {},
   "source": [
    "# Selection model"
   ]
  },
  {
   "cell_type": "markdown",
   "metadata": {
    "heading_collapsed": true
   },
   "source": [
    "### Data prep"
   ]
  },
  {
   "cell_type": "code",
   "execution_count": 3,
   "metadata": {},
   "outputs": [],
   "source": [
    "words = pd.read_csv('./data/words.csv')"
   ]
  },
  {
   "cell_type": "code",
   "execution_count": 4,
   "metadata": {
    "hidden": true
   },
   "outputs": [],
   "source": [
    "# Prepare a model for the finger offset when tapping different keys\n",
    "offset_keys = pd.read_csv('./data/key_offset.csv',index_col=0)\n",
    "def get_offset(x):\n",
    "    effort = 0\n",
    "    for c in x:\n",
    "        if c in offset_keys.index:\n",
    "            effort += offset_keys.loc[c,'offset_one_thumb']\n",
    "    return effort"
   ]
  },
  {
   "cell_type": "code",
   "execution_count": 5,
   "metadata": {
    "hidden": true
   },
   "outputs": [],
   "source": [
    "mask = words.ite.isin(['none','predict'])\n",
    "mask &= words.word_length > 1\n",
    "mask &= words.word_length < 14\n",
    "mask &= (words.word == words.ite_input) | (words.ite == 'none') # Only words which are the same as the input\n",
    "data = words.loc[mask,['word','word_length','freq','ite2','iki','type','ite_input_prev']].copy()\n",
    "\n",
    "# Add features\n",
    "data['leadup_length'] = data.word_length # When no ite is used, the leadup length is just the length of the word\n",
    "data.loc[data.ite2.notna(),'leadup_length'] = data.ite_input_prev.str.len() # When an ite is used, the leadup length is based on the previous string\n",
    "data['is_contraction'] = (data.type == 'contraction').astype(float)\n",
    "data['is_capitalized'] = (data.type == 'proper').astype(float)\n",
    "data.drop('type',axis=1,inplace=True) # Remove the \"type\" column, we no longer need it\n",
    "data.drop('ite_input_prev',axis=1,inplace=True) # Remove the \"input_prev\" column, we no longer need it\n",
    "\n",
    "# Remove the less common substrategies\n",
    "data.ite2 = data.ite2.fillna('none') # When no ite is used, mark as \"none\"\n",
    "data = data.loc[data.ite2.isin(['completion','correction','contraction','capitalization','prediction','none'])] # Ignore the uncommon strategies\n",
    "\n",
    "# Add features that are based on the normally typed instances of the word\n",
    "data2 = words.loc[words.ite == 'none'].groupby('word').filter(lambda x: x.shape[0] > 20) # Only words that were typed normally more than 20 times\n",
    "data['base_speed'] = data.word.map(data2.groupby('word').iki_letters.mean()) # Use letter-only speed\n",
    "data['touch_offset'] = data.word.map(get_offset) / data.word_length # Normalize the offset based on word length\n",
    "data['backspaces'] = data.word.map(data2.groupby('word').n_backspace.mean())\n",
    "\n",
    "# Drop any nan\n",
    "data = data.dropna()\n",
    "\n",
    "# Rename\n",
    "data = data.rename(columns={'iki':'leadup_speed'})\n",
    "\n",
    "# Transform to get better distributions\n",
    "data.freq = np.log10(data.freq)\n",
    "data.leadup_speed = data.leadup_speed.apply(np.reciprocal)*1000\n",
    "data.base_speed = data.base_speed.apply(np.reciprocal)*1000\n",
    "\n",
    "# Remove outliers\n",
    "data = data.loc[data.touch_offset < 1].copy()\n",
    "data = data.loc[data.leadup_speed < 20].copy()\n",
    "\n",
    "# Finalize\n",
    "data = data.set_index('word')"
   ]
  },
  {
   "cell_type": "code",
   "execution_count": 6,
   "metadata": {
    "hidden": true
   },
   "outputs": [
    {
     "data": {
      "text/plain": [
       "none              740069\n",
       "completion         19599\n",
       "correction          9190\n",
       "prediction          1494\n",
       "contraction          647\n",
       "capitalization       528\n",
       "Name: ite2, dtype: int64"
      ]
     },
     "execution_count": 6,
     "metadata": {},
     "output_type": "execute_result"
    }
   ],
   "source": [
    "data.ite2.value_counts()"
   ]
  },
  {
   "cell_type": "markdown",
   "metadata": {
    "heading_collapsed": true
   },
   "source": [
    "### Training"
   ]
  },
  {
   "cell_type": "code",
   "execution_count": 7,
   "metadata": {
    "hidden": true
   },
   "outputs": [],
   "source": [
    "# Preprocess X\n",
    "X = data.loc[:,data.columns != 'ite2'].copy()\n",
    "X.word_length = X.word_length.astype(float)\n",
    "X_scaled = preprocessing.StandardScaler().fit_transform(X)\n",
    "X = pd.DataFrame(X_scaled, index=X.index, columns=X.columns)\n",
    "X.is_contraction = data.is_contraction # Go back to binary\n",
    "X.is_capitalized = data.is_capitalized # Go back to binary\n",
    "\n",
    "# Preprocess y\n",
    "y = data['ite2'].copy()\n",
    "\n",
    "# Split data\n",
    "X_train,X_test,y_train,y_test=model_selection.train_test_split(X,y,test_size=0.1,random_state=1)\n",
    "\n",
    "# Add constant\n",
    "X_train = sm.add_constant(X_train) # TODO: do we want to include this?"
   ]
  },
  {
   "cell_type": "code",
   "execution_count": 8,
   "metadata": {
    "hidden": true
   },
   "outputs": [],
   "source": [
    "params = []\n",
    "pvalues = []\n",
    "errors = []\n",
    "params_disp = []\n",
    "\n",
    "# For each substrategy, train a binary logistic regression\n",
    "for i in y_train.sort_values().unique():\n",
    "    # Check the substrategy, depending on it we will ignore certain columns\n",
    "    if i == 'prediction':\n",
    "        c = ['const','word_length','freq','is_contraction','is_capitalized','base_speed','touch_offset','backspaces']\n",
    "    elif i in ['capitalization','contraction']:\n",
    "        c = ['const','word_length','freq','is_contraction','is_capitalized','base_speed','touch_offset','backspaces','leadup_speed']\n",
    "    else:    \n",
    "        c = X_train.columns # All columns\n",
    "    if i == 'none':\n",
    "        continue # Remove this line to see the \"none\" column\n",
    "    \n",
    "    # Fit the regression\n",
    "    model = sm.Logit((y_train == i).astype(float),X_train.loc[:,c])\n",
    "    results = model.fit(method='lbfgs',maxiter=1000)\n",
    "    \n",
    "    # Save the values\n",
    "    params.append(results.params.to_frame(i))\n",
    "    pvalues.append(results.pvalues.to_frame(i))\n",
    "    errors.append(results.bse.to_frame(i))\n",
    "\n",
    "# Create dataframe\n",
    "params = pd.concat(params,axis=1,sort=False)\n",
    "pvalues = pd.concat(pvalues,axis=1,sort=False)\n",
    "errors = pd.concat(errors,axis=1,sort=False)"
   ]
  },
  {
   "cell_type": "markdown",
   "metadata": {},
   "source": [
    "### Coefficients"
   ]
  },
  {
   "cell_type": "code",
   "execution_count": 9,
   "metadata": {},
   "outputs": [],
   "source": [
    "def to_asterix(x):\n",
    "    if x <= 0.01:\n",
    "        return '***'\n",
    "    elif x <= 0.05:\n",
    "        return '**'\n",
    "    elif x <= 0.1:\n",
    "        return '*'\n",
    "    else:\n",
    "        return ''\n",
    "\n",
    "# Create a nice display of the parameters (significance, errors, etc.)\n",
    "params_disp = pd.DataFrame()\n",
    "for c in params.columns:\n",
    "    for i in params.index:\n",
    "        param = params.loc[i,c]\n",
    "        p = pvalues.loc[i,c]\n",
    "        e = errors.loc[i,c]\n",
    "        if np.isnan(param):\n",
    "            params_disp.loc[i,c] = 'N/A'\n",
    "        else:\n",
    "            params_disp.loc[i,c] = '{}{}\\n({})'.format(\n",
    "                str(round(param,2)),\n",
    "                to_asterix(p),\n",
    "                str(round(e,2))\n",
    "            ) "
   ]
  },
  {
   "cell_type": "code",
   "execution_count": 10,
   "metadata": {},
   "outputs": [
    {
     "data": {
      "text/html": [
       "<style  type=\"text/css\" >\n",
       "    #T_337d7d8c_03ba_11ea_a35a_8c8590a5edecrow0_col0 {\n",
       "            text-align:  left;\n",
       "            white-space:  pre-wrap;\n",
       "        }    #T_337d7d8c_03ba_11ea_a35a_8c8590a5edecrow0_col1 {\n",
       "            text-align:  left;\n",
       "            white-space:  pre-wrap;\n",
       "        }    #T_337d7d8c_03ba_11ea_a35a_8c8590a5edecrow0_col2 {\n",
       "            text-align:  left;\n",
       "            white-space:  pre-wrap;\n",
       "        }    #T_337d7d8c_03ba_11ea_a35a_8c8590a5edecrow0_col3 {\n",
       "            text-align:  left;\n",
       "            white-space:  pre-wrap;\n",
       "        }    #T_337d7d8c_03ba_11ea_a35a_8c8590a5edecrow0_col4 {\n",
       "            text-align:  left;\n",
       "            white-space:  pre-wrap;\n",
       "        }    #T_337d7d8c_03ba_11ea_a35a_8c8590a5edecrow1_col0 {\n",
       "            text-align:  left;\n",
       "            white-space:  pre-wrap;\n",
       "        }    #T_337d7d8c_03ba_11ea_a35a_8c8590a5edecrow1_col1 {\n",
       "            text-align:  left;\n",
       "            white-space:  pre-wrap;\n",
       "        }    #T_337d7d8c_03ba_11ea_a35a_8c8590a5edecrow1_col2 {\n",
       "            text-align:  left;\n",
       "            white-space:  pre-wrap;\n",
       "        }    #T_337d7d8c_03ba_11ea_a35a_8c8590a5edecrow1_col3 {\n",
       "            text-align:  left;\n",
       "            white-space:  pre-wrap;\n",
       "        }    #T_337d7d8c_03ba_11ea_a35a_8c8590a5edecrow1_col4 {\n",
       "            text-align:  left;\n",
       "            white-space:  pre-wrap;\n",
       "        }    #T_337d7d8c_03ba_11ea_a35a_8c8590a5edecrow2_col0 {\n",
       "            text-align:  left;\n",
       "            white-space:  pre-wrap;\n",
       "        }    #T_337d7d8c_03ba_11ea_a35a_8c8590a5edecrow2_col1 {\n",
       "            text-align:  left;\n",
       "            white-space:  pre-wrap;\n",
       "        }    #T_337d7d8c_03ba_11ea_a35a_8c8590a5edecrow2_col2 {\n",
       "            text-align:  left;\n",
       "            white-space:  pre-wrap;\n",
       "        }    #T_337d7d8c_03ba_11ea_a35a_8c8590a5edecrow2_col3 {\n",
       "            text-align:  left;\n",
       "            white-space:  pre-wrap;\n",
       "        }    #T_337d7d8c_03ba_11ea_a35a_8c8590a5edecrow2_col4 {\n",
       "            text-align:  left;\n",
       "            white-space:  pre-wrap;\n",
       "        }    #T_337d7d8c_03ba_11ea_a35a_8c8590a5edecrow3_col0 {\n",
       "            text-align:  left;\n",
       "            white-space:  pre-wrap;\n",
       "        }    #T_337d7d8c_03ba_11ea_a35a_8c8590a5edecrow3_col1 {\n",
       "            text-align:  left;\n",
       "            white-space:  pre-wrap;\n",
       "        }    #T_337d7d8c_03ba_11ea_a35a_8c8590a5edecrow3_col2 {\n",
       "            text-align:  left;\n",
       "            white-space:  pre-wrap;\n",
       "        }    #T_337d7d8c_03ba_11ea_a35a_8c8590a5edecrow3_col3 {\n",
       "            text-align:  left;\n",
       "            white-space:  pre-wrap;\n",
       "        }    #T_337d7d8c_03ba_11ea_a35a_8c8590a5edecrow3_col4 {\n",
       "            text-align:  left;\n",
       "            white-space:  pre-wrap;\n",
       "        }    #T_337d7d8c_03ba_11ea_a35a_8c8590a5edecrow4_col0 {\n",
       "            text-align:  left;\n",
       "            white-space:  pre-wrap;\n",
       "        }    #T_337d7d8c_03ba_11ea_a35a_8c8590a5edecrow4_col1 {\n",
       "            text-align:  left;\n",
       "            white-space:  pre-wrap;\n",
       "        }    #T_337d7d8c_03ba_11ea_a35a_8c8590a5edecrow4_col2 {\n",
       "            text-align:  left;\n",
       "            white-space:  pre-wrap;\n",
       "        }    #T_337d7d8c_03ba_11ea_a35a_8c8590a5edecrow4_col3 {\n",
       "            text-align:  left;\n",
       "            white-space:  pre-wrap;\n",
       "        }    #T_337d7d8c_03ba_11ea_a35a_8c8590a5edecrow4_col4 {\n",
       "            text-align:  left;\n",
       "            white-space:  pre-wrap;\n",
       "        }    #T_337d7d8c_03ba_11ea_a35a_8c8590a5edecrow5_col0 {\n",
       "            text-align:  left;\n",
       "            white-space:  pre-wrap;\n",
       "        }    #T_337d7d8c_03ba_11ea_a35a_8c8590a5edecrow5_col1 {\n",
       "            text-align:  left;\n",
       "            white-space:  pre-wrap;\n",
       "        }    #T_337d7d8c_03ba_11ea_a35a_8c8590a5edecrow5_col2 {\n",
       "            text-align:  left;\n",
       "            white-space:  pre-wrap;\n",
       "        }    #T_337d7d8c_03ba_11ea_a35a_8c8590a5edecrow5_col3 {\n",
       "            text-align:  left;\n",
       "            white-space:  pre-wrap;\n",
       "        }    #T_337d7d8c_03ba_11ea_a35a_8c8590a5edecrow5_col4 {\n",
       "            text-align:  left;\n",
       "            white-space:  pre-wrap;\n",
       "        }    #T_337d7d8c_03ba_11ea_a35a_8c8590a5edecrow6_col0 {\n",
       "            text-align:  left;\n",
       "            white-space:  pre-wrap;\n",
       "        }    #T_337d7d8c_03ba_11ea_a35a_8c8590a5edecrow6_col1 {\n",
       "            text-align:  left;\n",
       "            white-space:  pre-wrap;\n",
       "        }    #T_337d7d8c_03ba_11ea_a35a_8c8590a5edecrow6_col2 {\n",
       "            text-align:  left;\n",
       "            white-space:  pre-wrap;\n",
       "        }    #T_337d7d8c_03ba_11ea_a35a_8c8590a5edecrow6_col3 {\n",
       "            text-align:  left;\n",
       "            white-space:  pre-wrap;\n",
       "        }    #T_337d7d8c_03ba_11ea_a35a_8c8590a5edecrow6_col4 {\n",
       "            text-align:  left;\n",
       "            white-space:  pre-wrap;\n",
       "        }    #T_337d7d8c_03ba_11ea_a35a_8c8590a5edecrow7_col0 {\n",
       "            text-align:  left;\n",
       "            white-space:  pre-wrap;\n",
       "        }    #T_337d7d8c_03ba_11ea_a35a_8c8590a5edecrow7_col1 {\n",
       "            text-align:  left;\n",
       "            white-space:  pre-wrap;\n",
       "        }    #T_337d7d8c_03ba_11ea_a35a_8c8590a5edecrow7_col2 {\n",
       "            text-align:  left;\n",
       "            white-space:  pre-wrap;\n",
       "        }    #T_337d7d8c_03ba_11ea_a35a_8c8590a5edecrow7_col3 {\n",
       "            text-align:  left;\n",
       "            white-space:  pre-wrap;\n",
       "        }    #T_337d7d8c_03ba_11ea_a35a_8c8590a5edecrow7_col4 {\n",
       "            text-align:  left;\n",
       "            white-space:  pre-wrap;\n",
       "        }    #T_337d7d8c_03ba_11ea_a35a_8c8590a5edecrow8_col0 {\n",
       "            text-align:  left;\n",
       "            white-space:  pre-wrap;\n",
       "        }    #T_337d7d8c_03ba_11ea_a35a_8c8590a5edecrow8_col1 {\n",
       "            text-align:  left;\n",
       "            white-space:  pre-wrap;\n",
       "        }    #T_337d7d8c_03ba_11ea_a35a_8c8590a5edecrow8_col2 {\n",
       "            text-align:  left;\n",
       "            white-space:  pre-wrap;\n",
       "        }    #T_337d7d8c_03ba_11ea_a35a_8c8590a5edecrow8_col3 {\n",
       "            text-align:  left;\n",
       "            white-space:  pre-wrap;\n",
       "        }    #T_337d7d8c_03ba_11ea_a35a_8c8590a5edecrow8_col4 {\n",
       "            text-align:  left;\n",
       "            white-space:  pre-wrap;\n",
       "        }    #T_337d7d8c_03ba_11ea_a35a_8c8590a5edecrow9_col0 {\n",
       "            text-align:  left;\n",
       "            white-space:  pre-wrap;\n",
       "        }    #T_337d7d8c_03ba_11ea_a35a_8c8590a5edecrow9_col1 {\n",
       "            text-align:  left;\n",
       "            white-space:  pre-wrap;\n",
       "        }    #T_337d7d8c_03ba_11ea_a35a_8c8590a5edecrow9_col2 {\n",
       "            text-align:  left;\n",
       "            white-space:  pre-wrap;\n",
       "        }    #T_337d7d8c_03ba_11ea_a35a_8c8590a5edecrow9_col3 {\n",
       "            text-align:  left;\n",
       "            white-space:  pre-wrap;\n",
       "        }    #T_337d7d8c_03ba_11ea_a35a_8c8590a5edecrow9_col4 {\n",
       "            text-align:  left;\n",
       "            white-space:  pre-wrap;\n",
       "        }</style>  \n",
       "<table id=\"T_337d7d8c_03ba_11ea_a35a_8c8590a5edec\" > \n",
       "<thead>    <tr> \n",
       "        <th class=\"blank level0\" ></th> \n",
       "        <th class=\"col_heading level0 col0\" >capitalization</th> \n",
       "        <th class=\"col_heading level0 col1\" >completion</th> \n",
       "        <th class=\"col_heading level0 col2\" >contraction</th> \n",
       "        <th class=\"col_heading level0 col3\" >correction</th> \n",
       "        <th class=\"col_heading level0 col4\" >prediction</th> \n",
       "    </tr></thead> \n",
       "<tbody>    <tr> \n",
       "        <th id=\"T_337d7d8c_03ba_11ea_a35a_8c8590a5edeclevel0_row0\" class=\"row_heading level0 row0\" >const</th> \n",
       "        <td id=\"T_337d7d8c_03ba_11ea_a35a_8c8590a5edecrow0_col0\" class=\"data row0 col0\" >-11.36***\n",
       "(0.24)</td> \n",
       "        <td id=\"T_337d7d8c_03ba_11ea_a35a_8c8590a5edecrow0_col1\" class=\"data row0 col1\" >-8.35***\n",
       "(0.07)</td> \n",
       "        <td id=\"T_337d7d8c_03ba_11ea_a35a_8c8590a5edecrow0_col2\" class=\"data row0 col2\" >-12.55***\n",
       "(0.61)</td> \n",
       "        <td id=\"T_337d7d8c_03ba_11ea_a35a_8c8590a5edecrow0_col3\" class=\"data row0 col3\" >-5.84***\n",
       "(0.03)</td> \n",
       "        <td id=\"T_337d7d8c_03ba_11ea_a35a_8c8590a5edecrow0_col4\" class=\"data row0 col4\" >-6.48***\n",
       "(0.04)</td> \n",
       "    </tr>    <tr> \n",
       "        <th id=\"T_337d7d8c_03ba_11ea_a35a_8c8590a5edeclevel0_row1\" class=\"row_heading level0 row1\" >word_length</th> \n",
       "        <td id=\"T_337d7d8c_03ba_11ea_a35a_8c8590a5edecrow1_col0\" class=\"data row1 col0\" >0.37***\n",
       "(0.05)</td> \n",
       "        <td id=\"T_337d7d8c_03ba_11ea_a35a_8c8590a5edecrow1_col1\" class=\"data row1 col1\" >5.53***\n",
       "(0.04)</td> \n",
       "        <td id=\"T_337d7d8c_03ba_11ea_a35a_8c8590a5edecrow1_col2\" class=\"data row1 col2\" >-0.22*\n",
       "(0.13)</td> \n",
       "        <td id=\"T_337d7d8c_03ba_11ea_a35a_8c8590a5edecrow1_col3\" class=\"data row1 col3\" >0.77***\n",
       "(0.02)</td> \n",
       "        <td id=\"T_337d7d8c_03ba_11ea_a35a_8c8590a5edecrow1_col4\" class=\"data row1 col4\" >0.55***\n",
       "(0.05)</td> \n",
       "    </tr>    <tr> \n",
       "        <th id=\"T_337d7d8c_03ba_11ea_a35a_8c8590a5edeclevel0_row2\" class=\"row_heading level0 row2\" >freq</th> \n",
       "        <td id=\"T_337d7d8c_03ba_11ea_a35a_8c8590a5edecrow2_col0\" class=\"data row2 col0\" >-0.62***\n",
       "(0.09)</td> \n",
       "        <td id=\"T_337d7d8c_03ba_11ea_a35a_8c8590a5edecrow2_col1\" class=\"data row2 col1\" >-0.4***\n",
       "(0.03)</td> \n",
       "        <td id=\"T_337d7d8c_03ba_11ea_a35a_8c8590a5edecrow2_col2\" class=\"data row2 col2\" >0.2\n",
       "(0.14)</td> \n",
       "        <td id=\"T_337d7d8c_03ba_11ea_a35a_8c8590a5edecrow2_col3\" class=\"data row2 col3\" >-0.38***\n",
       "(0.02)</td> \n",
       "        <td id=\"T_337d7d8c_03ba_11ea_a35a_8c8590a5edecrow2_col4\" class=\"data row2 col4\" >0.56***\n",
       "(0.05)</td> \n",
       "    </tr>    <tr> \n",
       "        <th id=\"T_337d7d8c_03ba_11ea_a35a_8c8590a5edeclevel0_row3\" class=\"row_heading level0 row3\" >is_contraction</th> \n",
       "        <td id=\"T_337d7d8c_03ba_11ea_a35a_8c8590a5edecrow3_col0\" class=\"data row3 col0\" >-0.67\n",
       "(1.72)</td> \n",
       "        <td id=\"T_337d7d8c_03ba_11ea_a35a_8c8590a5edecrow3_col1\" class=\"data row3 col1\" >0.32***\n",
       "(0.12)</td> \n",
       "        <td id=\"T_337d7d8c_03ba_11ea_a35a_8c8590a5edecrow3_col2\" class=\"data row3 col2\" >11.52***\n",
       "(0.66)</td> \n",
       "        <td id=\"T_337d7d8c_03ba_11ea_a35a_8c8590a5edecrow3_col3\" class=\"data row3 col3\" >-0.84***\n",
       "(0.12)</td> \n",
       "        <td id=\"T_337d7d8c_03ba_11ea_a35a_8c8590a5edecrow3_col4\" class=\"data row3 col4\" >0.31\n",
       "(1.05)</td> \n",
       "    </tr>    <tr> \n",
       "        <th id=\"T_337d7d8c_03ba_11ea_a35a_8c8590a5edeclevel0_row4\" class=\"row_heading level0 row4\" >is_capitalized</th> \n",
       "        <td id=\"T_337d7d8c_03ba_11ea_a35a_8c8590a5edecrow4_col0\" class=\"data row4 col0\" >5.61***\n",
       "(0.24)</td> \n",
       "        <td id=\"T_337d7d8c_03ba_11ea_a35a_8c8590a5edecrow4_col1\" class=\"data row4 col1\" >-0.25***\n",
       "(0.09)</td> \n",
       "        <td id=\"T_337d7d8c_03ba_11ea_a35a_8c8590a5edecrow4_col2\" class=\"data row4 col2\" >-1.36\n",
       "(10.58)</td> \n",
       "        <td id=\"T_337d7d8c_03ba_11ea_a35a_8c8590a5edecrow4_col3\" class=\"data row4 col3\" >-0.55***\n",
       "(0.06)</td> \n",
       "        <td id=\"T_337d7d8c_03ba_11ea_a35a_8c8590a5edecrow4_col4\" class=\"data row4 col4\" >0.66***\n",
       "(0.25)</td> \n",
       "    </tr>    <tr> \n",
       "        <th id=\"T_337d7d8c_03ba_11ea_a35a_8c8590a5edeclevel0_row5\" class=\"row_heading level0 row5\" >base_speed</th> \n",
       "        <td id=\"T_337d7d8c_03ba_11ea_a35a_8c8590a5edecrow5_col0\" class=\"data row5 col0\" >0.45***\n",
       "(0.07)</td> \n",
       "        <td id=\"T_337d7d8c_03ba_11ea_a35a_8c8590a5edecrow5_col1\" class=\"data row5 col1\" >0.04\n",
       "(0.02)</td> \n",
       "        <td id=\"T_337d7d8c_03ba_11ea_a35a_8c8590a5edecrow5_col2\" class=\"data row5 col2\" >-0.22***\n",
       "(0.08)</td> \n",
       "        <td id=\"T_337d7d8c_03ba_11ea_a35a_8c8590a5edecrow5_col3\" class=\"data row5 col3\" >0.13***\n",
       "(0.02)</td> \n",
       "        <td id=\"T_337d7d8c_03ba_11ea_a35a_8c8590a5edecrow5_col4\" class=\"data row5 col4\" >0.15***\n",
       "(0.04)</td> \n",
       "    </tr>    <tr> \n",
       "        <th id=\"T_337d7d8c_03ba_11ea_a35a_8c8590a5edeclevel0_row6\" class=\"row_heading level0 row6\" >touch_offset</th> \n",
       "        <td id=\"T_337d7d8c_03ba_11ea_a35a_8c8590a5edecrow6_col0\" class=\"data row6 col0\" >0.15***\n",
       "(0.05)</td> \n",
       "        <td id=\"T_337d7d8c_03ba_11ea_a35a_8c8590a5edecrow6_col1\" class=\"data row6 col1\" >0.05***\n",
       "(0.02)</td> \n",
       "        <td id=\"T_337d7d8c_03ba_11ea_a35a_8c8590a5edecrow6_col2\" class=\"data row6 col2\" >0.07\n",
       "(0.07)</td> \n",
       "        <td id=\"T_337d7d8c_03ba_11ea_a35a_8c8590a5edecrow6_col3\" class=\"data row6 col3\" >-0.04***\n",
       "(0.01)</td> \n",
       "        <td id=\"T_337d7d8c_03ba_11ea_a35a_8c8590a5edecrow6_col4\" class=\"data row6 col4\" >-0.1***\n",
       "(0.03)</td> \n",
       "    </tr>    <tr> \n",
       "        <th id=\"T_337d7d8c_03ba_11ea_a35a_8c8590a5edeclevel0_row7\" class=\"row_heading level0 row7\" >backspaces</th> \n",
       "        <td id=\"T_337d7d8c_03ba_11ea_a35a_8c8590a5edecrow7_col0\" class=\"data row7 col0\" >-0.02\n",
       "(0.04)</td> \n",
       "        <td id=\"T_337d7d8c_03ba_11ea_a35a_8c8590a5edecrow7_col1\" class=\"data row7 col1\" >-0.19***\n",
       "(0.02)</td> \n",
       "        <td id=\"T_337d7d8c_03ba_11ea_a35a_8c8590a5edecrow7_col2\" class=\"data row7 col2\" >-0.17***\n",
       "(0.03)</td> \n",
       "        <td id=\"T_337d7d8c_03ba_11ea_a35a_8c8590a5edecrow7_col3\" class=\"data row7 col3\" >-0.1***\n",
       "(0.01)</td> \n",
       "        <td id=\"T_337d7d8c_03ba_11ea_a35a_8c8590a5edecrow7_col4\" class=\"data row7 col4\" >-0.58***\n",
       "(0.07)</td> \n",
       "    </tr>    <tr> \n",
       "        <th id=\"T_337d7d8c_03ba_11ea_a35a_8c8590a5edeclevel0_row8\" class=\"row_heading level0 row8\" >leadup_speed</th> \n",
       "        <td id=\"T_337d7d8c_03ba_11ea_a35a_8c8590a5edecrow8_col0\" class=\"data row8 col0\" >-1.7***\n",
       "(0.12)</td> \n",
       "        <td id=\"T_337d7d8c_03ba_11ea_a35a_8c8590a5edecrow8_col1\" class=\"data row8 col1\" >-3.4***\n",
       "(0.05)</td> \n",
       "        <td id=\"T_337d7d8c_03ba_11ea_a35a_8c8590a5edecrow8_col2\" class=\"data row8 col2\" >0.19**\n",
       "(0.08)</td> \n",
       "        <td id=\"T_337d7d8c_03ba_11ea_a35a_8c8590a5edecrow8_col3\" class=\"data row8 col3\" >-1.98***\n",
       "(0.02)</td> \n",
       "        <td id=\"T_337d7d8c_03ba_11ea_a35a_8c8590a5edecrow8_col4\" class=\"data row8 col4\" >N/A</td> \n",
       "    </tr>    <tr> \n",
       "        <th id=\"T_337d7d8c_03ba_11ea_a35a_8c8590a5edeclevel0_row9\" class=\"row_heading level0 row9\" >leadup_length</th> \n",
       "        <td id=\"T_337d7d8c_03ba_11ea_a35a_8c8590a5edecrow9_col0\" class=\"data row9 col0\" >N/A</td> \n",
       "        <td id=\"T_337d7d8c_03ba_11ea_a35a_8c8590a5edecrow9_col1\" class=\"data row9 col1\" >-5.43***\n",
       "(0.04)</td> \n",
       "        <td id=\"T_337d7d8c_03ba_11ea_a35a_8c8590a5edecrow9_col2\" class=\"data row9 col2\" >N/A</td> \n",
       "        <td id=\"T_337d7d8c_03ba_11ea_a35a_8c8590a5edecrow9_col3\" class=\"data row9 col3\" >-0.29***\n",
       "(0.01)</td> \n",
       "        <td id=\"T_337d7d8c_03ba_11ea_a35a_8c8590a5edecrow9_col4\" class=\"data row9 col4\" >N/A</td> \n",
       "    </tr></tbody> \n",
       "</table> "
      ],
      "text/plain": [
       "<pandas.io.formats.style.Styler at 0x1216e4358>"
      ]
     },
     "metadata": {},
     "output_type": "display_data"
    }
   ],
   "source": [
    "from IPython.display import display\n",
    "\n",
    "# Assuming the variable df contains the relevant DataFrame\n",
    "display(params_disp.style.set_properties(**{\n",
    "    'text-align': 'left',\n",
    "    'white-space': 'pre-wrap',\n",
    "}))"
   ]
  },
  {
   "cell_type": "markdown",
   "metadata": {},
   "source": [
    "### What is the performance for estimating the probability of selection?"
   ]
  },
  {
   "cell_type": "code",
   "execution_count": 11,
   "metadata": {},
   "outputs": [],
   "source": [
    "def predict_prob(params, x):\n",
    "    # Get odds from params\n",
    "    odds = (params * x).sum(axis=1).apply(np.exp)\n",
    "    return odds/(1+odds)    "
   ]
  },
  {
   "cell_type": "code",
   "execution_count": 12,
   "metadata": {},
   "outputs": [
    {
     "data": {
      "image/png": "[encoded data removed]",
      "text/plain": [
       "<Figure size 432x396 with 1 Axes>"
      ]
     },
     "metadata": {},
     "output_type": "display_data"
    }
   ],
   "source": [
    "f,ax = plt.subplots(1,1,figsize=(6,5.5))\n",
    "\n",
    "# 1. Calculate performance for each substrategy\n",
    "\n",
    "for i in params.columns:\n",
    "    if i == 'none':\n",
    "        continue\n",
    "    \n",
    "    # Prepare X and y for this substrategy\n",
    "    mask = (y_test == i) | (y_test == 'none') # Remove instances where other substrategies were used\n",
    "    X_test_s = X_test.loc[mask]\n",
    "    y_test_s = y_test.loc[mask] != 'none' # Binary: True when the substrategy is used\n",
    "   \n",
    "    # Calculate the probability of using the substrategy on a given word\n",
    "    y_prob = pd.DataFrame(columns=params.columns)\n",
    "    X_test_s = sm.add_constant(X_test_s)\n",
    "    for c in params.columns:\n",
    "        y_prob[c] = predict_prob(params[c],X_test_s)\n",
    "    y_prob = y_prob.sum(axis=1) # Probability of using suggestions is the sum of the estimated probability for each substrategy\n",
    "\n",
    "    fpr, tpr, thresh = metrics.roc_curve(y_test_s, y_prob) \n",
    "    \n",
    "    # Plot ROC\n",
    "    ax.plot(fpr,tpr, label = i,alpha=0.8)\n",
    "    \n",
    "    \n",
    "\n",
    "# 2. Calculate performance for overall performance\n",
    "\n",
    "y_test_bool = y_test != 'none' # Binary: True if ANY substrategy was used (rather than a specific one)\n",
    "\n",
    "# Calculate the probability of using the substrategy on a given word\n",
    "y_prob = pd.DataFrame(columns=params.columns)\n",
    "X_test = sm.add_constant(X_test)\n",
    "for c in params.columns:\n",
    "    y_prob[c] = predict_prob(params[c],X_test)\n",
    "y_prob = y_prob.sum(axis=1) # Probability of using suggestions is the sum of the estimated probability for each substrategy\n",
    "\n",
    "\n",
    "fpr, tpr, thresh = metrics.roc_curve(y_test_bool, y_prob)\n",
    "\n",
    "# Plot ROC for overall performance\n",
    "ax.plot(fpr,tpr,label='Overall',lw=3,c='k')\n",
    "ax.plot([0,1],[0,1],'--',c='k',alpha=0.5)\n",
    "\n",
    "# 3. Other plot settings\n",
    "ax.legend(fontsize=12)\n",
    "ax.grid()\n",
    "ax.set_xlabel('False positive rate (FPR)')\n",
    "ax.set_ylabel('True positive rate (TPR)')\n",
    "\n",
    "for item in ([ax.title, ax.xaxis.label, ax.yaxis.label] +\n",
    "             ax.get_xticklabels() + ax.get_yticklabels()):\n",
    "    item.set_fontsize(12)\n",
    "\n",
    "f.tight_layout(pad = 0)\n",
    "\n",
    "f.savefig('./figures/roc_selection.png',dpi=300)"
   ]
  },
  {
   "cell_type": "code",
   "execution_count": 13,
   "metadata": {},
   "outputs": [
    {
     "data": {
      "text/html": [
       "<div>\n",
       "<style scoped>\n",
       "    .dataframe tbody tr th:only-of-type {\n",
       "        vertical-align: middle;\n",
       "    }\n",
       "\n",
       "    .dataframe tbody tr th {\n",
       "        vertical-align: top;\n",
       "    }\n",
       "\n",
       "    .dataframe thead th {\n",
       "        text-align: right;\n",
       "    }\n",
       "</style>\n",
       "<table border=\"1\" class=\"dataframe\">\n",
       "  <thead>\n",
       "    <tr style=\"text-align: right;\">\n",
       "      <th></th>\n",
       "      <th>fpr</th>\n",
       "      <th>tpr</th>\n",
       "    </tr>\n",
       "    <tr>\n",
       "      <th>thresh</th>\n",
       "      <th></th>\n",
       "      <th></th>\n",
       "    </tr>\n",
       "  </thead>\n",
       "  <tbody>\n",
       "    <tr>\n",
       "      <th>0.047879</th>\n",
       "      <td>0.075615</td>\n",
       "      <td>0.820563</td>\n",
       "    </tr>\n",
       "    <tr>\n",
       "      <th>0.040353</th>\n",
       "      <td>0.096277</td>\n",
       "      <td>0.844466</td>\n",
       "    </tr>\n",
       "    <tr>\n",
       "      <th>0.051839</th>\n",
       "      <td>0.066816</td>\n",
       "      <td>0.808775</td>\n",
       "    </tr>\n",
       "    <tr>\n",
       "      <th>0.041446</th>\n",
       "      <td>0.092808</td>\n",
       "      <td>0.839227</td>\n",
       "    </tr>\n",
       "    <tr>\n",
       "      <th>0.040909</th>\n",
       "      <td>0.094563</td>\n",
       "      <td>0.842829</td>\n",
       "    </tr>\n",
       "  </tbody>\n",
       "</table>\n",
       "</div>"
      ],
      "text/plain": [
       "               fpr       tpr\n",
       "thresh                      \n",
       "0.047879  0.075615  0.820563\n",
       "0.040353  0.096277  0.844466\n",
       "0.051839  0.066816  0.808775\n",
       "0.041446  0.092808  0.839227\n",
       "0.040909  0.094563  0.842829"
      ]
     },
     "execution_count": 13,
     "metadata": {},
     "output_type": "execute_result"
    }
   ],
   "source": [
    "roc = pd.DataFrame([fpr,tpr,thresh]).T\n",
    "roc.columns = ['fpr','tpr','thresh']\n",
    "roc = roc.set_index('thresh')\n",
    "roc.loc[(roc.fpr < 0.1) & (roc.tpr > 0.8)].sample(5, random_state=0)"
   ]
  },
  {
   "cell_type": "code",
   "execution_count": 14,
   "metadata": {},
   "outputs": [
    {
     "data": {
      "text/html": [
       "<div>\n",
       "<style scoped>\n",
       "    .dataframe tbody tr th:only-of-type {\n",
       "        vertical-align: middle;\n",
       "    }\n",
       "\n",
       "    .dataframe tbody tr th {\n",
       "        vertical-align: top;\n",
       "    }\n",
       "\n",
       "    .dataframe thead th {\n",
       "        text-align: right;\n",
       "    }\n",
       "</style>\n",
       "<table border=\"1\" class=\"dataframe\">\n",
       "  <thead>\n",
       "    <tr style=\"text-align: right;\">\n",
       "      <th></th>\n",
       "      <th>0</th>\n",
       "      <th>1</th>\n",
       "    </tr>\n",
       "  </thead>\n",
       "  <tbody>\n",
       "    <tr>\n",
       "      <th>0</th>\n",
       "      <td>68861</td>\n",
       "      <td>5238</td>\n",
       "    </tr>\n",
       "    <tr>\n",
       "      <th>1</th>\n",
       "      <td>569</td>\n",
       "      <td>2485</td>\n",
       "    </tr>\n",
       "  </tbody>\n",
       "</table>\n",
       "</div>"
      ],
      "text/plain": [
       "       0     1\n",
       "0  68861  5238\n",
       "1    569  2485"
      ]
     },
     "execution_count": 14,
     "metadata": {},
     "output_type": "execute_result"
    }
   ],
   "source": [
    "confusion_matrix = pd.DataFrame(metrics.confusion_matrix(y_test_bool,y_prob > 0.05))\n",
    "confusion_matrix"
   ]
  },
  {
   "cell_type": "code",
   "execution_count": 15,
   "metadata": {},
   "outputs": [
    {
     "data": {
      "text/plain": [
       "0.92473397016318226"
      ]
     },
     "execution_count": 15,
     "metadata": {},
     "output_type": "execute_result"
    }
   ],
   "source": [
    "metrics.accuracy_score(y_test_bool,y_prob > 0.05)"
   ]
  },
  {
   "cell_type": "code",
   "execution_count": 16,
   "metadata": {},
   "outputs": [
    {
     "data": {
      "text/plain": [
       "0.32176615304933315"
      ]
     },
     "execution_count": 16,
     "metadata": {},
     "output_type": "execute_result"
    }
   ],
   "source": [
    "metrics.precision_score(y_test_bool,y_prob > 0.05)"
   ]
  },
  {
   "cell_type": "code",
   "execution_count": 17,
   "metadata": {},
   "outputs": [
    {
     "data": {
      "text/plain": [
       "0.81368696791093653"
      ]
     },
     "execution_count": 17,
     "metadata": {},
     "output_type": "execute_result"
    }
   ],
   "source": [
    "metrics.recall_score(y_test_bool,y_prob > 0.05)"
   ]
  }
 ],
 "metadata": {
  "kernelspec": {
   "display_name": "Python 3",
   "language": "python",
   "name": "python3"
  },
  "language_info": {
   "codemirror_mode": {
    "name": "ipython",
    "version": 3
   },
   "file_extension": ".py",
   "mimetype": "text/x-python",
   "name": "python",
   "nbconvert_exporter": "python",
   "pygments_lexer": "ipython3",
   "version": "3.6.6"
  }
 },
 "nbformat": 4,
 "nbformat_minor": 2
}
