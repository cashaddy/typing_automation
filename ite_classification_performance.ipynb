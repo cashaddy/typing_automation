{
 "cells": [
  {
   "cell_type": "code",
   "execution_count": 265,
   "metadata": {},
   "outputs": [],
   "source": [
    "import pandas as pd\n",
    "from sklearn import preprocessing, metrics\n",
    "import processing"
   ]
  },
  {
   "cell_type": "markdown",
   "metadata": {},
   "source": [
    "Due to the filtering of abnormal behaviour and of swipe users, we end up with very little data to benchmark with. Even worse, if we get rid of non-native English speakers, we end up with no data!"
   ]
  },
  {
   "cell_type": "code",
   "execution_count": 266,
   "metadata": {},
   "outputs": [
    {
     "data": {
      "text/plain": [
       "<module 'processing' from '/Users/itto/Documents/projects/typing/typing_automation/processing.py'>"
      ]
     },
     "execution_count": 266,
     "metadata": {},
     "output_type": "execute_result"
    }
   ],
   "source": [
    "from importlib import reload\n",
    "reload(processing)"
   ]
  },
  {
   "cell_type": "code",
   "execution_count": 267,
   "metadata": {},
   "outputs": [],
   "source": [
    "log = processing.get_log('./data/log_lab_participants.csv')"
   ]
  },
  {
   "cell_type": "code",
   "execution_count": 268,
   "metadata": {},
   "outputs": [],
   "source": [
    "words = processing.log_to_words(log)\n",
    "words['ite_true'] = None"
   ]
  },
  {
   "cell_type": "markdown",
   "metadata": {},
   "source": [
    "Overall, there is a good match between the words on the annotated list and the words that were aggregated. We print the words that do not show up."
   ]
  },
  {
   "cell_type": "code",
   "execution_count": 269,
   "metadata": {
    "scrolled": false
   },
   "outputs": [
    {
     "name": "stdout",
     "output_type": "stream",
     "text": [
      "1644280 price\n",
      "1644290 today\n",
      "1644301 in\n",
      "1644346 the\n",
      "1644346 the\n",
      "1644346 the\n",
      "1647681 appreciate\n",
      "1647697 is\n",
      "1647697 is\n",
      "1647718 14-year-old\n",
      "1647727 he\n",
      "1647727 he\n",
      "1718251 Others\n",
      "1718260 message\n",
      "1718269 him\n",
      "1718269 agaist\n",
      "1718269 stifling\n",
      "1718286 What\n",
      "1718286 the\n",
      "1718340 agreed\n",
      "1718374 I\n",
      "1718374 am\n",
      "1718374 hotel\n",
      "1718385 came\n",
      "1718395 this\n",
      "1718410 adversarial\n",
      "1718410 going\n",
      "1718441 Samantha\n",
      "1753210 day\n",
      "1753210 day\n"
     ]
    }
   ],
   "source": [
    "with open('./data/typing_lab_annotations_machine.txt') as f:\n",
    "    for l in f:\n",
    "        if 'ts_id' in l:\n",
    "            ts = int(l.strip().split(':')[1])\n",
    "        elif l == '\\n':\n",
    "            pass\n",
    "        else:\n",
    "            w = l.strip().split(':')[0]\n",
    "            code = l.strip().split(':')[1]\n",
    "            if len(code) is not 3:\n",
    "                if code == '010*':\n",
    "                    ite = 'predict'\n",
    "                else:\n",
    "                    ite = code\n",
    "            else:\n",
    "                if code[0] == '1':\n",
    "                    ite = 'predict'\n",
    "                elif code[1] == '1':\n",
    "                    ite = 'autocorr'\n",
    "                elif code[2] == '1':\n",
    "                    ite = 'swype'\n",
    "                else:\n",
    "                    ite = 'none'\n",
    "            if words.loc[(words.ts_id == ts) & (words.word == w),'ite_true'].shape[0] != 1:\n",
    "                if ts not in words.ts_id.unique():\n",
    "                    pass\n",
    "                else:\n",
    "                    print(ts,w)\n",
    "            try:\n",
    "                words.loc[(words.ts_id == ts) & (words.word == w),'ite_true'] = ite\n",
    "            except:\n",
    "                pass\n",
    "                    \n",
    "            "
   ]
  },
  {
   "cell_type": "code",
   "execution_count": 274,
   "metadata": {},
   "outputs": [
    {
     "data": {
      "text/html": [
       "<div>\n",
       "<style scoped>\n",
       "    .dataframe tbody tr th:only-of-type {\n",
       "        vertical-align: middle;\n",
       "    }\n",
       "\n",
       "    .dataframe tbody tr th {\n",
       "        vertical-align: top;\n",
       "    }\n",
       "\n",
       "    .dataframe thead th {\n",
       "        text-align: right;\n",
       "    }\n",
       "</style>\n",
       "<table border=\"1\" class=\"dataframe\">\n",
       "  <thead>\n",
       "    <tr style=\"text-align: right;\">\n",
       "      <th></th>\n",
       "      <th>False</th>\n",
       "      <th>True</th>\n",
       "    </tr>\n",
       "  </thead>\n",
       "  <tbody>\n",
       "    <tr>\n",
       "      <th>False</th>\n",
       "      <td>432</td>\n",
       "      <td>2</td>\n",
       "    </tr>\n",
       "    <tr>\n",
       "      <th>True</th>\n",
       "      <td>1</td>\n",
       "      <td>14</td>\n",
       "    </tr>\n",
       "  </tbody>\n",
       "</table>\n",
       "</div>"
      ],
      "text/plain": [
       "       False  True \n",
       "False    432      2\n",
       "True       1     14"
      ]
     },
     "execution_count": 274,
     "metadata": {},
     "output_type": "execute_result"
    }
   ],
   "source": [
    "y_test = words.ite_true.fillna('null') == 'predict'\n",
    "y_pred = words.ite == 'predict'\n",
    "confusion = pd.DataFrame(metrics.confusion_matrix(y_test,y_pred), index=[False, True], columns=[False,True])\n",
    "confusion"
   ]
  },
  {
   "cell_type": "code",
   "execution_count": null,
   "metadata": {},
   "outputs": [],
   "source": []
  }
 ],
 "metadata": {
  "kernelspec": {
   "display_name": "Python 3",
   "language": "python",
   "name": "python3"
  },
  "language_info": {
   "codemirror_mode": {
    "name": "ipython",
    "version": 3
   },
   "file_extension": ".py",
   "mimetype": "text/x-python",
   "name": "python",
   "nbconvert_exporter": "python",
   "pygments_lexer": "ipython3",
   "version": "3.6.7"
  }
 },
 "nbformat": 4,
 "nbformat_minor": 2
}
