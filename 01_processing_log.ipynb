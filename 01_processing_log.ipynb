{
 "cells": [
  {
   "cell_type": "code",
   "execution_count": null,
   "metadata": {},
   "outputs": [],
   "source": [
    "import pandas as pd\n",
    "import numpy as np\n",
    "import processing"
   ]
  },
  {
   "cell_type": "code",
   "execution_count": null,
   "metadata": {},
   "outputs": [],
   "source": [
    "%%time\n",
    "# Read the data\n",
    "log_valid = pd.read_csv('./data/log_valid.csv')\n",
    "\n",
    "# Match the participants\n",
    "log_valid = processing.get_participants_for_log(log_valid)"
   ]
  },
  {
   "cell_type": "code",
   "execution_count": null,
   "metadata": {},
   "outputs": [],
   "source": [
    "# Save a copy of the lab participants\n",
    "log_lab = log_valid.loc[log_valid.participant_id.isin([\n",
    "    252249,\n",
    "    254300,\n",
    "    254745,\n",
    "    263374,\n",
    "    263720,\n",
    "    265900,\n",
    "    267956,\n",
    "    268067,\n",
    "    268085\n",
    "])]\n",
    "log_lab.to_csv('./data/log_lab_participants.csv',index=False)"
   ]
  },
  {
   "cell_type": "code",
   "execution_count": null,
   "metadata": {},
   "outputs": [],
   "source": [
    "# Optional: subsample\n",
    "np.random.seed(0)\n",
    "id_sample = np.random.choice(log_sample.participant_id.unique(),20000,replace=False)\n",
    "log_sample = log_valid.loc[log_valid.participant_id.isin(id_sample)]"
   ]
  },
  {
   "cell_type": "code",
   "execution_count": null,
   "metadata": {},
   "outputs": [],
   "source": [
    "# Process and filter\n",
    "log = processing.log_process(log_sample)\n",
    "log = processing.mark_entries(log)\n",
    "log = processing.filter_log(log)\n",
    "\n",
    "# Get ITE's\n",
    "log = processing.infer_ite_no_swype(log)\n",
    "log = processing.infer_sub_strategy(log)"
   ]
  },
  {
   "cell_type": "code",
   "execution_count": null,
   "metadata": {},
   "outputs": [],
   "source": [
    "# Save\n",
    "log.to_csv('./data/log_valid_processed.csv',index=False)"
   ]
  }
 ],
 "metadata": {
  "kernelspec": {
   "display_name": "Python 3",
   "language": "python",
   "name": "python3"
  },
  "language_info": {
   "codemirror_mode": {
    "name": "ipython",
    "version": 3
   },
   "file_extension": ".py",
   "mimetype": "text/x-python",
   "name": "python",
   "nbconvert_exporter": "python",
   "pygments_lexer": "ipython3",
   "version": "3.7.4"
  }
 },
 "nbformat": 4,
 "nbformat_minor": 2
}
