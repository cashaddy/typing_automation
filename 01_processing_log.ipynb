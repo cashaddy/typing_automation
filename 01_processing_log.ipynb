{
 "cells": [
  {
   "cell_type": "code",
   "execution_count": 4,
   "metadata": {},
   "outputs": [],
   "source": [
    "import pandas as pd\n",
    "import numpy as np\n",
    "import processing"
   ]
  },
  {
   "cell_type": "code",
   "execution_count": 5,
   "metadata": {},
   "outputs": [
    {
     "name": "stdout",
     "output_type": "stream",
     "text": [
      "CPU times: user 23.4 s, sys: 2.53 s, total: 25.9 s\n",
      "Wall time: 26 s\n"
     ]
    }
   ],
   "source": [
    "%%time\n",
    "# Read the data\n",
    "log_valid = pd.read_csv('./data/log_valid.csv')\n",
    "\n",
    "# Match the participants\n",
    "log_valid = processing.get_participants_for_log(log_valid)"
   ]
  },
  {
   "cell_type": "code",
   "execution_count": 6,
   "outputs": [],
   "source": [
    "# Optional: add demographics\n",
    "log_valid = processing.get_demographics_for_log(log_valid)"
   ],
   "metadata": {
    "collapsed": false
   }
  },
  {
   "cell_type": "code",
   "execution_count": 7,
   "outputs": [
    {
     "data": {
      "text/plain": "          participant_id  age  gender       os\n0                 148820   25  female      iOS\n705               132018   33  female  Android\n1457              239512   52  female      iOS\n2184              137650   23    male  Android\n2740              130200   30  female  Android\n...                  ...  ...     ...      ...\n24395667          269482   26    male      iOS\n24396285          272084   20  female  Android\n24397283          260184   26  female  Android\n24398252          125438   51  female  Android\n24399152           24007   22    male  Android\n\n[33814 rows x 4 columns]",
      "text/html": "<div>\n<style scoped>\n    .dataframe tbody tr th:only-of-type {\n        vertical-align: middle;\n    }\n\n    .dataframe tbody tr th {\n        vertical-align: top;\n    }\n\n    .dataframe thead th {\n        text-align: right;\n    }\n</style>\n<table border=\"1\" class=\"dataframe\">\n  <thead>\n    <tr style=\"text-align: right;\">\n      <th></th>\n      <th>participant_id</th>\n      <th>age</th>\n      <th>gender</th>\n      <th>os</th>\n    </tr>\n  </thead>\n  <tbody>\n    <tr>\n      <th>0</th>\n      <td>148820</td>\n      <td>25</td>\n      <td>female</td>\n      <td>iOS</td>\n    </tr>\n    <tr>\n      <th>705</th>\n      <td>132018</td>\n      <td>33</td>\n      <td>female</td>\n      <td>Android</td>\n    </tr>\n    <tr>\n      <th>1457</th>\n      <td>239512</td>\n      <td>52</td>\n      <td>female</td>\n      <td>iOS</td>\n    </tr>\n    <tr>\n      <th>2184</th>\n      <td>137650</td>\n      <td>23</td>\n      <td>male</td>\n      <td>Android</td>\n    </tr>\n    <tr>\n      <th>2740</th>\n      <td>130200</td>\n      <td>30</td>\n      <td>female</td>\n      <td>Android</td>\n    </tr>\n    <tr>\n      <th>...</th>\n      <td>...</td>\n      <td>...</td>\n      <td>...</td>\n      <td>...</td>\n    </tr>\n    <tr>\n      <th>24395667</th>\n      <td>269482</td>\n      <td>26</td>\n      <td>male</td>\n      <td>iOS</td>\n    </tr>\n    <tr>\n      <th>24396285</th>\n      <td>272084</td>\n      <td>20</td>\n      <td>female</td>\n      <td>Android</td>\n    </tr>\n    <tr>\n      <th>24397283</th>\n      <td>260184</td>\n      <td>26</td>\n      <td>female</td>\n      <td>Android</td>\n    </tr>\n    <tr>\n      <th>24398252</th>\n      <td>125438</td>\n      <td>51</td>\n      <td>female</td>\n      <td>Android</td>\n    </tr>\n    <tr>\n      <th>24399152</th>\n      <td>24007</td>\n      <td>22</td>\n      <td>male</td>\n      <td>Android</td>\n    </tr>\n  </tbody>\n</table>\n<p>33814 rows × 4 columns</p>\n</div>"
     },
     "execution_count": 7,
     "metadata": {},
     "output_type": "execute_result"
    }
   ],
   "source": [
    "# Optional: output demographic stats\n",
    "processing.demographic_stats(log_valid)"
   ],
   "metadata": {
    "collapsed": false
   }
  },
  {
   "cell_type": "code",
   "execution_count": 8,
   "metadata": {},
   "outputs": [],
   "source": [
    "# Save a copy of the lab participants\n",
    "log_lab = log_valid.loc[log_valid.participant_id.isin([\n",
    "    252249,\n",
    "    254300,\n",
    "    254745,\n",
    "    263374,\n",
    "    263720,\n",
    "    265900,\n",
    "    267956,\n",
    "    268067,\n",
    "    268085\n",
    "])]\n",
    "log_lab.to_csv('./data/log_lab_participants.csv',index=False)"
   ]
  },
  {
   "cell_type": "code",
   "execution_count": 9,
   "metadata": {},
   "outputs": [],
   "source": [
    "# Optional: subsample\n",
    "np.random.seed(0)\n",
    "id_sample = np.random.choice(log_valid.participant_id.unique(), 20000, replace=False)\n",
    "log_sample = log_valid.loc[log_valid.participant_id.isin(id_sample)]"
   ]
  },
  {
   "cell_type": "code",
   "execution_count": 10,
   "outputs": [],
   "source": [
    "# In case the optional subsampling was not executed\n",
    "log_sample = log_valid"
   ],
   "metadata": {
    "collapsed": false
   }
  },
  {
   "cell_type": "code",
   "execution_count": 11,
   "metadata": {},
   "outputs": [],
   "source": [
    "# Process and filter\n",
    "log = processing.log_process(log_sample)\n",
    "log = processing.mark_entries(log)\n",
    "log = processing.filter_log(log)\n",
    "\n",
    "# Get ITE's\n",
    "log = processing.infer_ite_no_swype(log)\n",
    "log = processing.infer_sub_strategy(log)"
   ]
  },
  {
   "cell_type": "code",
   "execution_count": 12,
   "outputs": [
    {
     "data": {
      "text/plain": "          participant_id  age  gender   os\n2771                 782   50  female  iOS\n3401                 790   19    male  iOS\n3800                 792   17  female  iOS\n5513                 842   27  female  iOS\n5989                 854   21  female  iOS\n...                  ...  ...     ...  ...\n14207963          273960   21    male  iOS\n14209533          273976   29  female  iOS\n14211090          274025   16  female  iOS\n14212535          274045   19  female  iOS\n14214334          274091   20    male  iOS\n\n[15176 rows x 4 columns]",
      "text/html": "<div>\n<style scoped>\n    .dataframe tbody tr th:only-of-type {\n        vertical-align: middle;\n    }\n\n    .dataframe tbody tr th {\n        vertical-align: top;\n    }\n\n    .dataframe thead th {\n        text-align: right;\n    }\n</style>\n<table border=\"1\" class=\"dataframe\">\n  <thead>\n    <tr style=\"text-align: right;\">\n      <th></th>\n      <th>participant_id</th>\n      <th>age</th>\n      <th>gender</th>\n      <th>os</th>\n    </tr>\n  </thead>\n  <tbody>\n    <tr>\n      <th>2771</th>\n      <td>782</td>\n      <td>50</td>\n      <td>female</td>\n      <td>iOS</td>\n    </tr>\n    <tr>\n      <th>3401</th>\n      <td>790</td>\n      <td>19</td>\n      <td>male</td>\n      <td>iOS</td>\n    </tr>\n    <tr>\n      <th>3800</th>\n      <td>792</td>\n      <td>17</td>\n      <td>female</td>\n      <td>iOS</td>\n    </tr>\n    <tr>\n      <th>5513</th>\n      <td>842</td>\n      <td>27</td>\n      <td>female</td>\n      <td>iOS</td>\n    </tr>\n    <tr>\n      <th>5989</th>\n      <td>854</td>\n      <td>21</td>\n      <td>female</td>\n      <td>iOS</td>\n    </tr>\n    <tr>\n      <th>...</th>\n      <td>...</td>\n      <td>...</td>\n      <td>...</td>\n      <td>...</td>\n    </tr>\n    <tr>\n      <th>14207963</th>\n      <td>273960</td>\n      <td>21</td>\n      <td>male</td>\n      <td>iOS</td>\n    </tr>\n    <tr>\n      <th>14209533</th>\n      <td>273976</td>\n      <td>29</td>\n      <td>female</td>\n      <td>iOS</td>\n    </tr>\n    <tr>\n      <th>14211090</th>\n      <td>274025</td>\n      <td>16</td>\n      <td>female</td>\n      <td>iOS</td>\n    </tr>\n    <tr>\n      <th>14212535</th>\n      <td>274045</td>\n      <td>19</td>\n      <td>female</td>\n      <td>iOS</td>\n    </tr>\n    <tr>\n      <th>14214334</th>\n      <td>274091</td>\n      <td>20</td>\n      <td>male</td>\n      <td>iOS</td>\n    </tr>\n  </tbody>\n</table>\n<p>15176 rows × 4 columns</p>\n</div>"
     },
     "execution_count": 12,
     "metadata": {},
     "output_type": "execute_result"
    }
   ],
   "source": [
    "# Optional: output demographic stats\n",
    "processing.demographic_stats(log)"
   ],
   "metadata": {
    "collapsed": false
   }
  },
  {
   "cell_type": "code",
   "execution_count": 13,
   "metadata": {},
   "outputs": [],
   "source": [
    "# Save\n",
    "log.to_csv('./data/log_valid_processed.csv', index=False)"
   ]
  },
  {
   "cell_type": "code",
   "execution_count": 14,
   "outputs": [],
   "source": [
    "# Optional: add demographics to processed data\n",
    "log = pd.read_csv('./data/log_valid_processed.csv')\n",
    "log = processing.get_demographics_for_log(log)\n",
    "log.to_csv('./data/log_valid_processed.csv', index=False)"
   ],
   "metadata": {
    "collapsed": false
   }
  }
 ],
 "metadata": {
  "kernelspec": {
   "display_name": "Python 3",
   "language": "python",
   "name": "python3"
  },
  "language_info": {
   "codemirror_mode": {
    "name": "ipython",
    "version": 3
   },
   "file_extension": ".py",
   "mimetype": "text/x-python",
   "name": "python",
   "nbconvert_exporter": "python",
   "pygments_lexer": "ipython3",
   "version": "3.7.4"
  }
 },
 "nbformat": 4,
 "nbformat_minor": 2
}
