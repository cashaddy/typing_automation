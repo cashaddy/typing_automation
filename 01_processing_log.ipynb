{
 "cells": [
  {
   "cell_type": "code",
   "execution_count": 1,
   "metadata": {},
   "outputs": [],
   "source": [
    "import pandas as pd\n",
    "import numpy as np\n",
    "import processing"
   ]
  },
  {
   "cell_type": "markdown",
   "metadata": {},
   "source": [
    "### Log"
   ]
  },
  {
   "cell_type": "code",
   "execution_count": 129,
   "metadata": {},
   "outputs": [],
   "source": [
    "# Read the data\n",
    "log_sample = pd.read_csv('./data/log_valid.csv')\n",
    "\n",
    "# Match the participants\n",
    "log_sample = processing.get_participants_for_log(log_sample)\n",
    "\n",
    "# Optional: subsample\n",
    "np.random.seed(0)\n",
    "id_sample = np.random.choice(log_sample.participant_id.unique(),20000,replace=False)\n",
    "log_sample = log_sample.loc[log_sample.participant_id.isin(id_sample)]\n",
    "\n",
    "# Process and filter\n",
    "log = processing.log_process(log_sample)\n",
    "log = processing.mark_entries(log)\n",
    "log = processing.filter_log(log)\n",
    "\n",
    "# Get ITE's\n",
    "log = processing.infer_ite_no_swype(log)\n",
    "log = processing.infer_sub_strategy(log)"
   ]
  },
  {
   "cell_type": "code",
   "execution_count": null,
   "metadata": {},
   "outputs": [],
   "source": [
    "# Save\n",
    "log.to_csv('./data/log_valid_processed.csv',index=False)"
   ]
  }
 ],
 "metadata": {
  "kernelspec": {
   "display_name": "Python 3",
   "language": "python",
   "name": "python3"
  },
  "language_info": {
   "codemirror_mode": {
    "name": "ipython",
    "version": 3
   },
   "file_extension": ".py",
   "mimetype": "text/x-python",
   "name": "python",
   "nbconvert_exporter": "python",
   "pygments_lexer": "ipython3",
   "version": "3.6.7"
  }
 },
 "nbformat": 4,
 "nbformat_minor": 2
}
