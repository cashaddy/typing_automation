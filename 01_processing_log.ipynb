{
 "cells": [
  {
   "cell_type": "code",
   "execution_count": 1,
   "metadata": {},
   "outputs": [],
   "source": [
    "import pandas as pd\n",
    "import numpy as np\n",
    "import processing"
   ]
  },
  {
   "cell_type": "code",
   "execution_count": 3,
   "metadata": {},
   "outputs": [
    {
     "name": "stdout",
     "output_type": "stream",
     "text": [
      "CPU times: user 23.1 s, sys: 9 s, total: 32.1 s\n",
      "Wall time: 32.6 s\n"
     ]
    }
   ],
   "source": [
    "%%time\n",
    "# Read the data\n",
    "log_valid = pd.read_csv('./data/log_valid.csv')\n",
    "\n",
    "# Match the participants\n",
    "log_valid = processing.get_participants_for_log(log_valid)"
   ]
  },
  {
   "cell_type": "code",
   "execution_count": 7,
   "outputs": [
    {
     "data": {
      "text/plain": "              ts_id     input_len      lev_dist      autocorr       predict  \\\ncount  2.439977e+07  2.439977e+07  2.439977e+07  2.439977e+07  2.439977e+07   \nmean   8.990315e+05  2.372374e+01  1.046099e+00  1.062280e-02  8.304299e-03   \nstd    5.351511e+05  1.598823e+01  1.225137e+00  1.025181e-01  9.074876e-02   \nmin    2.512000e+03  0.000000e+00  0.000000e+00  0.000000e+00  0.000000e+00   \n25%    4.244940e+05  1.100000e+01  1.000000e+00  0.000000e+00  0.000000e+00   \n50%    8.864330e+05  2.100000e+01  1.000000e+00  0.000000e+00  0.000000e+00   \n75%    1.374354e+06  3.500000e+01  1.000000e+00  0.000000e+00  0.000000e+00   \nmax    1.811722e+06  9.900000e+01  9.900000e+01  1.000000e+00  1.000000e+00   \n\n              swype     timestamp  participant_id  \ncount  2.439977e+07  2.439977e+07    2.439977e+07  \nmean   3.262039e-03  1.542653e+12    1.528179e+05  \nstd    5.702103e-02  3.146383e+09    7.564966e+04  \nmin    0.000000e+00  1.537443e+12    6.290000e+02  \n25%    0.000000e+00  1.539824e+12    9.238100e+04  \n50%    0.000000e+00  1.542449e+12    1.537200e+05  \n75%    0.000000e+00  1.545458e+12    2.198620e+05  \nmax    1.000000e+00  1.547802e+12    2.741420e+05  ",
      "text/html": "<div>\n<style scoped>\n    .dataframe tbody tr th:only-of-type {\n        vertical-align: middle;\n    }\n\n    .dataframe tbody tr th {\n        vertical-align: top;\n    }\n\n    .dataframe thead th {\n        text-align: right;\n    }\n</style>\n<table border=\"1\" class=\"dataframe\">\n  <thead>\n    <tr style=\"text-align: right;\">\n      <th></th>\n      <th>ts_id</th>\n      <th>input_len</th>\n      <th>lev_dist</th>\n      <th>autocorr</th>\n      <th>predict</th>\n      <th>swype</th>\n      <th>timestamp</th>\n      <th>participant_id</th>\n    </tr>\n  </thead>\n  <tbody>\n    <tr>\n      <th>count</th>\n      <td>2.439977e+07</td>\n      <td>2.439977e+07</td>\n      <td>2.439977e+07</td>\n      <td>2.439977e+07</td>\n      <td>2.439977e+07</td>\n      <td>2.439977e+07</td>\n      <td>2.439977e+07</td>\n      <td>2.439977e+07</td>\n    </tr>\n    <tr>\n      <th>mean</th>\n      <td>8.990315e+05</td>\n      <td>2.372374e+01</td>\n      <td>1.046099e+00</td>\n      <td>1.062280e-02</td>\n      <td>8.304299e-03</td>\n      <td>3.262039e-03</td>\n      <td>1.542653e+12</td>\n      <td>1.528179e+05</td>\n    </tr>\n    <tr>\n      <th>std</th>\n      <td>5.351511e+05</td>\n      <td>1.598823e+01</td>\n      <td>1.225137e+00</td>\n      <td>1.025181e-01</td>\n      <td>9.074876e-02</td>\n      <td>5.702103e-02</td>\n      <td>3.146383e+09</td>\n      <td>7.564966e+04</td>\n    </tr>\n    <tr>\n      <th>min</th>\n      <td>2.512000e+03</td>\n      <td>0.000000e+00</td>\n      <td>0.000000e+00</td>\n      <td>0.000000e+00</td>\n      <td>0.000000e+00</td>\n      <td>0.000000e+00</td>\n      <td>1.537443e+12</td>\n      <td>6.290000e+02</td>\n    </tr>\n    <tr>\n      <th>25%</th>\n      <td>4.244940e+05</td>\n      <td>1.100000e+01</td>\n      <td>1.000000e+00</td>\n      <td>0.000000e+00</td>\n      <td>0.000000e+00</td>\n      <td>0.000000e+00</td>\n      <td>1.539824e+12</td>\n      <td>9.238100e+04</td>\n    </tr>\n    <tr>\n      <th>50%</th>\n      <td>8.864330e+05</td>\n      <td>2.100000e+01</td>\n      <td>1.000000e+00</td>\n      <td>0.000000e+00</td>\n      <td>0.000000e+00</td>\n      <td>0.000000e+00</td>\n      <td>1.542449e+12</td>\n      <td>1.537200e+05</td>\n    </tr>\n    <tr>\n      <th>75%</th>\n      <td>1.374354e+06</td>\n      <td>3.500000e+01</td>\n      <td>1.000000e+00</td>\n      <td>0.000000e+00</td>\n      <td>0.000000e+00</td>\n      <td>0.000000e+00</td>\n      <td>1.545458e+12</td>\n      <td>2.198620e+05</td>\n    </tr>\n    <tr>\n      <th>max</th>\n      <td>1.811722e+06</td>\n      <td>9.900000e+01</td>\n      <td>9.900000e+01</td>\n      <td>1.000000e+00</td>\n      <td>1.000000e+00</td>\n      <td>1.000000e+00</td>\n      <td>1.547802e+12</td>\n      <td>2.741420e+05</td>\n    </tr>\n  </tbody>\n</table>\n</div>"
     },
     "execution_count": 7,
     "metadata": {},
     "output_type": "execute_result"
    }
   ],
   "source": [
    "# Optional: check log_valid data\n",
    "log_valid.describe()"
   ],
   "metadata": {
    "collapsed": false
   }
  },
  {
   "cell_type": "code",
   "execution_count": 5,
   "metadata": {},
   "outputs": [],
   "source": [
    "# Save a copy of the lab participants\n",
    "log_lab = log_valid.loc[log_valid.participant_id.isin([\n",
    "    252249,\n",
    "    254300,\n",
    "    254745,\n",
    "    263374,\n",
    "    263720,\n",
    "    265900,\n",
    "    267956,\n",
    "    268067,\n",
    "    268085\n",
    "])]\n",
    "log_lab.to_csv('./data/log_lab_participants.csv',index=False)"
   ]
  },
  {
   "cell_type": "code",
   "execution_count": null,
   "metadata": {},
   "outputs": [],
   "source": [
    "# Optional: subsample\n",
    "np.random.seed(0)\n",
    "id_sample = np.random.choice(log_valid.participant_id.unique(),20000,replace=False)\n",
    "log_sample = log_valid.loc[log_valid.participant_id.isin(id_sample)]"
   ]
  },
  {
   "cell_type": "code",
   "execution_count": 8,
   "outputs": [],
   "source": [
    "# In case the optional subsampling was not executed\n",
    "log_sample = log_valid"
   ],
   "metadata": {
    "collapsed": false
   }
  },
  {
   "cell_type": "code",
   "execution_count": 9,
   "metadata": {},
   "outputs": [
    {
     "name": "stderr",
     "output_type": "stream",
     "text": [
      "/home/flo/dev/phd/typing_automation/processing.py:293: FutureWarning: Using the level keyword in DataFrame and Series aggregations is deprecated and will be removed in a future version. Use groupby instead. df.sum(level=1) should use df.groupby(level=1).sum().\n",
      "  participants_multichar /= log.groupby(['participant_id','ts_id']).entry_id.nunique().sum(level=0)\n"
     ]
    }
   ],
   "source": [
    "# Process and filter\n",
    "log = processing.log_process(log_sample)\n",
    "log = processing.mark_entries(log)\n",
    "log = processing.filter_log(log)\n",
    "\n",
    "# Get ITE's\n",
    "log = processing.infer_ite_no_swype(log)\n",
    "log = processing.infer_sub_strategy(log)"
   ]
  },
  {
   "cell_type": "code",
   "execution_count": 10,
   "metadata": {},
   "outputs": [],
   "source": [
    "# Save\n",
    "log.to_csv('./data/log_valid_processed.csv',index=False)"
   ]
  }
 ],
 "metadata": {
  "kernelspec": {
   "display_name": "Python 3",
   "language": "python",
   "name": "python3"
  },
  "language_info": {
   "codemirror_mode": {
    "name": "ipython",
    "version": 3
   },
   "file_extension": ".py",
   "mimetype": "text/x-python",
   "name": "python",
   "nbconvert_exporter": "python",
   "pygments_lexer": "ipython3",
   "version": "3.7.4"
  }
 },
 "nbformat": 4,
 "nbformat_minor": 2
}
