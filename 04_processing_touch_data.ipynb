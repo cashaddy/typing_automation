{
 "cells": [
  {
   "cell_type": "code",
   "execution_count": 1,
   "metadata": {
    "pycharm": {
     "name": "#%%\n"
    }
   },
   "outputs": [],
   "source": [
    "import pandas as pd\n",
    "import numpy as np\n",
    "import matplotlib.pyplot as plt\n",
    "import seaborn as sns\n",
    "from sklearn.preprocessing import MinMaxScaler"
   ]
  },
  {
   "cell_type": "markdown",
   "metadata": {
    "pycharm": {
     "name": "#%% md\n"
    }
   },
   "source": [
    "## Touch data"
   ]
  },
  {
   "cell_type": "markdown",
   "metadata": {
    "pycharm": {
     "name": "#%% md\n"
    }
   },
   "source": [
    "In this notebook we prepare a csv that contains for each key on the keyboard the associated offset when tapped by a user."
   ]
  },
  {
   "cell_type": "code",
   "execution_count": 2,
   "metadata": {
    "pycharm": {
     "name": "#%%\n"
    }
   },
   "outputs": [
    {
     "data": {
      "text/html": [
       "<div>\n",
       "<style scoped>\n",
       "    .dataframe tbody tr th:only-of-type {\n",
       "        vertical-align: middle;\n",
       "    }\n",
       "\n",
       "    .dataframe tbody tr th {\n",
       "        vertical-align: top;\n",
       "    }\n",
       "\n",
       "    .dataframe thead th {\n",
       "        text-align: right;\n",
       "    }\n",
       "</style>\n",
       "<table border=\"1\" class=\"dataframe\">\n",
       "  <thead>\n",
       "    <tr style=\"text-align: right;\">\n",
       "      <th></th>\n",
       "      <th>type</th>\n",
       "      <th>user_uuid</th>\n",
       "      <th>hand_posture</th>\n",
       "      <th>x_norm</th>\n",
       "      <th>y_norm</th>\n",
       "      <th>code2</th>\n",
       "      <th>key_cx</th>\n",
       "      <th>key_cy</th>\n",
       "      <th>offset_x</th>\n",
       "      <th>offset_y</th>\n",
       "    </tr>\n",
       "  </thead>\n",
       "  <tbody>\n",
       "    <tr>\n",
       "      <th>0</th>\n",
       "      <td>TOUCH_UP</td>\n",
       "      <td>24001a0b-6fcd-4de6-8502-354f7a627116</td>\n",
       "      <td>unknown</td>\n",
       "      <td>0.588889</td>\n",
       "      <td>0.864865</td>\n",
       "      <td>space</td>\n",
       "      <td>0.55</td>\n",
       "      <td>0.865356</td>\n",
       "      <td>0.038889</td>\n",
       "      <td>-0.000491</td>\n",
       "    </tr>\n",
       "    <tr>\n",
       "      <th>1</th>\n",
       "      <td>TOUCH_UP</td>\n",
       "      <td>24001a0b-6fcd-4de6-8502-354f7a627116</td>\n",
       "      <td>unknown</td>\n",
       "      <td>0.483333</td>\n",
       "      <td>0.939940</td>\n",
       "      <td>space</td>\n",
       "      <td>0.55</td>\n",
       "      <td>0.865356</td>\n",
       "      <td>-0.066667</td>\n",
       "      <td>0.074584</td>\n",
       "    </tr>\n",
       "    <tr>\n",
       "      <th>2</th>\n",
       "      <td>TOUCH_UP</td>\n",
       "      <td>24001a0b-6fcd-4de6-8502-354f7a627116</td>\n",
       "      <td>unknown</td>\n",
       "      <td>0.505556</td>\n",
       "      <td>0.903904</td>\n",
       "      <td>space</td>\n",
       "      <td>0.55</td>\n",
       "      <td>0.865356</td>\n",
       "      <td>-0.044444</td>\n",
       "      <td>0.038548</td>\n",
       "    </tr>\n",
       "    <tr>\n",
       "      <th>3</th>\n",
       "      <td>TOUCH_UP</td>\n",
       "      <td>24001a0b-6fcd-4de6-8502-354f7a627116</td>\n",
       "      <td>unknown</td>\n",
       "      <td>0.448148</td>\n",
       "      <td>0.129129</td>\n",
       "      <td>t</td>\n",
       "      <td>0.45</td>\n",
       "      <td>0.116490</td>\n",
       "      <td>-0.001852</td>\n",
       "      <td>0.012639</td>\n",
       "    </tr>\n",
       "    <tr>\n",
       "      <th>4</th>\n",
       "      <td>TOUCH_UP</td>\n",
       "      <td>24001a0b-6fcd-4de6-8502-354f7a627116</td>\n",
       "      <td>unknown</td>\n",
       "      <td>0.325926</td>\n",
       "      <td>0.084084</td>\n",
       "      <td>r</td>\n",
       "      <td>0.35</td>\n",
       "      <td>0.116490</td>\n",
       "      <td>-0.024074</td>\n",
       "      <td>-0.032406</td>\n",
       "    </tr>\n",
       "  </tbody>\n",
       "</table>\n",
       "</div>"
      ],
      "text/plain": [
       "       type                             user_uuid hand_posture    x_norm  \\\n",
       "0  TOUCH_UP  24001a0b-6fcd-4de6-8502-354f7a627116      unknown  0.588889   \n",
       "1  TOUCH_UP  24001a0b-6fcd-4de6-8502-354f7a627116      unknown  0.483333   \n",
       "2  TOUCH_UP  24001a0b-6fcd-4de6-8502-354f7a627116      unknown  0.505556   \n",
       "3  TOUCH_UP  24001a0b-6fcd-4de6-8502-354f7a627116      unknown  0.448148   \n",
       "4  TOUCH_UP  24001a0b-6fcd-4de6-8502-354f7a627116      unknown  0.325926   \n",
       "\n",
       "     y_norm  code2  key_cx    key_cy  offset_x  offset_y  \n",
       "0  0.864865  space    0.55  0.865356  0.038889 -0.000491  \n",
       "1  0.939940  space    0.55  0.865356 -0.066667  0.074584  \n",
       "2  0.903904  space    0.55  0.865356 -0.044444  0.038548  \n",
       "3  0.129129      t    0.45  0.116490 -0.001852  0.012639  \n",
       "4  0.084084      r    0.35  0.116490 -0.024074 -0.032406  "
      ]
     },
     "execution_count": 2,
     "metadata": {},
     "output_type": "execute_result"
    }
   ],
   "source": [
    "data = pd.read_csv('./data/exported_touch_events.csv')\n",
    "data.head()"
   ]
  },
  {
   "cell_type": "code",
   "execution_count": 3,
   "metadata": {
    "pycharm": {
     "name": "#%%\n"
    }
   },
   "outputs": [],
   "source": [
    "data_right_thumb = data[(data['hand_posture'] == 'right_thumb') ].copy()\n",
    "data_two_thumb = data[(data['hand_posture'] == 'two_thumb') ].copy()"
   ]
  },
  {
   "cell_type": "code",
   "execution_count": 4,
   "metadata": {
    "pycharm": {
     "name": "#%%\n"
    }
   },
   "outputs": [
    {
     "data": {
      "text/plain": [
       "<matplotlib.collections.PathCollection at 0x1179b7e48>"
      ]
     },
     "execution_count": 4,
     "metadata": {},
     "output_type": "execute_result"
    },
    {
     "data": {
      "image/png": "[encoded data removed]",
      "text/plain": [
       "<Figure size 720x360 with 1 Axes>"
      ]
     },
     "metadata": {},
     "output_type": "display_data"
    }
   ],
   "source": [
    "data_right_thumb['offset'] = np.sqrt(\n",
    "    data_right_thumb.offset_x.apply(np.square) + data_right_thumb.offset_y.apply(np.square)\n",
    ")\n",
    "data1 = data_right_thumb.loc[data_right_thumb.code2 != 'space'].dropna(subset=['key_cy','key_cx']).copy()\n",
    "data1 = data1.loc[(data1.code2.str.len() == 1) & (data1.code2.str.contains('[a-z]'))]\n",
    "data1['x_mid'] = data1.key_cx\n",
    "data1['y_mid'] = data1.key_cy\n",
    "\n",
    "\n",
    "data1 = data1.groupby(['code2','x_mid','y_mid']).offset.median().reset_index()\n",
    "\n",
    "f, ax = plt.subplots(figsize=(10,5))\n",
    "data1 = data1.loc[data1.offset < 0.06]\n",
    "scaler = MinMaxScaler()\n",
    "data1['offset_scaled'] = scaler.fit_transform(data1[['offset']])[:,0]\n",
    "ax.scatter(\n",
    "    data1.x_mid,\n",
    "    1- data1.y_mid,\n",
    "    s = data1.offset_scaled * 1000,\n",
    "    cmap = 'Reds'\n",
    ")"
   ]
  },
  {
   "cell_type": "code",
   "execution_count": 5,
   "metadata": {
    "pycharm": {
     "name": "#%%\n"
    }
   },
   "outputs": [
    {
     "data": {
      "text/plain": [
       "<matplotlib.collections.PathCollection at 0x1194d5ef0>"
      ]
     },
     "execution_count": 5,
     "metadata": {},
     "output_type": "execute_result"
    },
    {
     "data": {
      "image/png": "[encoded data removed]",
      "text/plain": [
       "<Figure size 720x360 with 1 Axes>"
      ]
     },
     "metadata": {},
     "output_type": "display_data"
    }
   ],
   "source": [
    "data_two_thumb['offset'] = np.sqrt(\n",
    "    data_two_thumb.offset_x.apply(np.square) + data_two_thumb.offset_y.apply(np.square)\n",
    ")\n",
    "data2 = data_two_thumb.loc[data_two_thumb.code2 != 'space'].dropna(subset=['key_cy','key_cx']).copy()\n",
    "data2 = data2.loc[(data.code2.str.len() == 1) & (data.code2.str.contains('[a-z]'))].copy()\n",
    "data2['x_mid'] = data2.key_cx\n",
    "data2['y_mid'] = data2.key_cy\n",
    "\n",
    "\n",
    "data2 = data2.groupby(['code2','x_mid','y_mid']).offset.median().reset_index()\n",
    "\n",
    "f, ax = plt.subplots(figsize=(10,5))\n",
    "data2 = data2.loc[data2.offset < 0.06]\n",
    "scaler = MinMaxScaler()\n",
    "data2['offset_scaled'] = scaler.fit_transform(data2[['offset']])[:,0]\n",
    "ax.scatter(\n",
    "    data2.x_mid,\n",
    "    1- data2.y_mid,\n",
    "    s = data2.offset_scaled * 1000,\n",
    "    cmap = 'Reds'\n",
    ")"
   ]
  },
  {
   "cell_type": "code",
   "execution_count": 6,
   "metadata": {
    "pycharm": {
     "name": "#%%\n"
    }
   },
   "outputs": [],
   "source": [
    "df = pd.DataFrame(index=data1.code2)\n",
    "df['offset_one_thumb'] = data1.set_index('code2').offset_scaled\n",
    "df['offset_two_thumb'] = data2.set_index('code2').offset_scaled"
   ]
  },
  {
   "cell_type": "code",
   "execution_count": 7,
   "metadata": {
    "pycharm": {
     "name": "#%%\n"
    }
   },
   "outputs": [],
   "source": [
    "df.to_csv('../typing_automation/data/key_offset.csv')"
   ]
  }
 ],
 "metadata": {
  "kernelspec": {
   "display_name": "Python 3",
   "language": "python",
   "name": "python3"
  },
  "language_info": {
   "codemirror_mode": {
    "name": "ipython",
    "version": 3
   },
   "file_extension": ".py",
   "mimetype": "text/x-python",
   "name": "python",
   "nbconvert_exporter": "python",
   "pygments_lexer": "ipython3",
   "version": "3.6.6"
  },
  "toc": {
   "base_numbering": 1,
   "nav_menu": {},
   "number_sections": true,
   "sideBar": true,
   "skip_h1_title": false,
   "title_cell": "Table of Contents",
   "title_sidebar": "Contents",
   "toc_cell": false,
   "toc_position": {},
   "toc_section_display": true,
   "toc_window_display": false
  }
 },
 "nbformat": 4,
 "nbformat_minor": 2
}