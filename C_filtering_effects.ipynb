{
 "cells": [
  {
   "cell_type": "code",
   "execution_count": 1,
   "metadata": {
    "pycharm": {
     "name": "#%%\n"
    }
   },
   "outputs": [],
   "source": [
    "import pandas as pd\n",
    "import processing"
   ]
  },
  {
   "cell_type": "markdown",
   "metadata": {
    "pycharm": {
     "name": "#%% md\n"
    }
   },
   "source": [
    "# Filtering effects"
   ]
  },
  {
   "cell_type": "markdown",
   "metadata": {
    "pycharm": {
     "name": "#%% md\n"
    }
   },
   "source": [
    "In this section we examine the effect of our participants filtering on the various demographics of the sample."
   ]
  },
  {
   "cell_type": "code",
   "execution_count": 2,
   "metadata": {
    "pycharm": {
     "name": "#%%\n"
    }
   },
   "outputs": [],
   "source": [
    "%%time\n",
    "log = pd.read_csv('./data/log_valid_processed.csv')\n",
    "log_raw = pd.read_csv('./data/log_valid.csv')\n",
    "log_raw = processing.get_participants_for_log(log_raw)\n",
    "participants = pd.read_csv('./data/participants_processed.csv')\n",
    "participants = participants.set_index('PARTICIPANT_ID')"
   ]
  },
  {
   "cell_type": "code",
   "execution_count": 3,
   "metadata": {
    "pycharm": {
     "name": "#%%\n"
    }
   },
   "outputs": [],
   "source": [
    "participants = participants.loc[log_raw.participant_id.unique()]"
   ]
  },
  {
   "cell_type": "code",
   "execution_count": 4,
   "metadata": {
    "pycharm": {
     "name": "#%%\n"
    }
   },
   "outputs": [],
   "source": [
    "participants['is_sampled'] = False\n",
    "participants.loc[log.participant_id.unique(),'is_sampled'] = True"
   ]
  },
  {
   "cell_type": "code",
   "execution_count": 5,
   "metadata": {
    "scrolled": true,
    "pycharm": {
     "name": "#%%\n"
    }
   },
   "outputs": [
    {
     "data": {
      "text/plain": [
       "False    24862\n",
       "True      8952\n",
       "Name: is_sampled, dtype: int64"
      ]
     },
     "execution_count": 5,
     "metadata": {},
     "output_type": "execute_result"
    }
   ],
   "source": [
    "participants.is_sampled.value_counts()"
   ]
  },
  {
   "cell_type": "markdown",
   "metadata": {
    "pycharm": {
     "name": "#%% md\n"
    }
   },
   "source": [
    "## Brand and OS"
   ]
  },
  {
   "cell_type": "code",
   "execution_count": 6,
   "metadata": {
    "pycharm": {
     "name": "#%%\n"
    }
   },
   "outputs": [
    {
     "data": {
      "text/plain": [
       "is_sampled  os     \n",
       "False       Android    0.596493\n",
       "            iOS        0.403467\n",
       "            Other      0.000040\n",
       "True        iOS        0.916890\n",
       "            Android    0.083110\n",
       "Name: os, dtype: float64"
      ]
     },
     "execution_count": 6,
     "metadata": {},
     "output_type": "execute_result"
    }
   ],
   "source": [
    "participants.groupby('is_sampled').os.value_counts(normalize=True)"
   ]
  },
  {
   "cell_type": "code",
   "execution_count": 7,
   "metadata": {
    "pycharm": {
     "name": "#%%\n"
    }
   },
   "outputs": [
    {
     "data": {
      "text/plain": [
       "is_sampled  browser                   \n",
       "False       Chrome Mobile                 0.510257\n",
       "            Mobile Safari                 0.350615\n",
       "            Facebook                      0.048468\n",
       "            Chrome Mobile iOS             0.030448\n",
       "            Chrome Mobile WebView         0.015445\n",
       "            Samsung Internet              0.015325\n",
       "            Chrome                        0.010096\n",
       "            Mobile Safari UI/WKWebView    0.007562\n",
       "            Opera Mobile                  0.005189\n",
       "            Amazon Silk                   0.002856\n",
       "            Pinterest                     0.001810\n",
       "            UC Browser                    0.000845\n",
       "            Firefox iOS                   0.000523\n",
       "            Puffin                        0.000282\n",
       "            Android                       0.000121\n",
       "            Coc Coc                       0.000040\n",
       "            Opera Mini                    0.000040\n",
       "            Other                         0.000040\n",
       "            Yandex Browser                0.000040\n",
       "True        Mobile Safari                 0.814790\n",
       "            Chrome Mobile                 0.060769\n",
       "            Chrome Mobile iOS             0.052391\n",
       "            Facebook                      0.043342\n",
       "            Mobile Safari UI/WKWebView    0.015862\n",
       "            Chrome Mobile WebView         0.004915\n",
       "            Pinterest                     0.002234\n",
       "            Samsung Internet              0.001787\n",
       "            Chrome                        0.001452\n",
       "            Firefox iOS                   0.001005\n",
       "            Opera Mobile                  0.000894\n",
       "            UC Browser                    0.000335\n",
       "            Amazon Silk                   0.000112\n",
       "            Opera Mini                    0.000112\n",
       "Name: browser, dtype: float64"
      ]
     },
     "execution_count": 7,
     "metadata": {},
     "output_type": "execute_result"
    }
   ],
   "source": [
    "participants.groupby('is_sampled').browser.value_counts(normalize=True)"
   ]
  },
  {
   "cell_type": "code",
   "execution_count": 8,
   "metadata": {
    "pycharm": {
     "name": "#%%\n"
    }
   },
   "outputs": [
    {
     "data": {
      "text/plain": [
       "is_sampled  device_brand   \n",
       "True        Apple              0.916890\n",
       "False       Apple              0.403483\n",
       "            Generic            0.237802\n",
       "            Samsung            0.118418\n",
       "            Generic_Android    0.069144\n",
       "            LG                 0.039741\n",
       "            XiaoMi             0.029886\n",
       "            Huawei             0.025824\n",
       "True        Samsung            0.022788\n",
       "            Generic            0.022453\n",
       "False       vivo               0.015003\n",
       "True        XiaoMi             0.013963\n",
       "False       Motorola           0.009292\n",
       "True        vivo               0.008378\n",
       "            Generic_Android    0.008155\n",
       "False       Lenovo             0.007401\n",
       "            ZTE                0.007200\n",
       "            Infinix            0.005229\n",
       "            HTC                0.005189\n",
       "            Asus               0.004948\n",
       "Name: device_brand, dtype: float64"
      ]
     },
     "execution_count": 8,
     "metadata": {},
     "output_type": "execute_result"
    }
   ],
   "source": [
    "participants.groupby('is_sampled').device_brand.value_counts(normalize=True).nlargest(20)"
   ]
  },
  {
   "cell_type": "markdown",
   "metadata": {
    "pycharm": {
     "name": "#%% md\n"
    }
   },
   "source": [
    "**Conclusion:** The valid, post-filtering users are much more heavily oriented towards iOS usage. They also are more likely to use Safari over Chrome"
   ]
  },
  {
   "cell_type": "markdown",
   "metadata": {
    "pycharm": {
     "name": "#%% md\n"
    }
   },
   "source": [
    "## Demographics"
   ]
  },
  {
   "cell_type": "code",
   "execution_count": 9,
   "metadata": {
    "pycharm": {
     "name": "#%%\n"
    }
   },
   "outputs": [],
   "source": [
    "percentiles = [0.05,0.1,0.25,0.5,0.75,0.9,0.95]"
   ]
  },
  {
   "cell_type": "code",
   "execution_count": 10,
   "metadata": {
    "pycharm": {
     "name": "#%%\n"
    }
   },
   "outputs": [
    {
     "data": {
      "text/plain": [
       "is_sampled  GENDER\n",
       "False       female    0.632290\n",
       "            male      0.322943\n",
       "            none      0.044767\n",
       "True        female    0.697163\n",
       "            male      0.248436\n",
       "            none      0.054401\n",
       "Name: GENDER, dtype: float64"
      ]
     },
     "execution_count": 10,
     "metadata": {},
     "output_type": "execute_result"
    }
   ],
   "source": [
    "participants.groupby('is_sampled').GENDER.value_counts(normalize=True)"
   ]
  },
  {
   "cell_type": "code",
   "execution_count": 11,
   "metadata": {
    "pycharm": {
     "name": "#%%\n"
    }
   },
   "outputs": [
    {
     "data": {
      "text/html": [
       "<div>\n",
       "<style scoped>\n",
       "    .dataframe tbody tr th:only-of-type {\n",
       "        vertical-align: middle;\n",
       "    }\n",
       "\n",
       "    .dataframe tbody tr th {\n",
       "        vertical-align: top;\n",
       "    }\n",
       "\n",
       "    .dataframe thead th {\n",
       "        text-align: right;\n",
       "    }\n",
       "</style>\n",
       "<table border=\"1\" class=\"dataframe\">\n",
       "  <thead>\n",
       "    <tr style=\"text-align: right;\">\n",
       "      <th></th>\n",
       "      <th>count</th>\n",
       "      <th>mean</th>\n",
       "      <th>std</th>\n",
       "      <th>min</th>\n",
       "      <th>25%</th>\n",
       "      <th>50%</th>\n",
       "      <th>75%</th>\n",
       "      <th>max</th>\n",
       "    </tr>\n",
       "    <tr>\n",
       "      <th>is_sampled</th>\n",
       "      <th></th>\n",
       "      <th></th>\n",
       "      <th></th>\n",
       "      <th></th>\n",
       "      <th></th>\n",
       "      <th></th>\n",
       "      <th></th>\n",
       "      <th></th>\n",
       "    </tr>\n",
       "  </thead>\n",
       "  <tbody>\n",
       "    <tr>\n",
       "      <th>False</th>\n",
       "      <td>24862.0</td>\n",
       "      <td>24.359504</td>\n",
       "      <td>8.775551</td>\n",
       "      <td>6.0</td>\n",
       "      <td>19.0</td>\n",
       "      <td>23.0</td>\n",
       "      <td>28.0</td>\n",
       "      <td>61.0</td>\n",
       "    </tr>\n",
       "    <tr>\n",
       "      <th>True</th>\n",
       "      <td>8952.0</td>\n",
       "      <td>22.976318</td>\n",
       "      <td>9.062334</td>\n",
       "      <td>6.0</td>\n",
       "      <td>17.0</td>\n",
       "      <td>21.0</td>\n",
       "      <td>27.0</td>\n",
       "      <td>61.0</td>\n",
       "    </tr>\n",
       "  </tbody>\n",
       "</table>\n",
       "</div>"
      ],
      "text/plain": [
       "              count       mean       std  min   25%   50%   75%   max\n",
       "is_sampled                                                           \n",
       "False       24862.0  24.359504  8.775551  6.0  19.0  23.0  28.0  61.0\n",
       "True         8952.0  22.976318  9.062334  6.0  17.0  21.0  27.0  61.0"
      ]
     },
     "execution_count": 11,
     "metadata": {},
     "output_type": "execute_result"
    }
   ],
   "source": [
    "participants.groupby('is_sampled').AGE.describe()"
   ]
  },
  {
   "cell_type": "markdown",
   "metadata": {
    "pycharm": {
     "name": "#%% md\n"
    }
   },
   "source": [
    "**Conclusion:** The valid, post-filtering users have a slightly larger female compostion and are slightly younger."
   ]
  },
  {
   "cell_type": "markdown",
   "metadata": {
    "pycharm": {
     "name": "#%% md\n"
    }
   },
   "source": [
    "## Typing"
   ]
  },
  {
   "cell_type": "code",
   "execution_count": 12,
   "metadata": {
    "pycharm": {
     "name": "#%%\n"
    }
   },
   "outputs": [
    {
     "data": {
      "text/plain": [
       "is_sampled  TYPE_ENGLISH\n",
       "False       always          0.435811\n",
       "            usually         0.291562\n",
       "            sometimes       0.212131\n",
       "            rarely          0.047297\n",
       "            never           0.013199\n",
       "True        always          0.809629\n",
       "            usually         0.107360\n",
       "            sometimes       0.058661\n",
       "            rarely          0.014388\n",
       "            never           0.009961\n",
       "Name: TYPE_ENGLISH, dtype: float64"
      ]
     },
     "execution_count": 12,
     "metadata": {},
     "output_type": "execute_result"
    }
   ],
   "source": [
    "participants.groupby('is_sampled').TYPE_ENGLISH.value_counts(normalize=True)"
   ]
  },
  {
   "cell_type": "code",
   "execution_count": 13,
   "metadata": {
    "pycharm": {
     "name": "#%%\n"
    }
   },
   "outputs": [
    {
     "data": {
      "text/plain": [
       "is_sampled  BROWSER_LANGUAGE          \n",
       "True        en-us                         0.739723\n",
       "False       en-us                         0.307135\n",
       "            en-US,en;q=0.9                0.275762\n",
       "True        en-gb                         0.083892\n",
       "False       en-GB,en-US;q=0.9,en;q=0.8    0.074089\n",
       "True        en-ca                         0.041667\n",
       "False       en-US                         0.036964\n",
       "True        en-au                         0.034629\n",
       "False       en-gb                         0.030689\n",
       "True        en-US,en;q=0.9                0.024911\n",
       "Name: BROWSER_LANGUAGE, dtype: float64"
      ]
     },
     "execution_count": 13,
     "metadata": {},
     "output_type": "execute_result"
    }
   ],
   "source": [
    "participants.groupby('is_sampled').BROWSER_LANGUAGE.value_counts(normalize=True).nlargest(10)"
   ]
  },
  {
   "cell_type": "code",
   "execution_count": 14,
   "metadata": {
    "pycharm": {
     "name": "#%%\n"
    }
   },
   "outputs": [
    {
     "data": {
      "text/html": [
       "<div>\n",
       "<style scoped>\n",
       "    .dataframe tbody tr th:only-of-type {\n",
       "        vertical-align: middle;\n",
       "    }\n",
       "\n",
       "    .dataframe tbody tr th {\n",
       "        vertical-align: top;\n",
       "    }\n",
       "\n",
       "    .dataframe thead th {\n",
       "        text-align: right;\n",
       "    }\n",
       "</style>\n",
       "<table border=\"1\" class=\"dataframe\">\n",
       "  <thead>\n",
       "    <tr style=\"text-align: right;\">\n",
       "      <th></th>\n",
       "      <th>count</th>\n",
       "      <th>mean</th>\n",
       "      <th>std</th>\n",
       "      <th>min</th>\n",
       "      <th>25%</th>\n",
       "      <th>50%</th>\n",
       "      <th>75%</th>\n",
       "      <th>max</th>\n",
       "    </tr>\n",
       "    <tr>\n",
       "      <th>is_sampled</th>\n",
       "      <th></th>\n",
       "      <th></th>\n",
       "      <th></th>\n",
       "      <th></th>\n",
       "      <th></th>\n",
       "      <th></th>\n",
       "      <th></th>\n",
       "      <th></th>\n",
       "    </tr>\n",
       "  </thead>\n",
       "  <tbody>\n",
       "    <tr>\n",
       "      <th>False</th>\n",
       "      <td>24862.0</td>\n",
       "      <td>35.301802</td>\n",
       "      <td>12.963875</td>\n",
       "      <td>0.019106</td>\n",
       "      <td>26.142669</td>\n",
       "      <td>33.572441</td>\n",
       "      <td>42.658034</td>\n",
       "      <td>154.257192</td>\n",
       "    </tr>\n",
       "    <tr>\n",
       "      <th>True</th>\n",
       "      <td>8952.0</td>\n",
       "      <td>40.425418</td>\n",
       "      <td>13.421506</td>\n",
       "      <td>0.212161</td>\n",
       "      <td>31.051003</td>\n",
       "      <td>39.433127</td>\n",
       "      <td>49.029891</td>\n",
       "      <td>135.426179</td>\n",
       "    </tr>\n",
       "  </tbody>\n",
       "</table>\n",
       "</div>"
      ],
      "text/plain": [
       "              count       mean        std       min        25%        50%  \\\n",
       "is_sampled                                                                  \n",
       "False       24862.0  35.301802  12.963875  0.019106  26.142669  33.572441   \n",
       "True         8952.0  40.425418  13.421506  0.212161  31.051003  39.433127   \n",
       "\n",
       "                  75%         max  \n",
       "is_sampled                         \n",
       "False       42.658034  154.257192  \n",
       "True        49.029891  135.426179  "
      ]
     },
     "execution_count": 14,
     "metadata": {},
     "output_type": "execute_result"
    }
   ],
   "source": [
    "participants.groupby('is_sampled').WPM.describe()"
   ]
  },
  {
   "cell_type": "markdown",
   "metadata": {
    "pycharm": {
     "name": "#%% md\n"
    }
   },
   "source": [
    "**Conclusion:** The valid, post-filtering participants type in English more frequenlty, and type faster. They also have a higher error rate."
   ]
  },
  {
   "cell_type": "markdown",
   "metadata": {
    "pycharm": {
     "name": "#%% md\n"
    }
   },
   "source": [
    "## Android users"
   ]
  },
  {
   "cell_type": "markdown",
   "metadata": {
    "pycharm": {
     "name": "#%% md\n"
    }
   },
   "source": [
    "Given the bias towards iOS users, let's see how each filtering step affects the number of android users."
   ]
  },
  {
   "cell_type": "code",
   "execution_count": 13,
   "metadata": {
    "pycharm": {
     "name": "#%%\n"
    }
   },
   "outputs": [],
   "source": [
    "log_valid = pd.read_csv('./data/log_valid.csv')"
   ]
  },
  {
   "cell_type": "code",
   "execution_count": 14,
   "metadata": {
    "pycharm": {
     "name": "#%%\n"
    }
   },
   "outputs": [],
   "source": [
    "# Match the participants\n",
    "log_valid = processing.get_participants_for_log(log_valid)"
   ]
  },
  {
   "cell_type": "code",
   "execution_count": 15,
   "metadata": {
    "pycharm": {
     "name": "#%%\n"
    }
   },
   "outputs": [
    {
     "name": "stdout",
     "output_type": "stream",
     "text": [
      "CPU times: user 20min 46s, sys: 1min 55s, total: 22min 41s\n",
      "Wall time: 23min 34s\n"
     ]
    }
   ],
   "source": [
    "%%time\n",
    "log_valid = processing.log_process(log_valid)"
   ]
  },
  {
   "cell_type": "code",
   "execution_count": 16,
   "metadata": {
    "pycharm": {
     "name": "#%%\n"
    }
   },
   "outputs": [
    {
     "name": "stdout",
     "output_type": "stream",
     "text": [
      "CPU times: user 13min 54s, sys: 58.9 s, total: 14min 53s\n",
      "Wall time: 15min 55s\n"
     ]
    }
   ],
   "source": [
    "%%time\n",
    "log_valid = processing.mark_entries(log_valid)"
   ]
  },
  {
   "cell_type": "code",
   "execution_count": 25,
   "metadata": {
    "pycharm": {
     "name": "#%%\n"
    }
   },
   "outputs": [],
   "source": [
    "participants = pd.read_csv('./data/participants_processed.csv')\n",
    "participants = participants.set_index('PARTICIPANT_ID')"
   ]
  },
  {
   "cell_type": "code",
   "execution_count": 26,
   "metadata": {
    "pycharm": {
     "name": "#%%\n"
    }
   },
   "outputs": [
    {
     "data": {
      "text/plain": [
       "Android          19134\n",
       "iOS              18449\n",
       "Windows Phone       22\n",
       "Other                1\n",
       "Name: os, dtype: int64"
      ]
     },
     "execution_count": 26,
     "metadata": {},
     "output_type": "execute_result"
    }
   ],
   "source": [
    "participants.os.value_counts()"
   ]
  },
  {
   "cell_type": "markdown",
   "metadata": {
    "pycharm": {
     "name": "#%% md\n"
    }
   },
   "source": [
    "#### Valid log"
   ]
  },
  {
   "cell_type": "code",
   "execution_count": 29,
   "metadata": {
    "pycharm": {
     "name": "#%%\n"
    }
   },
   "outputs": [
    {
     "data": {
      "text/plain": [
       "(23157825, 12)"
      ]
     },
     "execution_count": 29,
     "metadata": {},
     "output_type": "execute_result"
    }
   ],
   "source": [
    "log_valid.shape"
   ]
  },
  {
   "cell_type": "code",
   "execution_count": 30,
   "metadata": {
    "pycharm": {
     "name": "#%%\n"
    }
   },
   "outputs": [
    {
     "data": {
      "text/plain": [
       "33814"
      ]
     },
     "execution_count": 30,
     "metadata": {},
     "output_type": "execute_result"
    }
   ],
   "source": [
    "log_valid.participant_id.nunique()"
   ]
  },
  {
   "cell_type": "code",
   "execution_count": 31,
   "metadata": {
    "pycharm": {
     "name": "#%%\n"
    }
   },
   "outputs": [],
   "source": [
    "participants['is_sampled'] = False\n",
    "participants.loc[log_valid.participant_id.unique(),'is_sampled'] = True"
   ]
  },
  {
   "cell_type": "code",
   "execution_count": 32,
   "metadata": {
    "pycharm": {
     "name": "#%%\n"
    }
   },
   "outputs": [
    {
     "data": {
      "text/plain": [
       "is_sampled  os           \n",
       "False       Android           3560\n",
       "            iOS                210\n",
       "            Windows Phone       22\n",
       "True        iOS              18239\n",
       "            Android          15574\n",
       "            Other                1\n",
       "Name: os, dtype: int64"
      ]
     },
     "execution_count": 32,
     "metadata": {},
     "output_type": "execute_result"
    }
   ],
   "source": [
    "participants.groupby('is_sampled').os.value_counts()"
   ]
  },
  {
   "cell_type": "markdown",
   "metadata": {
    "pycharm": {
     "name": "#%% md\n"
    }
   },
   "source": [
    "#### Only forward entries"
   ]
  },
  {
   "cell_type": "code",
   "execution_count": 33,
   "metadata": {
    "pycharm": {
     "name": "#%%\n"
    }
   },
   "outputs": [],
   "source": [
    "# Remove all non-forward entries\n",
    "log = log_valid.loc[log_valid.is_forward].copy()"
   ]
  },
  {
   "cell_type": "code",
   "execution_count": 38,
   "metadata": {
    "pycharm": {
     "name": "#%%\n"
    }
   },
   "outputs": [
    {
     "data": {
      "text/plain": [
       "is_sampled  os           \n",
       "False       Android           3560\n",
       "            iOS                210\n",
       "            Windows Phone       22\n",
       "True        iOS              18239\n",
       "            Android          15574\n",
       "            Other                1\n",
       "Name: os, dtype: int64"
      ]
     },
     "execution_count": 38,
     "metadata": {},
     "output_type": "execute_result"
    }
   ],
   "source": [
    "participants['is_sampled'] = False\n",
    "participants.loc[log.participant_id.unique(),'is_sampled'] = True\n",
    "participants.groupby('is_sampled').os.value_counts()"
   ]
  },
  {
   "cell_type": "markdown",
   "metadata": {
    "pycharm": {
     "name": "#%% md\n"
    }
   },
   "source": [
    "#### Remove multichar backend"
   ]
  },
  {
   "cell_type": "code",
   "execution_count": 39,
   "metadata": {
    "pycharm": {
     "name": "#%%\n"
    }
   },
   "outputs": [],
   "source": [
    "# Remove participants with the cumulative multichar behaviour\n",
    "# Action of an entry is single letter AND following two actions in the entry have increasing # of chars\n",
    "mask = log.key.str.len() == 1\n",
    "mask &= log.key.shift(-1).str.len() == 2\n",
    "mask &= log.key.shift(-2).str.len() == 3\n",
    "mask &= log.entry_id.shift(-1) == log.entry_id\n",
    "mask &= log.entry_id.shift(-2) == log.entry_id.shift(-1)\n",
    "participants_invalid = log.loc[mask].participant_id.unique()\n",
    "log = log.loc[~log.participant_id.isin(participants_invalid)]"
   ]
  },
  {
   "cell_type": "code",
   "execution_count": 40,
   "metadata": {
    "pycharm": {
     "name": "#%%\n"
    }
   },
   "outputs": [
    {
     "data": {
      "text/plain": [
       "is_sampled  os           \n",
       "False       Android          14854\n",
       "            iOS                254\n",
       "            Windows Phone       22\n",
       "True        iOS              18195\n",
       "            Android           4280\n",
       "            Other                1\n",
       "Name: os, dtype: int64"
      ]
     },
     "execution_count": 40,
     "metadata": {},
     "output_type": "execute_result"
    }
   ],
   "source": [
    "participants['is_sampled'] = False\n",
    "participants.loc[log.participant_id.unique(),'is_sampled'] = True\n",
    "participants.groupby('is_sampled').os.value_counts()"
   ]
  },
  {
   "cell_type": "markdown",
   "metadata": {
    "pycharm": {
     "name": "#%% md\n"
    }
   },
   "source": [
    "#### Remove swipe users (first phase)"
   ]
  },
  {
   "cell_type": "code",
   "execution_count": 42,
   "metadata": {
    "pycharm": {
     "name": "#%%\n"
    }
   },
   "outputs": [],
   "source": [
    "# Remove participants who use swipe\n",
    "participants_ = processing.get_participants().set_index('PARTICIPANT_ID')\n",
    "participants_ = participants_.loc[log.participant_id.unique()].copy()\n",
    "participants_swipe = participants_.loc[participants_.USING_FEATURES.str.contains('swipe')].index\n",
    "log = log.loc[~log.participant_id.isin(participants_swipe)].copy()\n",
    "del participants_"
   ]
  },
  {
   "cell_type": "code",
   "execution_count": 43,
   "metadata": {
    "pycharm": {
     "name": "#%%\n"
    }
   },
   "outputs": [
    {
     "data": {
      "text/plain": [
       "is_sampled  os           \n",
       "False       Android          15334\n",
       "            iOS                935\n",
       "            Windows Phone       22\n",
       "True        iOS              17514\n",
       "            Android           3800\n",
       "            Other                1\n",
       "Name: os, dtype: int64"
      ]
     },
     "execution_count": 43,
     "metadata": {},
     "output_type": "execute_result"
    }
   ],
   "source": [
    "participants['is_sampled'] = False\n",
    "participants.loc[log.participant_id.unique(),'is_sampled'] = True\n",
    "participants.groupby('is_sampled').os.value_counts()"
   ]
  },
  {
   "cell_type": "markdown",
   "metadata": {
    "pycharm": {
     "name": "#%% md\n"
    }
   },
   "source": [
    "#### Remove swipe users (second phase)"
   ]
  },
  {
   "cell_type": "code",
   "execution_count": 47,
   "metadata": {
    "pycharm": {
     "name": "#%%\n"
    }
   },
   "outputs": [],
   "source": [
    "# Remove heavy swype users that managed to get past the earlier swipe filtering stage\n",
    "# We do this by detect users where swipe was used more than 10 percent of the time \n",
    "log = processing.infer_ite_swype(log)\n",
    "participants_swipe = log.groupby('participant_id').ite.value_counts(\n",
    "    normalize=True\n",
    ").unstack()['swype'].sort_values(ascending=False)\n",
    "participants_swipe = participants_swipe.loc[participants_swipe >= 0.1].index\n",
    "log = log.loc[~log.participant_id.isin(participants_swipe)].copy()"
   ]
  },
  {
   "cell_type": "code",
   "execution_count": 48,
   "metadata": {
    "pycharm": {
     "name": "#%%\n"
    }
   },
   "outputs": [
    {
     "data": {
      "text/plain": [
       "is_sampled  os           \n",
       "False       Android          15362\n",
       "            iOS                947\n",
       "            Windows Phone       22\n",
       "True        iOS              17502\n",
       "            Android           3772\n",
       "            Other                1\n",
       "Name: os, dtype: int64"
      ]
     },
     "execution_count": 48,
     "metadata": {},
     "output_type": "execute_result"
    }
   ],
   "source": [
    "participants['is_sampled'] = False\n",
    "participants.loc[log.participant_id.unique(),'is_sampled'] = True\n",
    "participants.groupby('is_sampled').os.value_counts()"
   ]
  },
  {
   "cell_type": "markdown",
   "metadata": {
    "pycharm": {
     "name": "#%% md\n"
    }
   },
   "source": [
    "#### Remove consistent multichar backend"
   ]
  },
  {
   "cell_type": "code",
   "execution_count": 49,
   "metadata": {
    "pycharm": {
     "name": "#%%\n"
    }
   },
   "outputs": [],
   "source": [
    "# Remove participants where every entry before a space is a multichar\n",
    "# Entry is multicharacter AND is followed by a space AND is zero LD\n",
    "mask = log.key.str.strip(' ').str.len() > 1\n",
    "mask &= log.key.shift(-1) == ' '\n",
    "mask &= log.lev_dist == 0\n",
    "log['tmp'] = mask"
   ]
  },
  {
   "cell_type": "code",
   "execution_count": 50,
   "metadata": {
    "pycharm": {
     "name": "#%%\n"
    }
   },
   "outputs": [],
   "source": [
    "# Find participants who have a large percentage of these 0-LD, multichar entries\n",
    "participants_multichar = log.groupby('participant_id').tmp.value_counts().unstack()[True].fillna(0)\n",
    "participants_multichar /= log.groupby(['participant_id','ts_id']).entry_id.nunique().sum(level=0)\n",
    "participants_multichar = participants_multichar.loc[participants_multichar > 0.2].index\n",
    "# Remove them\n",
    "log = log.loc[~log.participant_id.isin(participants_multichar)].copy()"
   ]
  },
  {
   "cell_type": "code",
   "execution_count": 51,
   "metadata": {
    "pycharm": {
     "name": "#%%\n"
    }
   },
   "outputs": [
    {
     "data": {
      "text/plain": [
       "is_sampled  os           \n",
       "False       Android          16446\n",
       "            iOS                947\n",
       "            Windows Phone       22\n",
       "True        iOS              17502\n",
       "            Android           2688\n",
       "            Other                1\n",
       "Name: os, dtype: int64"
      ]
     },
     "execution_count": 51,
     "metadata": {},
     "output_type": "execute_result"
    }
   ],
   "source": [
    "participants['is_sampled'] = False\n",
    "participants.loc[log.participant_id.unique(),'is_sampled'] = True\n",
    "participants.groupby('is_sampled').os.value_counts()"
   ]
  },
  {
   "cell_type": "markdown",
   "metadata": {
    "pycharm": {
     "name": "#%% md\n"
    }
   },
   "source": [
    "#### Remove non-native speakers"
   ]
  },
  {
   "cell_type": "code",
   "execution_count": 53,
   "metadata": {
    "pycharm": {
     "name": "#%%\n"
    }
   },
   "outputs": [],
   "source": [
    "# Remove non-native speakers\n",
    "participants_ = processing.get_participants().set_index('PARTICIPANT_ID')\n",
    "participants_nonnative = participants_.loc[participants_.NATIVE_LANGUAGE != 'en'].index\n",
    "log = log.loc[~log.participant_id.isin(participants_nonnative)].copy()\n",
    "del participants_"
   ]
  },
  {
   "cell_type": "code",
   "execution_count": 54,
   "metadata": {
    "pycharm": {
     "name": "#%%\n"
    }
   },
   "outputs": [
    {
     "data": {
      "text/plain": [
       "is_sampled  os           \n",
       "False       Android          17858\n",
       "            iOS               4549\n",
       "            Windows Phone       22\n",
       "            Other                1\n",
       "True        iOS              13900\n",
       "            Android           1276\n",
       "Name: os, dtype: int64"
      ]
     },
     "execution_count": 54,
     "metadata": {},
     "output_type": "execute_result"
    }
   ],
   "source": [
    "participants['is_sampled'] = False\n",
    "participants.loc[log.participant_id.unique(),'is_sampled'] = True\n",
    "participants.groupby('is_sampled').os.value_counts()"
   ]
  },
  {
   "cell_type": "markdown",
   "metadata": {
    "pycharm": {
     "name": "#%% md\n"
    }
   },
   "source": [
    "**Conclusion**: Although a few of these filtering steps are baised towards removing Android users. The filtering step that seems to have the largets effect on the OS balance is the removal of the so-called \"multicharacter\" behaviour. This step changes the balance from around 55% iOS / 45% Android, to around 80% iOS / 20% Android."
   ]
  }
 ],
 "metadata": {
  "kernelspec": {
   "display_name": "Python 3",
   "language": "python",
   "name": "python3"
  },
  "language_info": {
   "codemirror_mode": {
    "name": "ipython",
    "version": 3
   },
   "file_extension": ".py",
   "mimetype": "text/x-python",
   "name": "python",
   "nbconvert_exporter": "python",
   "pygments_lexer": "ipython3",
   "version": "3.7.4"
  }
 },
 "nbformat": 4,
 "nbformat_minor": 2
}