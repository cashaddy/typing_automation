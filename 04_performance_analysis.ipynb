{
 "cells": [
  {
   "cell_type": "code",
   "execution_count": 1,
   "metadata": {},
   "outputs": [
    {
     "data": {
      "text/html": [
       "<style>.container { width:98% !important; }</style>"
      ],
      "text/plain": [
       "<IPython.core.display.HTML object>"
      ]
     },
     "metadata": {},
     "output_type": "display_data"
    }
   ],
   "source": [
    "from IPython.core.display import display, HTML\n",
    "display(HTML(\"<style>.container { width:98% !important; }</style>\"))"
   ]
  },
  {
   "cell_type": "code",
   "execution_count": 2,
   "metadata": {},
   "outputs": [],
   "source": [
    "import pandas as pd\n",
    "import matplotlib.pyplot as plt\n",
    "import json\n",
    "import seaborn as sns\n",
    "import numpy as np\n",
    "from scipy import stats, spatial\n",
    "import processing"
   ]
  },
  {
   "cell_type": "code",
   "execution_count": 3,
   "metadata": {},
   "outputs": [],
   "source": [
    "from sklearn import linear_model\n",
    "from sklearn import preprocessing\n",
    "from sklearn import model_selection\n",
    "from sklearn import metrics\n",
    "import statsmodels.api as sm"
   ]
  },
  {
   "cell_type": "markdown",
   "metadata": {},
   "source": [
    "## Performance analysis"
   ]
  },
  {
   "cell_type": "markdown",
   "metadata": {
    "heading_collapsed": true
   },
   "source": [
    "### Data prep"
   ]
  },
  {
   "cell_type": "code",
   "execution_count": 4,
   "metadata": {
    "hidden": true
   },
   "outputs": [],
   "source": [
    "words = pd.read_csv('./data/words.csv')"
   ]
  },
  {
   "cell_type": "code",
   "execution_count": 5,
   "metadata": {
    "hidden": true
   },
   "outputs": [],
   "source": [
    "log = pd.read_csv('./data/log_valid_processed.csv')"
   ]
  },
  {
   "cell_type": "code",
   "execution_count": 6,
   "metadata": {
    "hidden": true
   },
   "outputs": [],
   "source": [
    "participants = pd.read_csv('./data/participants_processed.csv',index_col=0)\n",
    "participants = participants.loc[participants.index.isin(log.participant_id.unique())].copy()"
   ]
  },
  {
   "cell_type": "code",
   "execution_count": 7,
   "metadata": {
    "hidden": true
   },
   "outputs": [],
   "source": [
    "mask = words.ite == 'none'\n",
    "mask &= words.word_length < 5\n",
    "mask &= words.freq_category == 'very_common'\n",
    "mask &= words.iki_letters.notna()\n",
    "\n",
    "participants['iki_natural'] = words.loc[mask].groupby('participant_id').iki_letters.mean()\n",
    "\n",
    "# Letter-only speed\n",
    "mask = words.ite == 'none'\n",
    "participants['iki_letters'] = words.loc[mask].groupby('participant_id').iki_letters.mean()\n",
    "\n",
    "# Letters and selection speed\n",
    "participants['iki_letters_and_ite'] = words.groupby('participant_id').iki_letters_and_ite.mean() \n",
    "\n",
    "# Overall speed\n",
    "iki_overall = log.groupby(['participant_id','ts_id']).iki.sum() / log.groupby(['participant_id','ts_id']).text_field.last().str.len()\n",
    "iki_overall = iki_overall.reset_index(name='iki').groupby('participant_id').iki.mean()\n",
    "participants['iki_overall'] = iki_overall\n",
    "\n",
    "# Remove NA speeds\n",
    "participants = participants.dropna(subset=['iki_natural','iki_letters','iki_letters_and_ite','iki_overall']).copy()\n",
    "\n",
    "# Remove extremely fast speeds (for example, due to outlier backend behaviour)\n",
    "participants = participants.loc[participants.iki_natural > 75].copy()\n",
    "\n",
    "# Calculate word suggestion usage\n",
    "participants['n_predict'] = words.groupby('participant_id').ite.value_counts().unstack()['predict'].fillna(0)\n",
    "participants['rate_predict'] = words.groupby('participant_id').ite.value_counts(normalize=True).unstack()['predict'].fillna(0)\n",
    "\n",
    "# Calculate keystrokes per character\n",
    "mask = log.lev_dist < 10 # Filter out poor LD calculations\n",
    "participants['KPC'] = log.loc[mask].groupby('participant_id').size() / log.loc[mask].groupby('participant_id').lev_dist.sum()\n",
    "\n",
    "# Separate into normal and suggestion users\n",
    "participants.loc[participants.n_predict < 1,'user_type'] = 'Normal'\n",
    "participants.loc[participants.n_predict > 5,'user_type'] = 'Suggestion users'"
   ]
  },
  {
   "cell_type": "markdown",
   "metadata": {
    "heading_collapsed": true
   },
   "source": [
    "### How many users in each group?"
   ]
  },
  {
   "cell_type": "code",
   "execution_count": 8,
   "metadata": {
    "hidden": true
   },
   "outputs": [
    {
     "data": {
      "text/plain": [
       "Suggestion users    2616\n",
       "Normal              2296\n",
       "Name: user_type, dtype: int64"
      ]
     },
     "execution_count": 8,
     "metadata": {},
     "output_type": "execute_result"
    }
   ],
   "source": [
    "participants.user_type.value_counts()"
   ]
  },
  {
   "cell_type": "markdown",
   "metadata": {
    "heading_collapsed": true
   },
   "source": [
    "### What is the mean natural speed of each group?"
   ]
  },
  {
   "cell_type": "code",
   "execution_count": 9,
   "metadata": {
    "hidden": true
   },
   "outputs": [
    {
     "data": {
      "text/plain": [
       "user_type\n",
       "Normal              5.424126\n",
       "Suggestion users    4.753959\n",
       "Name: iki_natural, dtype: float64"
      ]
     },
     "execution_count": 9,
     "metadata": {},
     "output_type": "execute_result"
    }
   ],
   "source": [
    "participants.groupby('user_type').iki_natural.mean().apply(np.reciprocal)*1000"
   ]
  },
  {
   "cell_type": "markdown",
   "metadata": {
    "heading_collapsed": true
   },
   "source": [
    "### How does suggestion usage affect typing speed?"
   ]
  },
  {
   "cell_type": "code",
   "execution_count": 10,
   "metadata": {
    "hidden": true
   },
   "outputs": [],
   "source": [
    "# Prepare a display table. Will fill later.\n",
    "disp = pd.DataFrame(    \n",
    "    index = ['Normal users','Suggestion users','Difference (controlled for natural speed)'],\n",
    "    columns=['Natural speed','Letter-only speed','Letter-and-selection speed','Overall speed']\n",
    ")"
   ]
  },
  {
   "cell_type": "code",
   "execution_count": 11,
   "metadata": {
    "hidden": true
   },
   "outputs": [
    {
     "data": {
      "image/png": "[encoded data removed]",
      "text/plain": [
       "<Figure size 504x324 with 1 Axes>"
      ]
     },
     "metadata": {},
     "output_type": "display_data"
    }
   ],
   "source": [
    "f,ax = plt.subplots(1,1,figsize=(7,4.5))\n",
    "\n",
    "# Data prep\n",
    "data = participants.copy()\n",
    "data = data.loc[data.user_type.notna()]\n",
    "data = data.loc[data.iki_natural.notna()]\n",
    "\n",
    "data.iki_natural = data.iki_natural.apply(np.reciprocal)*1000 # Convert iki to speed\n",
    "data.iki_overall = data.iki_overall.apply(np.reciprocal)*1000\n",
    "data.iki_letters = data.iki_letters.apply(np.reciprocal)*1000\n",
    "data.iki_letters_and_ite = data.iki_letters_and_ite.apply(np.reciprocal)*1000\n",
    "\n",
    "data = data.sort_values('user_type')\n",
    "data_melt = pd.melt(data[['user_type','iki_natural','iki_letters','iki_letters_and_ite','iki_overall']],id_vars='user_type') # Melt (easier to plot this way)\n",
    "\n",
    "# Plot\n",
    "sns.barplot('variable','value',hue='user_type',data=data_melt,ax=ax)\n",
    "\n",
    "ax.set_xlabel('')\n",
    "ax.set_xticklabels(['Natural\\nspeed', 'Letter-only\\nspeed','Letter + selection\\nspeed','Overall\\nspeed'])\n",
    "ax.set_ylabel('Speed (keystrokes / s)')\n",
    "ax.legend(title='User type')\n",
    "\n",
    "for item in ([ax.title, ax.xaxis.label, ax.yaxis.label] +\n",
    "             ax.get_xticklabels() + ax.get_yticklabels()):\n",
    "    item.set_fontsize(12)\n",
    "\n",
    "ax.legend(title='')\n",
    "\n",
    "f.tight_layout(pad=0)\n",
    "\n",
    "f.savefig('./figures/bar_typing_speeds.png', dpi=300)"
   ]
  },
  {
   "cell_type": "code",
   "execution_count": 12,
   "metadata": {
    "hidden": true
   },
   "outputs": [
    {
     "data": {
      "text/html": [
       "<style  type=\"text/css\" >\n",
       "    #T_5410c822_d60d_11e9_90fe_8c8590a5edecrow0_col0 {\n",
       "            white-space:  pre-wrap;\n",
       "        }    #T_5410c822_d60d_11e9_90fe_8c8590a5edecrow0_col1 {\n",
       "            white-space:  pre-wrap;\n",
       "        }    #T_5410c822_d60d_11e9_90fe_8c8590a5edecrow0_col2 {\n",
       "            white-space:  pre-wrap;\n",
       "        }    #T_5410c822_d60d_11e9_90fe_8c8590a5edecrow0_col3 {\n",
       "            white-space:  pre-wrap;\n",
       "        }    #T_5410c822_d60d_11e9_90fe_8c8590a5edecrow1_col0 {\n",
       "            white-space:  pre-wrap;\n",
       "        }    #T_5410c822_d60d_11e9_90fe_8c8590a5edecrow1_col1 {\n",
       "            white-space:  pre-wrap;\n",
       "        }    #T_5410c822_d60d_11e9_90fe_8c8590a5edecrow1_col2 {\n",
       "            white-space:  pre-wrap;\n",
       "        }    #T_5410c822_d60d_11e9_90fe_8c8590a5edecrow1_col3 {\n",
       "            white-space:  pre-wrap;\n",
       "        }    #T_5410c822_d60d_11e9_90fe_8c8590a5edecrow2_col0 {\n",
       "            white-space:  pre-wrap;\n",
       "        }    #T_5410c822_d60d_11e9_90fe_8c8590a5edecrow2_col1 {\n",
       "            white-space:  pre-wrap;\n",
       "        }    #T_5410c822_d60d_11e9_90fe_8c8590a5edecrow2_col2 {\n",
       "            white-space:  pre-wrap;\n",
       "        }    #T_5410c822_d60d_11e9_90fe_8c8590a5edecrow2_col3 {\n",
       "            white-space:  pre-wrap;\n",
       "        }</style>  \n",
       "<table id=\"T_5410c822_d60d_11e9_90fe_8c8590a5edec\" > \n",
       "<thead>    <tr> \n",
       "        <th class=\"blank level0\" ></th> \n",
       "        <th class=\"col_heading level0 col0\" >Natural speed</th> \n",
       "        <th class=\"col_heading level0 col1\" >Letter-only speed</th> \n",
       "        <th class=\"col_heading level0 col2\" >Letter-and-selection speed</th> \n",
       "        <th class=\"col_heading level0 col3\" >Overall speed</th> \n",
       "    </tr></thead> \n",
       "<tbody>    <tr> \n",
       "        <th id=\"T_5410c822_d60d_11e9_90fe_8c8590a5edeclevel0_row0\" class=\"row_heading level0 row0\" >Normal users</th> \n",
       "        <td id=\"T_5410c822_d60d_11e9_90fe_8c8590a5edecrow0_col0\" class=\"data row0 col0\" >6.1\n",
       "(1.81)</td> \n",
       "        <td id=\"T_5410c822_d60d_11e9_90fe_8c8590a5edecrow0_col1\" class=\"data row0 col1\" >5.58\n",
       "(1.69)</td> \n",
       "        <td id=\"T_5410c822_d60d_11e9_90fe_8c8590a5edecrow0_col2\" class=\"data row0 col2\" >5.58\n",
       "(1.68)</td> \n",
       "        <td id=\"T_5410c822_d60d_11e9_90fe_8c8590a5edecrow0_col3\" class=\"data row0 col3\" >4.16\n",
       "(1.47)</td> \n",
       "    </tr>    <tr> \n",
       "        <th id=\"T_5410c822_d60d_11e9_90fe_8c8590a5edeclevel0_row1\" class=\"row_heading level0 row1\" >Suggestion users</th> \n",
       "        <td id=\"T_5410c822_d60d_11e9_90fe_8c8590a5edecrow1_col0\" class=\"data row1 col0\" >5.24\n",
       "(1.44)</td> \n",
       "        <td id=\"T_5410c822_d60d_11e9_90fe_8c8590a5edecrow1_col1\" class=\"data row1 col1\" >4.69\n",
       "(1.29)</td> \n",
       "        <td id=\"T_5410c822_d60d_11e9_90fe_8c8590a5edecrow1_col2\" class=\"data row1 col2\" >4.1\n",
       "(1.21)</td> \n",
       "        <td id=\"T_5410c822_d60d_11e9_90fe_8c8590a5edecrow1_col3\" class=\"data row1 col3\" >3.2\n",
       "(0.86)</td> \n",
       "    </tr>    <tr> \n",
       "        <th id=\"T_5410c822_d60d_11e9_90fe_8c8590a5edeclevel0_row2\" class=\"row_heading level0 row2\" >Difference (controlled for natural speed)</th> \n",
       "        <td id=\"T_5410c822_d60d_11e9_90fe_8c8590a5edecrow2_col0\" class=\"data row2 col0\" >nan</td> \n",
       "        <td id=\"T_5410c822_d60d_11e9_90fe_8c8590a5edecrow2_col1\" class=\"data row2 col1\" >nan</td> \n",
       "        <td id=\"T_5410c822_d60d_11e9_90fe_8c8590a5edecrow2_col2\" class=\"data row2 col2\" >nan</td> \n",
       "        <td id=\"T_5410c822_d60d_11e9_90fe_8c8590a5edecrow2_col3\" class=\"data row2 col3\" >nan</td> \n",
       "    </tr></tbody> \n",
       "</table> "
      ],
      "text/plain": [
       "<pandas.io.formats.style.Styler at 0x112d49f28>"
      ]
     },
     "metadata": {},
     "output_type": "display_data"
    }
   ],
   "source": [
    "# Display the means\n",
    "res = data[[\n",
    "    'user_type',\n",
    "    'iki_natural',\n",
    "    'iki_letters',\n",
    "    'iki_letters_and_ite',\n",
    "    'iki_overall'\n",
    "]].groupby('user_type').mean().round(2)\n",
    "\n",
    "disp.loc['Normal users'] = res.loc['Normal'].apply(str).values\n",
    "disp.loc['Suggestion users'] = res.loc['Suggestion users'].apply(str).values\n",
    "\n",
    "# Open parantheses\n",
    "disp.loc['Normal users'] += '\\n('\n",
    "disp.loc['Suggestion users'] += '\\n('\n",
    "\n",
    "# Display the stderr\n",
    "res = data[[\n",
    "    'user_type',\n",
    "    'iki_natural',\n",
    "    'iki_letters',\n",
    "    'iki_letters_and_ite',\n",
    "    'iki_overall'\n",
    "]].groupby('user_type').std().round(2)\n",
    "disp.loc['Normal users'] += res.loc['Normal'].apply(str).values\n",
    "disp.loc['Suggestion users'] += res.loc['Suggestion users'].apply(str).values\n",
    "\n",
    "# Close parantheses\n",
    "disp.loc['Normal users'] += ')'\n",
    "disp.loc['Suggestion users'] += ')'\n",
    "\n",
    "from IPython.display import display\n",
    "\n",
    "# Display\n",
    "display(disp.style.set_properties(**{\n",
    "    'white-space': 'pre-wrap',\n",
    "}))"
   ]
  },
  {
   "cell_type": "code",
   "execution_count": 13,
   "metadata": {
    "hidden": true,
    "scrolled": false
   },
   "outputs": [
    {
     "name": "stdout",
     "output_type": "stream",
     "text": [
      "\n",
      "letters\n",
      "mag:  -0.11958763189364728\n",
      "std:  0.009623680434076874\n",
      "p:  6.2697397531731e-35\n",
      "r2:  0.9560624914874347\n",
      "\n",
      "letters_and_ite\n",
      "mag:  -0.7485161882465841\n",
      "std:  0.012722275871930772\n",
      "p:  0.0\n",
      "r2:  0.929930645820532\n",
      "\n",
      "overall\n",
      "mag:  -0.42718804160006135\n",
      "std:  0.018824002871494033\n",
      "p:  1.659390614099466e-108\n",
      "r2:  0.7523173307120645\n"
     ]
    }
   ],
   "source": [
    "\n",
    "data = participants.dropna(subset=['user_type']).copy()\n",
    "data['user_bool'] = data.user_type.map({'Normal': 0, 'Suggestion users': 1}) # convert to boolean (for OLS)\n",
    "data.rate_predict = data.rate_predict.apply(np.reciprocal) # Reciprocal transform (otherwise data is not normally distributed)\n",
    "data.iki_natural = data.iki_natural.apply(np.reciprocal) * 1000 # Convert to speed\n",
    "\n",
    "# For each type of IKI, perform an OLS\n",
    "for i in ['letters','letters_and_ite','overall']:\n",
    "    data = data.dropna(subset=['iki_'+i,'rate_predict']) # Drop any nan\n",
    "    data['speed'] = data['iki_'+i].apply(np.reciprocal) * 1000 # Convert to speed\n",
    "    \n",
    "    # Separate into X and y\n",
    "    X = data[['user_bool','iki_natural']]\n",
    "    X = sm.add_constant(X)\n",
    "    y = data[['speed']]\n",
    "    \n",
    "    # OLS\n",
    "    model = sm.OLS(y,X)\n",
    "    results = model.fit()\n",
    "    \n",
    "    # Print results\n",
    "    print()\n",
    "    print(i)\n",
    "    print('mag: ',results.params[1])\n",
    "    print('std: ', results.bse[1])\n",
    "    print('p: ', results.pvalues[1])\n",
    "    print('r2: ',results.rsquared)"
   ]
  },
  {
   "cell_type": "markdown",
   "metadata": {
    "heading_collapsed": true
   },
   "source": [
    "### How does the extent of suggestion usage affect typing speed?"
   ]
  },
  {
   "cell_type": "markdown",
   "metadata": {
    "hidden": true
   },
   "source": [
    "This is very similar to the previous analysis, except that instead if a boolean (suggestion vs. non-suggestion users), we have a continuous variabel representing the suggestion usage rate."
   ]
  },
  {
   "cell_type": "code",
   "execution_count": 14,
   "metadata": {
    "hidden": true,
    "scrolled": false
   },
   "outputs": [
    {
     "name": "stdout",
     "output_type": "stream",
     "text": [
      "\n",
      "natural\n",
      "slope:  -0.4496528180856348\n",
      "std:  0.1510706787520185\n",
      "p:  0.002947806615840723\n",
      "r2:  0.7889945018547652\n",
      "\n",
      "letters\n",
      "slope:  0.005949399322118759\n",
      "std:  0.0016548700466468788\n",
      "p:  0.00033138588181907014\n",
      "r2:  0.9238082448158167\n",
      "\n",
      "letters_and_ite\n",
      "slope:  0.05162257539674885\n",
      "std:  0.0018130329280324992\n",
      "p:  3.4470080727822987e-152\n",
      "r2:  0.8844319458460106\n",
      "\n",
      "overall\n",
      "slope:  0.026786770357663716\n",
      "std:  0.002631595296031193\n",
      "p:  8.177505804394318e-24\n",
      "r2:  0.5976504072637203\n"
     ]
    }
   ],
   "source": [
    "data = participants.loc[(participants.n_predict > 5) & (participants.n_predict < 20)].copy()\n",
    "data.rate_predict = data.rate_predict.apply(np.reciprocal)\n",
    "data.iki_natural = data.iki_natural.apply(np.reciprocal) * 1000\n",
    "\n",
    "# For each type of IKI, perform an OLS\n",
    "for i in ['natural','letters','letters_and_ite','overall']:\n",
    "    data = data.dropna(subset=['iki_'+i,'rate_predict'])\n",
    "    data['speed'] = data['iki_'+i].apply(np.reciprocal) * 1000 # Convert to speed\n",
    "    \n",
    "    X = data[['rate_predict','iki_natural']]\n",
    "    X = sm.add_constant(X)\n",
    "    y = data[['speed']]\n",
    "    \n",
    "    # OLS\n",
    "    model = sm.OLS(y,X)\n",
    "    results = model.fit()\n",
    "    \n",
    "    # Print results\n",
    "    print()\n",
    "    print(i)\n",
    "    print('slope: ',results.params[1])\n",
    "    print('std: ', results.bse[1])\n",
    "    print('p: ', results.pvalues[1])\n",
    "    print('r2: ',results.rsquared)"
   ]
  },
  {
   "cell_type": "markdown",
   "metadata": {
    "hidden": true
   },
   "source": [
    "Visualize the regression we just did for overall speed"
   ]
  },
  {
   "cell_type": "code",
   "execution_count": 15,
   "metadata": {
    "hidden": true
   },
   "outputs": [],
   "source": [
    "# Data prep\n",
    "data = participants.loc[(participants.n_predict > 5) & (participants.n_predict < 20)].copy()\n",
    "data['speed_overall'] = data.iki_overall.apply(np.reciprocal) * 1000\n",
    "data.rate_predict = data.rate_predict.apply(np.reciprocal)"
   ]
  },
  {
   "cell_type": "code",
   "execution_count": 16,
   "metadata": {
    "hidden": true
   },
   "outputs": [
    {
     "name": "stdout",
     "output_type": "stream",
     "text": [
      "0.06561416464962021 0.003717638610890684 2.504315554139865e-65 0.3513408160296149\n"
     ]
    }
   ],
   "source": [
    "# OLS\n",
    "slope,intercept, r, p, std = stats.linregress(data.rate_predict,data.speed_overall)\n",
    "print(slope,std,p,r)"
   ]
  },
  {
   "cell_type": "code",
   "execution_count": 17,
   "metadata": {
    "hidden": true
   },
   "outputs": [
    {
     "data": {
      "image/png": "[encoded data removed]",
      "text/plain": [
       "<Figure size 576x396 with 1 Axes>"
      ]
     },
     "metadata": {},
     "output_type": "display_data"
    }
   ],
   "source": [
    "f,ax = plt.subplots(1,1,figsize=(8,5.5))\n",
    "\n",
    "# Plot the points\n",
    "sns.scatterplot('rate_predict','speed_overall',data=data,ax=ax,color='C0',s=20)\n",
    "\n",
    "# Plot the regression line\n",
    "sns.lineplot([2,27],[intercept,slope*40 + intercept],color='k',lw=3)\n",
    "\n",
    "ax.set_ylim((0,7))\n",
    "ax.set_xlabel('Suggestion usage rate\\n(words per suggestion)')\n",
    "ax.set_ylabel('Typing speed (keystrokes / s)')\n",
    "\n",
    "for item in ([ax.title, ax.xaxis.label, ax.yaxis.label] +\n",
    "             ax.get_xticklabels() + ax.get_yticklabels()):\n",
    "    item.set_fontsize(12)\n",
    "\n",
    "ax.grid()\n",
    "\n",
    "f.tight_layout(pad=0)\n",
    "\n",
    "f.savefig('./figures/regression_speed.png',dpi=300)"
   ]
  },
  {
   "cell_type": "markdown",
   "metadata": {
    "heading_collapsed": true
   },
   "source": [
    "### How does the extent of usage affect KPC?"
   ]
  },
  {
   "cell_type": "code",
   "execution_count": 18,
   "metadata": {
    "hidden": true
   },
   "outputs": [],
   "source": [
    "# Data prep\n",
    "mask = (participants.n_predict > 5) # Only look at suggestion users\n",
    "mask &= (participants.n_predict < 26) # Exclude heavy usage (not enough data)\n",
    "data = participants.loc[mask].copy()\n",
    "\n",
    "X = data.rate_predict\n",
    "X = sm.add_constant(X)\n",
    "y = data.KPC"
   ]
  },
  {
   "cell_type": "code",
   "execution_count": 19,
   "metadata": {
    "hidden": true
   },
   "outputs": [
    {
     "data": {
      "text/html": [
       "<table class=\"simpletable\">\n",
       "<caption>OLS Regression Results</caption>\n",
       "<tr>\n",
       "  <th>Dep. Variable:</th>           <td>KPC</td>       <th>  R-squared:         </th>  <td>   0.494</td> \n",
       "</tr>\n",
       "<tr>\n",
       "  <th>Model:</th>                   <td>OLS</td>       <th>  Adj. R-squared:    </th>  <td>   0.494</td> \n",
       "</tr>\n",
       "<tr>\n",
       "  <th>Method:</th>             <td>Least Squares</td>  <th>  F-statistic:       </th>  <td>   2338.</td> \n",
       "</tr>\n",
       "<tr>\n",
       "  <th>Date:</th>             <td>Fri, 13 Sep 2019</td> <th>  Prob (F-statistic):</th>   <td>  0.00</td>  \n",
       "</tr>\n",
       "<tr>\n",
       "  <th>Time:</th>                 <td>12:00:35</td>     <th>  Log-Likelihood:    </th>  <td>  6238.1</td> \n",
       "</tr>\n",
       "<tr>\n",
       "  <th>No. Observations:</th>      <td>  2397</td>      <th>  AIC:               </th> <td>-1.247e+04</td>\n",
       "</tr>\n",
       "<tr>\n",
       "  <th>Df Residuals:</th>          <td>  2395</td>      <th>  BIC:               </th> <td>-1.246e+04</td>\n",
       "</tr>\n",
       "<tr>\n",
       "  <th>Df Model:</th>              <td>     1</td>      <th>                     </th>      <td> </td>    \n",
       "</tr>\n",
       "<tr>\n",
       "  <th>Covariance Type:</th>      <td>nonrobust</td>    <th>                     </th>      <td> </td>    \n",
       "</tr>\n",
       "</table>\n",
       "<table class=\"simpletable\">\n",
       "<tr>\n",
       "        <td></td>          <th>coef</th>     <th>std err</th>      <th>t</th>      <th>P>|t|</th>  <th>[0.025</th>    <th>0.975]</th>  \n",
       "</tr>\n",
       "<tr>\n",
       "  <th>const</th>        <td>    0.9937</td> <td>    0.001</td> <td> 1153.377</td> <td> 0.000</td> <td>    0.992</td> <td>    0.995</td>\n",
       "</tr>\n",
       "<tr>\n",
       "  <th>rate_predict</th> <td>   -0.3964</td> <td>    0.008</td> <td>  -48.352</td> <td> 0.000</td> <td>   -0.412</td> <td>   -0.380</td>\n",
       "</tr>\n",
       "</table>\n",
       "<table class=\"simpletable\">\n",
       "<tr>\n",
       "  <th>Omnibus:</th>       <td>1936.261</td> <th>  Durbin-Watson:     </th>  <td>   1.968</td> \n",
       "</tr>\n",
       "<tr>\n",
       "  <th>Prob(Omnibus):</th>  <td> 0.000</td>  <th>  Jarque-Bera (JB):  </th> <td>204255.216</td>\n",
       "</tr>\n",
       "<tr>\n",
       "  <th>Skew:</th>           <td>-3.155</td>  <th>  Prob(JB):          </th>  <td>    0.00</td> \n",
       "</tr>\n",
       "<tr>\n",
       "  <th>Kurtosis:</th>       <td>47.781</td>  <th>  Cond. No.          </th>  <td>    22.6</td> \n",
       "</tr>\n",
       "</table><br/><br/>Warnings:<br/>[1] Standard Errors assume that the covariance matrix of the errors is correctly specified."
      ],
      "text/plain": [
       "<class 'statsmodels.iolib.summary.Summary'>\n",
       "\"\"\"\n",
       "                            OLS Regression Results                            \n",
       "==============================================================================\n",
       "Dep. Variable:                    KPC   R-squared:                       0.494\n",
       "Model:                            OLS   Adj. R-squared:                  0.494\n",
       "Method:                 Least Squares   F-statistic:                     2338.\n",
       "Date:                Fri, 13 Sep 2019   Prob (F-statistic):               0.00\n",
       "Time:                        12:00:35   Log-Likelihood:                 6238.1\n",
       "No. Observations:                2397   AIC:                        -1.247e+04\n",
       "Df Residuals:                    2395   BIC:                        -1.246e+04\n",
       "Df Model:                           1                                         \n",
       "Covariance Type:            nonrobust                                         \n",
       "================================================================================\n",
       "                   coef    std err          t      P>|t|      [0.025      0.975]\n",
       "--------------------------------------------------------------------------------\n",
       "const            0.9937      0.001   1153.377      0.000       0.992       0.995\n",
       "rate_predict    -0.3964      0.008    -48.352      0.000      -0.412      -0.380\n",
       "==============================================================================\n",
       "Omnibus:                     1936.261   Durbin-Watson:                   1.968\n",
       "Prob(Omnibus):                  0.000   Jarque-Bera (JB):           204255.216\n",
       "Skew:                          -3.155   Prob(JB):                         0.00\n",
       "Kurtosis:                      47.781   Cond. No.                         22.6\n",
       "==============================================================================\n",
       "\n",
       "Warnings:\n",
       "[1] Standard Errors assume that the covariance matrix of the errors is correctly specified.\n",
       "\"\"\""
      ]
     },
     "execution_count": 19,
     "metadata": {},
     "output_type": "execute_result"
    }
   ],
   "source": [
    "# OLS\n",
    "model = sm.OLS(y,X)\n",
    "results = model.fit()\n",
    "\n",
    "results.summary()"
   ]
  },
  {
   "cell_type": "code",
   "execution_count": 20,
   "metadata": {
    "hidden": true
   },
   "outputs": [
    {
     "data": {
      "image/png": "[encoded data removed]",
      "text/plain": [
       "<Figure size 576x288 with 1 Axes>"
      ]
     },
     "metadata": {},
     "output_type": "display_data"
    }
   ],
   "source": [
    "f,ax = plt.subplots(1,1,figsize=(8,4))\n",
    "\n",
    "# Plot the points\n",
    "ax = sns.scatterplot(data.rate_predict, data.KPC, color='C0',s=7)\n",
    "\n",
    "# Plot the regression line\n",
    "xmin = X.min()[1]\n",
    "xmax = X.max()[1]\n",
    "intercept, slope = results.params[0], results.params[1]\n",
    "sns.lineplot([xmin,xmax],[slope*xmin + intercept,slope*xmax + intercept],color='k',lw=2)\n",
    "\n",
    "ax.set_xlabel('Number of suggestions used')\n",
    "ax.set_ylabel('Keystrokes per character')\n",
    "\n",
    "f.savefig('./figures/regression_kpc.png',dpi=300)"
   ]
  },
  {
   "cell_type": "code",
   "execution_count": null,
   "metadata": {
    "hidden": true
   },
   "outputs": [],
   "source": []
  }
 ],
 "metadata": {
  "kernelspec": {
   "display_name": "Python 3",
   "language": "python",
   "name": "python3"
  },
  "language_info": {
   "codemirror_mode": {
    "name": "ipython",
    "version": 3
   },
   "file_extension": ".py",
   "mimetype": "text/x-python",
   "name": "python",
   "nbconvert_exporter": "python",
   "pygments_lexer": "ipython3",
   "version": "3.6.7"
  }
 },
 "nbformat": 4,
 "nbformat_minor": 2
}
