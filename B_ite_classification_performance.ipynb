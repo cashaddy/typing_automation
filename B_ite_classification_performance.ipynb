{
 "cells": [
  {
   "cell_type": "code",
   "execution_count": 1,
   "metadata": {},
   "outputs": [],
   "source": [
    "import pandas as pd\n",
    "from sklearn import preprocessing, metrics\n",
    "import processing"
   ]
  },
  {
   "cell_type": "markdown",
   "metadata": {},
   "source": [
    "Due to the filtering of abnormal behaviour and of swipe users, we end up with very little data to benchmark with. Even worse, if we get rid of non-native English speakers, we end up with no data!"
   ]
  },
  {
   "cell_type": "code",
   "execution_count": 2,
   "metadata": {},
   "outputs": [],
   "source": [
    "log = processing.get_log('./data/log_lab_participants.csv',filtering=False)"
   ]
  },
  {
   "cell_type": "code",
   "execution_count": 3,
   "metadata": {},
   "outputs": [],
   "source": [
    "words = processing.log_to_words(log)\n",
    "words['ite_true'] = None"
   ]
  },
  {
   "cell_type": "markdown",
   "metadata": {},
   "source": [
    "Overall, there is a good match between the words on the annotated list and the words that were aggregated. We print below the words that are in the annotations but not in the dataset."
   ]
  },
  {
   "cell_type": "code",
   "execution_count": 4,
   "metadata": {
    "scrolled": false
   },
   "outputs": [
    {
     "name": "stdout",
     "output_type": "stream",
     "text": [
      "1626925 called\n",
      "1626947 into\n",
      "1626958 Paging\n",
      "1626969 Toomer\n",
      "1644280 price\n",
      "1644290 today\n",
      "1644301 in\n",
      "1644346 the\n",
      "1644346 the\n",
      "1644346 the\n",
      "1647681 appreciate\n",
      "1647697 is\n",
      "1647697 is\n",
      "1647718 14-year-old\n",
      "1647727 he\n",
      "1647727 he\n",
      "1715720 Interconnect\n",
      "1715726 brought\n",
      "1715726 forward\n",
      "1715732 Fantasy\n",
      "1715738 to\n",
      "1715738 to\n",
      "1715740 lost\n",
      "1715740 ground\n",
      "1715740 against\n",
      "1715746 Fittipaldi\n",
      "1715746 has\n",
      "1715746 had\n",
      "1715755 was\n",
      "1715755 were\n",
      "1715761 take\n",
      "1715762 we\n",
      "1715762 we\n",
      "1718251 Others\n",
      "1718260 message\n",
      "1718269 him\n",
      "1718269 agaist\n",
      "1718269 stifling\n",
      "1718286 What\n",
      "1718286 the\n",
      "1718340 agreed\n",
      "1718374 I\n",
      "1718374 am\n",
      "1718374 hotel\n",
      "1718385 came\n",
      "1718395 this\n",
      "1718410 adversarial\n",
      "1718410 going\n",
      "1718441 Samantha\n",
      "1735929 babies\n",
      "1735929 young\n",
      "1735929 children\n",
      "1735933 he\n",
      "1735939 does\n",
      "1735957 Mochrie\n",
      "1735957 steady\n",
      "1735957 the\n",
      "1735957 the\n",
      "1735964 to\n",
      "1735964 six\n",
      "1735964 to\n",
      "1752162 on\n",
      "1752191 San\n",
      "1752195 mate\n",
      "1753210 day\n",
      "1753210 day\n",
      "1753354 pleased\n",
      "1753371 Fantasy\n",
      "1753371 Football\n",
      "1753396 Thanks\n",
      "1753403 I\n",
      "1753403 am\n",
      "1753407 if\n",
      "1753414 a\n",
      "1753418 BP\n",
      "1753424 be\n",
      "1753427 you\n",
      "1753427 let\n",
      "1753430 price\n"
     ]
    }
   ],
   "source": [
    "with open('./data/typing_lab_annotations_machine.txt') as f:\n",
    "    for l in f:\n",
    "        if 'ts_id' in l:\n",
    "            ts = int(l.strip().split(':')[1])\n",
    "        elif l == '\\n':\n",
    "            pass\n",
    "        else:\n",
    "            w = l.strip().split(':')[0]\n",
    "            code = l.strip().split(':')[1]\n",
    "            if len(code) is not 3:\n",
    "                if code == '010*':\n",
    "                    ite = 'predict'\n",
    "                else:\n",
    "                    ite = code\n",
    "            else:\n",
    "                if code[0] == '1':\n",
    "                    ite = 'predict'\n",
    "                elif code[1] == '1':\n",
    "                    ite = 'autocorr'\n",
    "                elif code[2] == '1':\n",
    "                    ite = 'swype'\n",
    "                else:\n",
    "                    ite = 'none'\n",
    "            if words.loc[(words.ts_id == ts) & (words.word == w),'ite_true'].shape[0] != 1:\n",
    "                if ts not in words.ts_id.unique():\n",
    "                    pass\n",
    "                else:\n",
    "                    print(ts,w)\n",
    "            try:\n",
    "                words.loc[(words.ts_id == ts) & (words.word == w),'ite_true'] = ite\n",
    "            except:\n",
    "                pass\n",
    "                    \n",
    "            "
   ]
  },
  {
   "cell_type": "code",
   "execution_count": 5,
   "metadata": {},
   "outputs": [
    {
     "data": {
      "text/html": [
       "<div>\n",
       "<style scoped>\n",
       "    .dataframe tbody tr th:only-of-type {\n",
       "        vertical-align: middle;\n",
       "    }\n",
       "\n",
       "    .dataframe tbody tr th {\n",
       "        vertical-align: top;\n",
       "    }\n",
       "\n",
       "    .dataframe thead th {\n",
       "        text-align: right;\n",
       "    }\n",
       "</style>\n",
       "<table border=\"1\" class=\"dataframe\">\n",
       "  <thead>\n",
       "    <tr style=\"text-align: right;\">\n",
       "      <th></th>\n",
       "      <th>False</th>\n",
       "      <th>True</th>\n",
       "    </tr>\n",
       "  </thead>\n",
       "  <tbody>\n",
       "    <tr>\n",
       "      <th>False</th>\n",
       "      <td>724</td>\n",
       "      <td>193</td>\n",
       "    </tr>\n",
       "    <tr>\n",
       "      <th>True</th>\n",
       "      <td>11</td>\n",
       "      <td>86</td>\n",
       "    </tr>\n",
       "  </tbody>\n",
       "</table>\n",
       "</div>"
      ],
      "text/plain": [
       "       False  True \n",
       "False    724    193\n",
       "True      11     86"
      ]
     },
     "execution_count": 5,
     "metadata": {},
     "output_type": "execute_result"
    }
   ],
   "source": [
    "y_test = words.ite_true.fillna('null') == 'predict'\n",
    "y_pred = words.ite == 'predict'\n",
    "confusion = pd.DataFrame(metrics.confusion_matrix(y_test,y_pred), index=[False, True], columns=[False,True])\n",
    "confusion"
   ]
  },
  {
   "cell_type": "markdown",
   "metadata": {},
   "source": [
    "Depending on the filtering we do, we get different results."
   ]
  }
 ],
 "metadata": {
  "kernelspec": {
   "display_name": "Python 3",
   "language": "python",
   "name": "python3"
  },
  "language_info": {
   "codemirror_mode": {
    "name": "ipython",
    "version": 3
   },
   "file_extension": ".py",
   "mimetype": "text/x-python",
   "name": "python",
   "nbconvert_exporter": "python",
   "pygments_lexer": "ipython3",
   "version": "3.6.6"
  }
 },
 "nbformat": 4,
 "nbformat_minor": 2
}
